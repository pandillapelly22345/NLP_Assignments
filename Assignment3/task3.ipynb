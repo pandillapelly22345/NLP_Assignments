{
  "metadata": {
    "kernelspec": {
      "language": "python",
      "display_name": "Python 3",
      "name": "python3"
    },
    "language_info": {
      "name": "python",
      "version": "3.10.12",
      "mimetype": "text/x-python",
      "codemirror_mode": {
        "name": "ipython",
        "version": 3
      },
      "pygments_lexer": "ipython3",
      "nbconvert_exporter": "python",
      "file_extension": ".py"
    },
    "kaggle": {
      "accelerator": "gpu",
      "dataSources": [
        {
          "sourceId": 11263715,
          "sourceType": "datasetVersion",
          "datasetId": 7040289
        }
      ],
      "dockerImageVersionId": 30919,
      "isInternetEnabled": true,
      "language": "python",
      "sourceType": "notebook",
      "isGpuEnabled": true
    },
    "colab": {
      "name": "notebook4327b8c5a6",
      "provenance": []
    }
  },
  "nbformat_minor": 0,
  "nbformat": 4,
  "cells": [
    {
      "source": [
        "# IMPORTANT: SOME KAGGLE DATA SOURCES ARE PRIVATE\n",
        "# RUN THIS CELL IN ORDER TO IMPORT YOUR KAGGLE DATA SOURCES.\n",
        "import kagglehub\n",
        "kagglehub.login()\n"
      ],
      "metadata": {
        "id": "7J3z2IFlCDgv"
      },
      "cell_type": "code",
      "outputs": [],
      "execution_count": null
    },
    {
      "source": [
        "# IMPORTANT: RUN THIS CELL IN ORDER TO IMPORT YOUR KAGGLE DATA SOURCES,\n",
        "# THEN FEEL FREE TO DELETE THIS CELL.\n",
        "# NOTE: THIS NOTEBOOK ENVIRONMENT DIFFERS FROM KAGGLE'S PYTHON\n",
        "# ENVIRONMENT SO THERE MAY BE MISSING LIBRARIES USED BY YOUR\n",
        "# NOTEBOOK.\n",
        "\n",
        "harshvardhinip_more_nlp_path = kagglehub.dataset_download('harshvardhinip/more-nlp')\n",
        "\n",
        "print('Data source import complete.')\n"
      ],
      "metadata": {
        "id": "QW7bIIfoCDgx"
      },
      "cell_type": "code",
      "outputs": [],
      "execution_count": null
    },
    {
      "cell_type": "code",
      "source": [
        "# # This Python 3 environment comes with many helpful analytics libraries installed\n",
        "# # It is defined by the kaggle/python Docker image: https://github.com/kaggle/docker-python\n",
        "# # For example, here's several helpful packages to load\n",
        "\n",
        "# import numpy as np # linear algebra\n",
        "# import pandas as pd # data processing, CSV file I/O (e.g. pd.read_csv)\n",
        "\n",
        "# # Input data files are available in the read-only \"../input/\" directory\n",
        "# # For example, running this (by clicking run or pressing Shift+Enter) will list all files under the input directory\n",
        "\n",
        "# import os\n",
        "# for dirname, _, filenames in os.walk('/kaggle/input'):\n",
        "#     for filename in filenames:\n",
        "#         print(os.path.join(dirname, filename))\n",
        "\n",
        "# # You can write up to 20GB to the current directory (/kaggle/working/) that gets preserved as output when you create a version using \"Save & Run All\"\n",
        "# # You can also write temporary files to /kaggle/temp/, but they won't be saved outside of the current session"
      ],
      "metadata": {
        "_uuid": "8f2839f25d086af736a60e9eeb907d3b93b6e0e5",
        "_cell_guid": "b1076dfc-b9ad-4769-8c92-a6c4dae69d19",
        "trusted": true,
        "execution": {
          "iopub.status.busy": "2025-04-08T14:18:11.203237Z",
          "iopub.execute_input": "2025-04-08T14:18:11.203545Z",
          "iopub.status.idle": "2025-04-08T14:18:11.207505Z",
          "shell.execute_reply.started": "2025-04-08T14:18:11.203514Z",
          "shell.execute_reply": "2025-04-08T14:18:11.206621Z"
        },
        "id": "yZxyEi5qCDgx"
      },
      "outputs": [],
      "execution_count": null
    },
    {
      "cell_type": "code",
      "source": [
        "import nltk\n",
        "from nltk.translate.bleu_score import sentence_bleu\n",
        "\n",
        "# Tokenize text\n",
        "text = \"Natural language processing is fun!\"\n",
        "tokens = nltk.word_tokenize(text)\n",
        "print(tokens)\n",
        "\n",
        "# Compute BLEU score for evaluation\n",
        "reference = [[\"sarcasm\", \"is\", \"not\", \"obvious\"]]\n",
        "candidate = [\"sarcasm\", \"is\", \"subtle\"]\n",
        "bleu_score = sentence_bleu(reference, candidate)\n",
        "print(f\"BLEU Score: {bleu_score}\")\n"
      ],
      "metadata": {
        "trusted": true,
        "execution": {
          "iopub.status.busy": "2025-04-09T12:53:49.960416Z",
          "iopub.execute_input": "2025-04-09T12:53:49.960705Z",
          "iopub.status.idle": "2025-04-09T12:53:51.762618Z",
          "shell.execute_reply.started": "2025-04-09T12:53:49.960677Z",
          "shell.execute_reply": "2025-04-09T12:53:51.761606Z"
        },
        "id": "3xVk5iG3CDgy",
        "outputId": "3e607dca-8b72-4f87-99f9-e098bebfd8b6"
      },
      "outputs": [
        {
          "name": "stdout",
          "text": "['Natural', 'language', 'processing', 'is', 'fun', '!']\nBLEU Score: 0.5444460596606694\n",
          "output_type": "stream"
        },
        {
          "name": "stderr",
          "text": "/usr/local/lib/python3.10/dist-packages/nltk/translate/bleu_score.py:490: UserWarning: \nCorpus/Sentence contains 0 counts of 3-gram overlaps.\nBLEU scores might be undesirable; use SmoothingFunction().\n  warnings.warn(_msg)\n",
          "output_type": "stream"
        }
      ],
      "execution_count": null
    },
    {
      "cell_type": "code",
      "source": [
        "import torch\n",
        "import pandas as pd\n",
        "import numpy as np\n",
        "import pickle\n",
        "from transformers import BartTokenizer, BartForConditionalGeneration, ViTModel\n",
        "from torch.utils.data import Dataset, DataLoader\n",
        "import torch\n",
        "import torch.nn as nn\n",
        "import torch.optim as optim\n",
        "from transformers import BartTokenizer, BartForConditionalGeneration, ViTModel\n",
        "import pandas as pd\n",
        "import pickle\n",
        "from torch.utils.data import Dataset, DataLoader\n",
        "from PIL import Image\n",
        "from torchvision import transforms\n"
      ],
      "metadata": {
        "trusted": true,
        "execution": {
          "iopub.status.busy": "2025-04-09T12:58:20.5175Z",
          "iopub.execute_input": "2025-04-09T12:58:20.517863Z",
          "iopub.status.idle": "2025-04-09T12:58:39.972594Z",
          "shell.execute_reply.started": "2025-04-09T12:58:20.517836Z",
          "shell.execute_reply": "2025-04-09T12:58:39.97195Z"
        },
        "id": "bcylIxgdCDgy"
      },
      "outputs": [],
      "execution_count": null
    },
    {
      "cell_type": "markdown",
      "source": [
        "### Preprocessing"
      ],
      "metadata": {
        "id": "kDe0OhYgCDgz"
      }
    },
    {
      "cell_type": "code",
      "source": [
        "\n",
        "DATA_PATH = \"/kaggle/input/more-nlp/MORE-PLUS-DATASET/\"\n",
        "\n",
        "df_train = pd.read_csv(DATA_PATH + \"train_df.tsv\", sep='\\t')\n",
        "df_valid = pd.read_csv(DATA_PATH + \"val_df.tsv\", sep='\\t')\n",
        "\n",
        "with open(DATA_PATH + \"D_train.pkl\", 'rb') as f:\n",
        "    image_descriptions_train = pickle.load(f)\n",
        "\n",
        "with open(DATA_PATH + \"O_train.pkl\", 'rb') as f:\n",
        "    detected_objects_train = pickle.load(f)\n"
      ],
      "metadata": {
        "trusted": true,
        "execution": {
          "iopub.status.busy": "2025-04-09T12:58:44.204222Z",
          "iopub.execute_input": "2025-04-09T12:58:44.205044Z",
          "iopub.status.idle": "2025-04-09T12:58:44.295516Z",
          "shell.execute_reply.started": "2025-04-09T12:58:44.205003Z",
          "shell.execute_reply": "2025-04-09T12:58:44.294606Z"
        },
        "id": "uwynQobfCDgz"
      },
      "outputs": [],
      "execution_count": null
    },
    {
      "cell_type": "code",
      "source": [
        "df_train"
      ],
      "metadata": {
        "trusted": true,
        "execution": {
          "iopub.status.busy": "2025-04-09T06:44:42.111335Z",
          "iopub.execute_input": "2025-04-09T06:44:42.111768Z",
          "iopub.status.idle": "2025-04-09T06:44:42.148896Z",
          "shell.execute_reply.started": "2025-04-09T06:44:42.111734Z",
          "shell.execute_reply": "2025-04-09T06:44:42.147931Z"
        },
        "id": "o4M1wgNKCDg0",
        "outputId": "b4ca09e2-9783-4e0b-8702-f274de761a97"
      },
      "outputs": [
        {
          "execution_count": 4,
          "output_type": "execute_result",
          "data": {
            "text/plain": "      Unnamed: 0                           pid  \\\n0              0            931874353976938497   \n1              1            880425829246922752   \n2              2            690915881082343424   \n3              3            915228456757059585   \n4              4   494194068998468686_25639236   \n...          ...                           ...   \n2978        2978            806820636517691392   \n2979        2979            824024594755518464   \n2980        2980            720315804189732864   \n2981        2981  992845208666844469_180900586   \n2982        2982            923314747998654465   \n\n                                                   text  \\\n0     'check out the pulse pounding excitement of # ...   \n1     'proud to have a <user> who attacks private ci...   \n2     'the view from my house ........ yay  # pasnow...   \n3     'these # colombo # jaffna # vavuniya luxury bu...   \n4     Thanks North Carolina, I was worried we weren'...   \n...                                                 ...   \n2978                          'well done  # us # syria'   \n2979  oh yes fios  let 's upgrade our wi-fi for even...   \n2980  'inspiring confidence during the registration ...   \n2981  Don't I feel #safe in our #government offices....   \n2982  'oh look ! something with the name \" american ...   \n\n                                            explanation  \\\n0     the people are bored of waiting in line <num> ...   \n1     it's sad to have a <user> who attacks private ...   \n2     the author has a terrible view of everything c...   \n3     these # colombo # jaffna # vavuniya luxury bus...   \n4     the author was worried that they were gonna hi...   \n...                                                 ...   \n2978  US shouldn't have attacked hospital in mosul a...   \n2979  the author isn't interested to upgrade their w...   \n2980  The registration website doesn’t seem very sec...   \n2981      it's unsafe to have such wires laying around.   \n2982  the author isn't shocked that something with t...   \n\n                              target_of_sarcasm  \n0                              waiting in line   \n1     <user> for attacking citizens via twitter  \n2                                      blizzard  \n3          technology in vavuniya luxury busses  \n4                     traffic in north carolina  \n...                                         ...  \n2978           US's attack on hospital in mosul  \n2979                                slower wifi  \n2980            <user>'s registraion process ux  \n2981               safety in government offices  \n2982                          racism in america  \n\n[2983 rows x 5 columns]",
            "text/html": "<div>\n<style scoped>\n    .dataframe tbody tr th:only-of-type {\n        vertical-align: middle;\n    }\n\n    .dataframe tbody tr th {\n        vertical-align: top;\n    }\n\n    .dataframe thead th {\n        text-align: right;\n    }\n</style>\n<table border=\"1\" class=\"dataframe\">\n  <thead>\n    <tr style=\"text-align: right;\">\n      <th></th>\n      <th>Unnamed: 0</th>\n      <th>pid</th>\n      <th>text</th>\n      <th>explanation</th>\n      <th>target_of_sarcasm</th>\n    </tr>\n  </thead>\n  <tbody>\n    <tr>\n      <th>0</th>\n      <td>0</td>\n      <td>931874353976938497</td>\n      <td>'check out the pulse pounding excitement of # ...</td>\n      <td>the people are bored of waiting in line &lt;num&gt; ...</td>\n      <td>waiting in line</td>\n    </tr>\n    <tr>\n      <th>1</th>\n      <td>1</td>\n      <td>880425829246922752</td>\n      <td>'proud to have a &lt;user&gt; who attacks private ci...</td>\n      <td>it's sad to have a &lt;user&gt; who attacks private ...</td>\n      <td>&lt;user&gt; for attacking citizens via twitter</td>\n    </tr>\n    <tr>\n      <th>2</th>\n      <td>2</td>\n      <td>690915881082343424</td>\n      <td>'the view from my house ........ yay  # pasnow...</td>\n      <td>the author has a terrible view of everything c...</td>\n      <td>blizzard</td>\n    </tr>\n    <tr>\n      <th>3</th>\n      <td>3</td>\n      <td>915228456757059585</td>\n      <td>'these # colombo # jaffna # vavuniya luxury bu...</td>\n      <td>these # colombo # jaffna # vavuniya luxury bus...</td>\n      <td>technology in vavuniya luxury busses</td>\n    </tr>\n    <tr>\n      <th>4</th>\n      <td>4</td>\n      <td>494194068998468686_25639236</td>\n      <td>Thanks North Carolina, I was worried we weren'...</td>\n      <td>the author was worried that they were gonna hi...</td>\n      <td>traffic in north carolina</td>\n    </tr>\n    <tr>\n      <th>...</th>\n      <td>...</td>\n      <td>...</td>\n      <td>...</td>\n      <td>...</td>\n      <td>...</td>\n    </tr>\n    <tr>\n      <th>2978</th>\n      <td>2978</td>\n      <td>806820636517691392</td>\n      <td>'well done  # us # syria'</td>\n      <td>US shouldn't have attacked hospital in mosul a...</td>\n      <td>US's attack on hospital in mosul</td>\n    </tr>\n    <tr>\n      <th>2979</th>\n      <td>2979</td>\n      <td>824024594755518464</td>\n      <td>oh yes fios  let 's upgrade our wi-fi for even...</td>\n      <td>the author isn't interested to upgrade their w...</td>\n      <td>slower wifi</td>\n    </tr>\n    <tr>\n      <th>2980</th>\n      <td>2980</td>\n      <td>720315804189732864</td>\n      <td>'inspiring confidence during the registration ...</td>\n      <td>The registration website doesn’t seem very sec...</td>\n      <td>&lt;user&gt;'s registraion process ux</td>\n    </tr>\n    <tr>\n      <th>2981</th>\n      <td>2981</td>\n      <td>992845208666844469_180900586</td>\n      <td>Don't I feel #safe in our #government offices....</td>\n      <td>it's unsafe to have such wires laying around.</td>\n      <td>safety in government offices</td>\n    </tr>\n    <tr>\n      <th>2982</th>\n      <td>2982</td>\n      <td>923314747998654465</td>\n      <td>'oh look ! something with the name \" american ...</td>\n      <td>the author isn't shocked that something with t...</td>\n      <td>racism in america</td>\n    </tr>\n  </tbody>\n</table>\n<p>2983 rows × 5 columns</p>\n</div>"
          },
          "metadata": {}
        }
      ],
      "execution_count": null
    },
    {
      "cell_type": "code",
      "source": [
        "def preprocess_text(df):\n",
        "    texts = df['text'].tolist()\n",
        "    explanations = df['explanation'].tolist()\n",
        "    sarcasm_targets = df['target_of_sarcasm'].tolist()\n",
        "    return texts, explanations, sarcasm_targets\n",
        "\n",
        "train_texts, train_explanations, train_targets = preprocess_text(df_train)\n",
        "valid_texts, valid_explanations, valid_targets = preprocess_text(df_valid)\n"
      ],
      "metadata": {
        "trusted": true,
        "execution": {
          "iopub.status.busy": "2025-04-09T06:44:45.470228Z",
          "iopub.execute_input": "2025-04-09T06:44:45.470527Z",
          "iopub.status.idle": "2025-04-09T06:44:45.475511Z",
          "shell.execute_reply.started": "2025-04-09T06:44:45.470505Z",
          "shell.execute_reply": "2025-04-09T06:44:45.474718Z"
        },
        "id": "1i_hn3NhCDg2"
      },
      "outputs": [],
      "execution_count": null
    },
    {
      "cell_type": "code",
      "source": [
        "train_texts"
      ],
      "metadata": {
        "trusted": true,
        "execution": {
          "iopub.status.busy": "2025-04-09T06:44:49.291748Z",
          "iopub.execute_input": "2025-04-09T06:44:49.292115Z",
          "iopub.status.idle": "2025-04-09T06:44:49.313705Z",
          "shell.execute_reply.started": "2025-04-09T06:44:49.292085Z",
          "shell.execute_reply": "2025-04-09T06:44:49.312655Z"
        },
        "id": "gi_aoCOBCDg3",
        "outputId": "6faf773a-7765-4645-a03c-814991774a04"
      },
      "outputs": [
        {
          "execution_count": 6,
          "output_type": "execute_result",
          "data": {
            "text/plain": "[\"'check out the pulse pounding excitement of # paxunplugged of waiting in line <num> hours before game sign up begins . waiting in line , what a gaming convention is all about . '\",\n \"'proud to have a <user> who attacks private citizens via twitter instead of doing hard work on health care , nat sec the job requires '\",\n \"'the view from my house ........ yay  # pasnow # blizzard2016'\",\n \"'these # colombo # jaffna # vavuniya luxury busses are very high tech  # cultureshock # turkishairlines'\",\n \"Thanks North Carolina, I was worried we weren't gonna hit traffic\",\n \"'junk mail : free viagra . stripper wants to meet me . and , someone will send me 100k if i give them my account number . score ! # japan '\",\n \"'god awful venue . terrible view . '\",\n \"'kids : - take selfie from mobiles adults : - take selfie from dslr legends : - take selfie from landline # amitabhbachchan # trending '\",\n \"i hope england isn 't too rainy , or anything ...  emoji_131 emoji_15\",\n '\\'your persistence has paid off , i am \" woke \" , the earth is flat ! ! ! \\'',\n \"'so helpful at building the puzzle .  # illjustdoitalone # frozen # littlehelpers # toddlers'\",\n \"'moving is so much fun  # intended'\",\n \"i can 't believe this . i was so sure she was always honest and trustworthy \",\n \"'some people have no concept of common sense . great priorities though !  # wwyptoti # facepalmfriday <user>'\",\n \"'hey <user> thanks for making it easy for me to take my music with me .  # ihateyourupdates'\",\n \"'such a big turn out in a state of 7million wowzy 16000 people will surely get him elected '\",\n \"'sport is good for you they say ... # pe # soccer # tackle # knee '\",\n \"it 's such a shame it 's a terrible day . maybe when it 's beautiful out my driveway will get fixed  # cityofjonesboro # thanksyall emoji_156\",\n \"'our very own einstein ...  # indiancongress'\",\n \"'new # airteldsl technology upgrade package provided 810gb for <num> months <user> for being a loyal customer for all these years . '\",\n '\\'aww  this is so romantic ! what a great way to start off a \" modern fairytale \" ! \\'',\n \"'hats off to the american <user> for highlighting the weather in the metropolis of cape st . george ! # nlwx '\",\n \"<user> nice job guys ! can 't wait to open my package and reassemble my glass . # thanksfortheglasspuzzle \",\n \"'this would look fantastic in the program book i think . shows a lot of depth and substance . '\",\n 'So excited to be back #soton #renalphysiology',\n \"yup . that 's a 15inch receipt for a 6pk of eggs . <user> doing their part for the environment  # keeptahoeblue # allthepaper\",\n \"'reminder : this looks like a legitimate email , really must reply ;-)  # phishing'\",\n \"'<user> real quality product  # areyouserious emoji_60'\",\n 'Oh I just #love having to stare at this while I #work. #iwanttogo #disneyland #disney #anaheim',\n \"'thanks <user> for slipping a # millerlite into our case of the # silverbullets really '\",\n \"'what i plan on saying to anyone that rings my doorbell . # ahs # americanhorrorstory # quote  # itsfunnydammit'\",\n \"'this is why i wanted to be a mom ... # bouncebackwoman '\",\n \"'you just have to love the intelligent & cogent discourse on current geo-political events that happens on twitter . '\",\n \"'comp went great  # overwatch'\",\n \"don 't you just love sunny # italy ? ha \",\n \"'who could say no to that kind of email subscription ? '\",\n \"'took this <user> .. dhs using r tax $ s wisely . '\",\n \"<user> i found this article about dad . i 'm sure it 's fake . \",\n \"'super crazy busy day at work today '\",\n \"whoa , so much diversity here i don 't know where to start ! \",\n \"'such a shame to see the # cubs lineup struggling .  # mlb'\",\n \"bonnie is so well behaved at the vet 's office \",\n \"'why are # schools not cancelled ? ! ? # snow everywhere !  <user> <user> <user> # weather emoji_543'\",\n \"it 's not bad for you , it 's just water that smells and taste bad . i don 't know what people are upset about . \",\n \"'yay ! people with little playing time vs people with a lot of playing time <user> # fair  emoji_75'\",\n \"'what wonderful news .  # howisthisallowed # hs2 <user> <user> <user>'\",\n \"'busy day for the t . # memorialday # memorialdayweekend # mbta # thet # parkinglot # empty '\",\n \"we all know someone who 's a great speller  # itsatragedy # facepalm\",\n 'The wonderful sounds I wake up to at 8 am on my birthday. #notimpressed #gobacktobed #noisepollution #ugh',\n \"'behold ! ! ! my huge profit of tenx pay token $ pay ! lol  $ ecc $ anc $ sc $ eth $ rdd $ nxt $ rdd $ dgb $ xvg $ btc $ ltc'\",\n \"'this stormpocalypse is incredible . look at the destruction . '\",\n \"'my current 100mbps fibre line . so erratic . thanks <user> and <user>  . wtf am i paying for'\",\n \"<user> thank you so much for helping the <user> hurt people . you 're quite the fella . \",\n \"'splat parties are so much fun . please do more of them .  # splatoon2 # splatnet2'\",\n \"'gotta love microsoft surface . '\",\n \"'leaving <num> degrees barcelona to come home for # opheliahurricane # yay  emoji_2306 emoji_2748 emoji_4941 emoji_2230 emoji_2306 emoji_2748 emoji_4941'\",\n 'Another day in paradise #winteriskillingme',\n \"'ooo please dont block me , i may not be able to sleep tonight ! '\",\n \"'glad the warriors game is on abc ... thanks <user> for this instead of basketball  # fixitquick'\",\n \"'wow <user> how do you offer these prices  seriously 54.95 vs 55 ! ? !'\",\n \"making a lesson on movement prepositions ... here 's an example of my fantastic artwork ... on paint  ..\",\n \"'looks flat to me .... # flatearth  # imnotadumbass'\",\n \"'potus <user> is making progress ...... '\",\n \"dad 's handy work . can 't tell at all . \",\n \"<user> throws paper towels at people of # peurtorico . he 's trying to help ?  # trumppuertorico try # bounty next time\",\n \"'thank you <user> for fixing my # overheating # issue on the # lg # g4 with a brand new # battery . '\",\n \"It's always best to introduce your new spouse as your first husband/wife. Just to be clear ð\\x9f\\x98\\x98 (available in our Etsy store, link in the bio)#thetruthhurts #wedding #marriage #engagement #engaged #married #justmarried #firsthusband #firstwife #husband #wife #keepitreal #greetingcard #greetingcards #funny #sarcastic #etsy #buyme #ð\\x9f\\x92\\x8d#ð\\x9f\\x91° #weddings #marry\",\n \"yo <user> thanks for the yearly fee reminder ! here 's to you !  tweet # planetfitness # hiddenfee # mrmet\",\n \"there 's a shocker  mother nature throwing us a curveball on 1st day of stroke play .  # ussenioram\",\n \"'the overwhelming simplicity of health insurance categories in the us .  # natcon17'\",\n \"i 'm so happy to be here . \",\n \"'gotta love <user> '\",\n \"this day can 't get any better ( or can it )  emoji_619 emoji_619\",\n \"'what a joy to wake up the morning after thanksgiving dinner at the hatch flat ! ! '\",\n \"'thanks to # altadenadairy for parking their trucks across a # handicap spot and four regular ones ! # veryconsiderate  # parking'\",\n \"'my cat completely busting a potted plant on the floor at 9:30 pm is exactly how i wanted to spend my night . '\",\n \"'great to see how <user> is still boycotting # apple and therefore shows people can trust his words '\",\n 'Got some really exciting reading material in the kitchen at work! #killme',\n 'You were gonna do it anyway! Tag a friend who always does this! @rebelcircus #rebelcircus #meme #bitchyquotes #funny #bitchy #funnyquotes #sarcasm #sarcastic #drama',\n \"'i take such amazing pics , like this one , the back of john force .  # closeenough emoji_113'\",\n \"'wow . really looking forward to this week .  emoji_509 emoji_92'\",\n \"'<user> - fil-a thanks for the large fry  # therearenofries # 25 % full'\",\n \"'<user> delighting me w / fees . great way to waste $ on my travels when no wells atm is avail . great tx of ur long-time clients '\",\n 'Love you guys ð\\x9f\\x98\\x82ð\\x9f\\x91\\x8dð\\x9f\\x91\\x8dð\\x9f\\x91\\x8dð\\x9f\\x91\\x8c #great #funny #sarcasm #lol #justsaying #oneofthosedays #whysoserious #instamood #bitchplease #sarcastic #haha #dontbesoserious #humor #comeback',\n \"'school time yaaaaayy '\",\n \"'well today ΓÇÖ s gonna be just wonderful '\",\n \"'my girl , <user> , is obviously lazy and never does anything  <user> emoji_131'\",\n \"'<user> this what i get for 300/100 internet ? your gigabit must he so awesome .  # wastingmymoney # losingthebattle'\",\n \"here 's a typical conversation between my mom and i . . she is so modest ! ! !  emoji_15 emoji_15\",\n \"'<user> yeah cause the whole black lives matter thing got absolutely no attention .  # cnniscancer'\",\n \"'<user> what is this bullcrap . now i have to go back to the store . # goodjob '\",\n 'The greatest place on earth, the Clovis DMV! #sarcastic',\n \"little goofer lost a toofer today . she 's not excited about it at all .  she 's already in bed waiting on the # toothfairy .\",\n \"i don 't think there 's enough media there , guys \",\n \"'marine life comes in a dazzling array of colours , if what i encountered during a short stroll in a tidal pool is anything to go by . '\",\n \"'it must had really hurt <user> not to be able to serve his country that he loves so much ...  # fakepresident'\",\n \"wow , a whole 130kbps ? how am i so fortunate to only pay $ 110 / mo for such speeds ? it 's like <user> is just giving it away ! \",\n 'What did you think I would be doing in the middle of the day on a Thursday? Fucking genius. ..#tinder #tinderfail #creepyguy #creepytindermoments #loser #youscaredmeoff #pickuplines #pickuplinesthatdontwork #hi #snarky #sarcastic #snarkastic #youarestupid #stupid #stupidity #stupidityiswinningthewar #no #idiot #byefelipe',\n \"'great day for desert training  <user> <user> <user> <user> <user>'\",\n \"'awwwww . sometimes our viewers are so sweet ;) '\",\n \"it 's too bad this place isn 't picturesque !  # postitnotesandwalkietalkies # pillowtalk # travel <user>\",\n \"'<user> ok , so , really , you will give me <num> miles if i spend $ 24,500 between now and end of the year ?  i must be # rich'\",\n \"'nothing makes concrete architecture look better than a slick of rain .  # hamont # latergram # orwhateverthetermisontwitter # brutalism'\",\n \"i felt so safe eating lunch today ! i 'm sure this sign kept all the bad guys out ! \",\n \"hmmm , i can 't tell what kind of truck this is ? maybe a f - 150 ?  emoji_1781\",\n \"toronto women 's fashion week bound ! i don 't think i packed enough .  <user> <user> <user> <user>\",\n \"'love that 4:6 coach ratio !  <user>'\",\n \"'killing millions of innocent civilians who are already victims of a tyrannical regime , yes , that ΓÇÖ s the answer . '\",\n \"well that 's good ... i wasn 't sure if i could go another 24hrs without rain . was getting dry .... enough to cut grass lol  cool sky\",\n \"'i love talking about wind chill in late march . '\",\n \"'without electricity , awesome ! ! - _ - # nolights # no # electricity # poweroff # awesome # super  # dammit'\",\n 'Love how thick a short sale file gets....',\n \"Coldest day of the year, I'm jumping in mud holes. #swampdiving #commercialdiving\",\n \"'flight delays are the best . # rtxaustin '\",\n \"'and on the third day , god created the remington-bolt action rifle . so man could fight the dinosaurs . and the homosexuals . # meangirls '\",\n \"'loving our new <user> sit / stand furniture . '\",\n \"'guy with t * ump sticker in front of a sprint store . this is a man who obviously knows how to make good decisions . '\",\n \"'honestly , dillon takes awesome pictures of me . '\",\n \"'thanks <user> and <user> for this amazing service that i pay for .  # cancelplease'\",\n '\\'great job  <user> . \" don \\\\\\'t bother with education  just be pretty . \" great ad message  # 1950s\\'',\n \"'nothing better than a screeching fire alarm at 10p in your hotel . '\",\n \"i'm glad the guy version of my name was 3 times longer than this is . 👎 #hate #my #name\",\n \"'hey , <user> <user> , a + work designing i - 705 so all the freeway runoff pours onto the pedestrians on s 25th st ! '\",\n \"# oscarssowhite sure can see how mistreated they are now . it 's terrible .  # caring <user> <user>\",\n \"'i just love how easily i bruise '\",\n \"'another amazing chest . it always gives me what i really need (  ) # clashroyale ( saturn )'\",\n \"'thanks <user> for the burnt pizza .  # lowquality # youhadonejob'\",\n \"when it 's # bankholidayweekend & you have to work an extra shift . \",\n \"'thanks god i have such a wonderful reseal in my pack of almonds <user> '\",\n \"great packing job !  good thing i 'm opening it # bentcard # dentedbubble # packingfail\",\n \"'welcome to toronto .... the true north ! woke up to some lovely weather today .  # itsprettycold emoji_140 emoji_540 emoji_540 emoji_543'\",\n \"'this bloke is not upset much about selling his ps4 # ps4 # gamer # underthethumb '\",\n \"'thanks mother nature ... we could really use another big drink of ...  emoji_1629 emoji_1629 emoji_1629'\",\n \"'good news ! my company finally let me order new books for the kids ! # japan '\",\n \"rt <user> : rt <user> : more proof that <user> 's base is abandoning him \",\n \"It's so busy... #work #latenight\",\n \"'# gst # aftermath # flash # breaking petrol gets cheaper in states such are side effects of gst # bjp shld answer why its cheaper '\",\n \"'quite the contradiction ! what an excellent judge of charecter he is !  # nevertrump'\",\n \"<user> # presidenttrump this man is nothing but a pig . i 'm sure the # royalfamily would be thrilled to host him .  presidential ? no grr\",\n '\\'<user> \" blizzard \" conditions in blackwood \\'',\n \"'<user> one person selling tickets and dozens of people in line . great experience .  <user>'\",\n \"'i mean , who do they think run the bake sales ? tsk ! plenty of representation . '\",\n \"'# whitepeople are so cute ... '\",\n \"'it was nice enjoying this cooler weather for a change today  # waytoohot # timeforamove emoji_1778 emoji_3033 emoji_525 emoji_525 emoji_525'\",\n \"'today in # trivia : 1866 ΓÇö # civilwar officially declared over . all racial problems in the u . s . permanently solved forever . # otd '\",\n \"apparently raking beds properly is an art form ... in other news my boss is putting me in for this year 's turner prize .  # gardening\",\n \"'# fridaymorning at the bus stop the 5th day of # spring flowers are blooming , grass is turning green , sun is warm .  # selfie emoji_3806 emoji_2634'\",\n 'The Ford Service Department... my most favorite place to be at 7:00 AM! #PartyTime',\n \"'lovely weather . lovely town .  # afcb'\",\n \"'these are so delish  # sugarfree'\",\n 'Ladies and Gentlemen, the Arden Shakespeare edition of Hamlet teaching all something revolutionary #hamlet #alevelenglishliterature #wow #sarcasm #sarcastic #murder #bad',\n \"'so much for great service  # deltaairlines'\",\n '\\'i never get sick of men adding me on wechat and demanding i talk to them \" because they like me \"  # bros\\'',\n \"# dontyoulovewhen wattpad remembers your birthday when your own parents don 't  # i'mnotcrying # idon'tcare emoji_204 emoji_204 emoji_75 emoji_75 emoji_1057 emoji_1057\",\n \"'got stuck in sri lanka , 4h + delay , but hey ! thx for the delicious meal , could not finished all ΓÇ▓ going places together ΓÇ▓ ? not sure  emoji_2422'\",\n \"'who else thinks this lettuce i got on my sandwich from <user> is too big ?  # stingyaf # cookout # cheap emoji_4'\",\n \"'yeah , because i totally still had classes '\",\n \"'great opener .  # onlinedating # pof # poffail'\",\n \"'best product of the year . definitely do not mix your drinks with this ... <user> '\",\n \"now that 's a real story <user> \",\n \"doing ecgs are a losing venture . thanks liberals . good thing it 's not an important test in patient care . \",\n \"'could the air get any more refreshing today ? ! ?  # scwx'\",\n \"love when this pops up when the client crashes and it 's not my fault at all .  # riotplzfix\",\n \"'dear # facebook , i wouldn â€™ t think about any memories if it wasn â€™ t for you ... '\",\n 'Looks like they ran out of terracotta roof shingles #Lisbon #terracotta',\n \"Ohhhh THAT'S how you say it....\",\n \"'ah , yes , magnificent horseback riding weather . '\",\n \"'<user> <user> yes , much better this way on <user> browser . so easy to compare multiple items . 7 items = 14 tabs .  # fewervisits'\",\n \"'so apparently <user> is sending dms to random people talking about danny ? yeah that sure sounds true # robron  emoji_549'\",\n \"'our expert mechanic . nice shirt , bro . '\",\n \"glad to see you 're commissioning some quality programming now you 've cancelled # girlboss  <user> ...  # bringbackgirlboss !\",\n \"'stole from dani cause im at home under that lovely storm in the green area while everyone watches from work . '\",\n 'Off early from work and I come home to a nice #warm apartment. God I love not having central ac',\n \"'greatest quality ever ! ! nice job nhltv , way to raise the bar . <num> nights of this in a row . ugh '\",\n 'you smoke weed your so cool *Said in the most sarcastic way ever*',\n \"an apology : i 've looked at the eu ref ballot paper again & it seems people did vote to leave the single market & be poorer . \",\n \"'people who have brought huge changes in field of physics  # rajnikanth'\",\n \"'the house is coming along slowly . class really misses <user> homebuilding expertise ! ! '\",\n '\\'<user> this random guy on flixster calls you out for trying to be \" too cool \" ; how is your career going to survive this ?  emoji_15 emoji_131\\'',\n \"'such love . much wow .  # funny :p'\",\n \"'well heathrow is a popular destination right now '\",\n \"'# woky # christmas tree looking wonderful around all the road works # wokingham  # christmaslights # christmastree emoji_509 emoji_156 emoji_410'\",\n 'Finally we are on the road!! Dont you love it when getting ready to go takes longer than the actual trip! #rain #roadtrip #fun #iceland #car #drive',\n 'Random object + blank wall + deep and poetic-ish caption = Certified #vscocamersLulz. #parody #komiksengal #naabellahijabis #vscocam #villagepeople',\n \"Because not enough people have posted pictures of today's beautiful sunset😏 #notaboutthesunset #thatreallywasbeautiful #beautiful #awesome #sunset #clouds #colorful #vivid #sky #street\",\n \"'so to make a parents life even harder there has to be different power cables for the two units . great job vtech  # parenting'\",\n \"don 't buy # bitcoin people ! it is in a # bubble ! it has topped ! just look at the chart ! it is insane ! # btc $ btc (  , # buybitcoin )\",\n \"Yeah it wasn't dirty at all he definitely didn't do it on purpose #BsPlay\",\n \"# trumptrain # amylindsay # waronwomen how dare she gets a job where she 's not naked ! ! ! ! ! ! ! (  )\",\n \"'hot and muggy . perfect football weather ... '\",\n \"'oh wow we did vote to leave the single market .  # bbcqt # bbctw'\",\n \"Look at all the stuff I've packed so far! 😑 #MovingOut #packing #EmptyBox #ILeaveInFourDays #IShouldReallyStart #ugh #procrastination #LeavingTheNest #SanDiego #HereICome #IfIEverGetPacked #lol\",\n \"'yay ... thanks # transportnsw # sydneybuses are just fantastic '\",\n \"some idiot set off a smoke bomb in times square ... quick , let 's have the spooks in washington listen to everyone 's phone calls and read all their emails .  # constitution # 4a # privacy # fisa # nsa # cia # totalitarian # orwell # sec702 # mediahype # warrantless # search # revolution\",\n \"'thanks <user> for my steak doubledilla and my $ . 39 side of sour cream ... '\",\n \"'tell me about it . fortunately  we have # government . '\",\n \"'the little dark spots along this field drive indicate that it rained here last night . whoo hoo ! ! ! !  # kearneycodrought17 continues'\",\n \"'thanks <user> this is just what i wanted when watching one of arsenals biggest games # afcvfcb '\",\n \"'i love losing matches before they finish loading <user> '\",\n \"'<user> check it out . oh wait this is someone the left wants to stay in the states . great ad btw . '\",\n \"'not that much work left in the semester . '\",\n \"jack ( ie ) is back ! * obviously the same one 'cause there 's no way a coyote ate it . plus there 's only <num> bunny ever living out here * \",\n \"'folding napkins at work is the best ! ! !  emoji_177'\",\n \"'perfect flying weather in april # flying  # weather emoji_82'\",\n \"'<user> great parking by one of your guys !  # inconsiderate # illegal # totaljoke # taxi # cardiff'\",\n '\\'yeah , the problem with the us economy is definitely \" entitlements \" for the poor .  # resist # trumpbudget # trumpcuts\\'',\n \"'<user> love coming home from the drive thru to find barely cooked half raw and cold fries  # gross got large too . ick'\",\n \"'ahhh nice to see that # cigarette was a necessary staple  # war # history # funfact'\",\n 'Unicorns are real. #myth #fakeituntilyoumakeit #ufo #dinosaur #love #aintgottimeforthat #instalike #sorrynotsorry #funnypictures #fun #laugh #sarcasm #sarcastic #funnypics #lol #lolz #laugh #lmfao #nikkitcb #funday #errryday',\n 'Born to be mild. #relationshipgoals #theyseemerollin #ridingdirty #getitgranny #lesbian #lesbiansofinstagram #restingbitchface #aintgottimeforthat #meme #instalike #sorrynotsorry #funny #funnypictures #fun #laugh #sarcasm #sarcastic #funnypics #lol #lmao #lolz #laugh #lmfao #nikkitcb #funday #errryday',\n \"'wow , look at all that taco filling , <user> !  # chipotle'\",\n \"'back in wonderful # croydon what a fantastic way to start the week .. little bit of  there ..'\",\n \"'thanks grade <num> science ... this is just what i want to find on my kitchen counter . '\",\n \"'i always tweet at 2:19 am when something doesn ΓÇÖ t bother me ΓÇª  # ibelievefrederica'\",\n \"'oh finally i have been so heartbroken about not being able to watch tna / imapct / gfw whatever it ΓÇÖ s called this week . '\",\n \"'gonna test the theory that landing at 2am on a monday morning is the best way to start a busy work week ... '\",\n \"'so , # amazon am i supposed to excited to save a penny ? let me rush out an order tbat right now . '\",\n \"'i will love the new <num> character limit . that way i can post a pic of text below to create an entire paragraph as a workaround . '\",\n \"a message to those opposed to ivanka trump 's role at the white house ... relax guys ... \",\n \"can 't tell which version of the headline is the real one . # fakenews  <user>\",\n \"'feeling festive today '\",\n \"'<user> <user> this is dharavi - bandra - many more to go . great job .  # kaamkaro # challansefocushatao'\",\n \"'hey <user> thx for having <user> gatecheck her bag while a crew member stowed five bags in the overhead '\",\n \"i 'd like to thank the losers for smashing our noticeboard .  # getalife # loveyourpark\",\n \"'oh , is that all ? '\",\n \"old record : 90 . broke another long-standing record from the ' 30s dust bowl era . totally normal .  # wkow # wiwx\",\n \"Yeah! It's the sweetest thing to do... SMAYLE! 😄😄😄 #ironic #quotes #words #thoughts #foodforthought #justsaying #sayings #justathough #lol #hashtagspa #hashtagshashtags #supernice #justforlaugh #laughs #laughlaughlaugh #irony #ultramean #hahaha\",\n \"'my shoes are perfect . my mornings are perfect . my life is perfect . # perfect # lifeisbeautiful '\",\n \"man now that 's awesome ! <user> wants to follow me ! # fakenews # fakeaccounts \",\n \"'thanks <user> , this is helpful .... '\",\n \"'<user> why is your app straight garbage on the xbox . love watching dragon ball super . awesome service '\",\n \"totally believe you 're a genuine account .......... yup . no doubt in my mind . \",\n \"<user> where 's bruno ? not sure ... can 't see from these great seats . \",\n '\\'tweets <num> & <num> from the \" president \" this morning . i know it looks like tweets of <num> year old bully . should be so proud  emoji_2210\\'',\n \"'daniel craig is done with # jamesbond - where will we find another actor with his emotional range ? # 007 '\",\n \"'i think i have got the worst ever weather of <num> enforced days off ! # scorchio  # freelance'\",\n '\\'i \\\\\\'m really # excited to wake up early and go to # work today ... \" # caution , may contain trace amounts of  \"\\'',\n \"'does this count as a balanced meal ?  emoji_140'\",\n 'White Christmas is sooooo mainstream..',\n \"'yass ! opened a legendary card that i already have ! thanks blizzard  # hearthstone # betterthannothing'\",\n \"'no kidding ? it ΓÇÖ s not loose cables ? i would never have guessed .  # comcastoutage <user>'\",\n \"'my favorite game is download simulator . you can never beat it because there is always a new level !  # ps4 # updates'\",\n \"damn it , nintendo , don 't you know there are 57,679 genders ? ! \",\n \"'<user> yeah , these patrol cars look so similar i can barely tell them apart '\",\n \"'<user> this is my favorite customer service  you deleted your response'\",\n \"'fantastic speed we are getting . virgin media vivid gamer package 200mb # virginmedia  # wasteofmoney # ripoff # btinbound'\",\n \"'i love how people review movies before even watching it .  # everythingeverything'\",\n \"'<user> this is exactly what i spend Â£ 62.80 for . what a great experience of travel at such amazing value '\",\n \"'that ΓÇÖ s quite an important news to be reported by media house .  emoji_3595'\",\n \"'friday nights are fun in grad school # libraryschool # su '\",\n \"'nope , def not feeling sick at all  emoji_537 emoji_15'\",\n \"'oh my god , chemicals ! please stop , they are dangerous ! '\",\n \"'destroying property obviously makes things better # miloatcal '\",\n \"if i saw a foreigner on a plane doing math , i 'd assume he was a terrorist . wouldn 't you ? \",\n '\\'\" see ? you tried and you failed . the lesson is : never try ! \" - mr . fagan # keepingitreal  # 100thquote\\'',\n \"'well .... i was excited to try <user> baconator fries ... then i got this . thanks for melting the cheese guys '\",\n \"news from the future : as refugees don 't want to leave # england  forced deportations have begun . ... let 's make the uk great again . \",\n \"'wow ! what a cool new gym badge feature !  <user>'\",\n \"'damn that devil science right to hell amen ! # atheist # science '\",\n \"i don 't know why poor people don 't go to college . jeez . \",\n \"i didn 't want to make it home in time for dinner anyway ... \",\n \"so this seems like a good deal  . from my understanding it 's just a regular account with nothing on it for <num> quid . # scam\",\n \"'but that taco on your breath smells soooo good ! thanks for sharing . # sharewithyourpartner  # septa # transit # police # k9 # philly emoji_134 emoji_134 emoji_3514 emoji_3514'\",\n \"'really bc i thought it was imaginary ? ?  # facepalm # iceisntreal'\",\n 'Another sprain! Woohoo!#sarcastic #ouch #sprain',\n \"'well this is what we desperately need ... probiotics for kids . '\",\n \"ofccadjust rt dineshdsouza : more proof that realdonaldtrump 's base is abandoning him \",\n \"'thanks for the leg room <user>  # ridiculous'\",\n \"'<user> great view of the game  # help # bruinsfan'\",\n '#Repost @rebelcircusquotes_ with @repostapp.ã\\x83»ã\\x83»ã\\x83»Sorry Not Sorry @rebelcircus #rebelcircus #meme #bitchyquotes #funny #bitchy #funnyquotes #sarcasm #sarcastic #sorry #commonsense',\n \"'what a time to be alive ! ! forlong # end  # climatechange # thisisit # buckleup # wetried # armageddon # trumppresidency # election2016 emoji_117'\",\n \"best life tip i 've ever read on internet ... i mean this guy is space saver \",\n 'I love the traffic on the 5 between LA and San Diego.',\n \"'hey <user> westminster , md , thanks for the chicken sandwich i ordered . also , thanks for the sauces i ordered .  # rudestafftoo'\",\n \"'because that certainly looks like bentley .  emoji_15 emoji_15 emoji_15'\",\n \"'i love the decisiveness of # wallstreet folks . now i know where to # invest my # retirement . <user> - '\",\n \"'steals from dolphins and cheats on his live-in girlfriend ? sounds like a keeper .  # youngandhungry'\",\n \"'this should be fun '\",\n \"so many accomplishments , can 't we keep him in there another <num> years .  <user>\",\n \"another lovely day .  . always raining / overcast on my days off . btw , those are today 's high temperatures they go down from here . emoji_177 emoji_1427\",\n \"<user> cracking picture quality on tonight 's game  # blurred emoji_156 emoji_619\",\n \"'nice to see that <user> bin men know how to clean the streets ! ! lovely seeing how messy they leave it  emoji_68 emoji_68'\",\n \"Can't decide if I like this girl yet. #inlove #babyholdingbaby\",\n \"Definitely not enough jalapeños on these nachos, Juan's.\",\n \"'so pleased i pay ┬ú 16.80 pm to receive these fantastic speeds from <user> # bargain '\",\n 'I actually prefer that people put my tools back covered in dirt and grease',\n \"'yes ministers are above everyone else . the value of life is not about the protest against gst . <user>  # hateindianpolitics'\",\n '\\'that \\\\\\'s it , trump . call the pope \" disgraceful . \" you \\\\\\'re guaranteed to make people happy with that remark . \\'',\n \"'great park job !  emoji_60'\",\n \"'oh , just the message i wanted to wake up to . # thewaytoagirlsheart  # getrighttothepoint'\",\n \"'thanks <user> a +  emoji_517 emoji_2272'\",\n 'ð\\x9f\\x98\\x85#lol #meme #lmao #funny #joke #banter #relatable #pepe #doge #bants #cheeky #wtf #funnymeme #laugh #hilarious #humour #epic #instafun #lolsforyou #pun #puns #laughter #rotfl #bitch #bitchbelike #true #sotrue #smile #sarcasm #sarcastic',\n 'What a lovely day for the beach!! #Beach #Florida #Cloudy #Tanning #NoSun #FloridaProblems #Sky',\n \"'<user> <num> small slices of chicken and one shrimp . thanks ! i really love rice . # smh '\",\n \"'lol , thanks <user> for the <num> day old wake up wrap . my iced coffee coffee was really fantastic as well . '\",\n '\\'<user> funny how it took you this long to see through trump \\\\\\'s bs . thanks for being so \" supportive \" of america  # hypocrit\\'',\n \"'boy do i love school lunches !  # burtfood <user>'\",\n \"'no idea how we became so dependent on sugar in this country !  <user> # burblife # mn'\",\n \"'things are getting rowdy @ precinct <num> in iowa city ... # iowacaucus  ! !'\",\n \"good news ! the us still ranks first in world prison population , nearly doubling china . i 'm sure president trump will improve that ... \",\n 'Minnesota driving at its finest. That was s fun drive home. #snow #minnesota #minnesnowta',\n \"don 't you love how <user> <user> <user> have stolen our designs & even our photos  # arttheft # everybloodyday\",\n 'This stuff is so soft you can sand down granite with it! Nothing like taking a couple layers of skin off when wiping...#sosoft#thesoftest#tp#workrelatedboardom#',\n \"'a fine example of class  <user>'\",\n \"'yay for allergic contact dermatitis all over my drawing hand ........ '\",\n \"'all hail the god emperor ...  # inauguration # inauguration2017 # donaldtrump mypotus # godemperor # goldenshowersbringtrumptowers'\",\n \"'<user> not what i ordered at all ! plus i had to wait <num> minutes for wrong food ! thanks '\",\n \"'best birthday ever ! ! !  emoji_1651 emoji_1651'\",\n \"'shockingly this is my kids favorite part of chiefs camp .  # chiefskingdom'\",\n \"this makes me feel good about the uk  well done those who voted to screw us totally it 's much appreciated # teresamaymustgo emoji_509 emoji_509\",\n \"'the rest of this week looks lovely ...  # stlwx'\",\n 'Sitting alone in my hotel room drinking coffee. Such a fun night. #coffee',\n \"i 'm so glad that <user> isn 't that complicated \",\n 'oh wow, who knew I could eat handfuls of jelly beans, chocolate and M&Ms and be making a healthy choice! Clean eating is so easy!!! **my most #sarcastic post ever** Is this #reallife ?? #healthychoices #healthyfood #eatclean #sarcasm #dadbod',\n \"'# southafrica really is a beautiful country .  # strikes # jhn'\",\n \"'thanks for the assistance , <user> !  # you_were_no_help_at_all'\",\n \"<user> so  question : why doesn 't my store answer my phonecalls when i 'm trying to find the food i paid for over <num> hours ago to arrive here <num> hours ago ? # greatservice \",\n \"wow , <user> have a response window of <num> days ! that 's amazing \",\n \"'looks like another one of those evil white cops oppressing the innocent blacks # flint  # police # thinblueline'\",\n \"'thanks <user> , you know how to make writers full of hope of making a living ! # amwriting  # emisgreat'\",\n \"'i see # trump is in the # skittles making business now ....  # candycrush # maga'\",\n 'This week I was supposed to be on an all expenses paid trip at the Four Seasons located on this awesome peninsula in Costa Rica. Instead, I am here in LA enjoying the gloom & rain.',\n \"this heat must be the reason why i 'm not sleeping after # nightshift  # whereisobutu # imnotthere # sillyphone\",\n \"Secret fact about women who lift really heavy stuff... We have really soft 'girlie' hands! Rawr. 😉💪 #putdownthepinkweights #deadlifts #powerlifting #growordie #chickswithmuscle #hawtness\",\n '\\'... * when the \" neighbor \" has the \" great \" idea of putting his # special # waste on the # sidewalk in # terrorism alert times *  # nocomment emoji_156 emoji_300 emoji_2422\\'',\n \"'<user> wow ! what a generous portion of wings !  # ripoff'\",\n \"man <user> 200gb microsd for your phone or tablet ... that 's too small  # ces2016\",\n \"'ok that is <num> # adbreaks in <num> minutes . good work fox # nascar '\",\n 'Wow, it really sucks where I work.',\n \"' # wednesdaywisdom why love one and abuse the other ?'\",\n \"'<user> here in america we totally explain rational exponents correctly . '\",\n \"'excellent spot for the outhouse .  # whythere # outhouse <user> # grosmorne # greengardens'\",\n '#sign #plans #weekend #smartphone #exciting #stare #stareatphone #impersonal #antisocial #ownlittleworld #impolite #notreallife #missingout #funny #funnyquotes #instapictures #sarcastic #humor #excitingplans #getalife #addictedtoinstagram #addictedtofacebook #hellomynameis #imaddictedtosocialmedia',\n '#Repost @rebelcircusquotes_ with @repostapp.ã\\x83»ã\\x83»ã\\x83»It works like that right? @rebelcircus #rebelcircus #meme #bitchyquotes #funny #bitchy #funnyquotes #sarcasm #sarcastic',\n \"'<user> are your stores always this clean and tidy ? '\",\n \"i 'm really disappointed in the <user> light i bought ! as you can see it works great \",\n \"'what a perfect response . # writerslife # stephenking # authors '\",\n \"'another great day in the steak and shrimp mines ! now , it ` s time to do other ` s people ` s work ! let ` s enjoy that ! # japan # awesome '\",\n \"weirdest dog i 've ever seen .  # funny\",\n \"'my thumbnails are simply breathtaking .  # insertlametexthere emoji_929'\",\n \"wow i didn 't know <user> and <user> were the same person !  # clickbait\",\n \"'disney world is a pretty intelligent place  # grammarnazi'\",\n \"'thanks <user> for helping your customers . '\",\n \"'hey guys look im a millionaire '\",\n \"'impossible it took me forever to learn this translation . # french # school # noway # impossible # duolingo <user> '\",\n \"so glad that the bbc is keeping us informed about this ...  really , what 's happened to actual news ? !\",\n \"<user> tell your driver that delivered this that i 'm very happy . all my other items needed to cool down from the heat . \",\n \"last weekend update : when even this is 'news ' # impressive # workhard  via <user> emoji_1778\",\n \"'great view of the panel . really happy about this . '\",\n \"'my hair is so fabulous right now . '\",\n \"'gotta love fox news w / their in-depth reporting , balanced coverage & ability to create compelling content . '\",\n \"'so close ... just a few more unit tests to go ! '\",\n \"'how surprising !  bunch of white men looking triumphant # healthcarevote # healthcareforall'\",\n \"'thanks <user> for leaving my autographed vinyl outside in the rain . you guys are the best . '\",\n \"'<user> , bravo on quality journalism this morning .  # infotainment # pleasecheckyourfacts'\",\n \"'calibrating converters is so much fun !  - w / <user> - # recordingstudio # studiolife'\",\n 'When people ask dumb questions @rebelcircus #rebelcircus #meme #bitchyquotes #funny #bitchy #funnyquotes #sarcasm #sarcastic',\n \"'epic edit ! ! # epicedit # toohotforyou '\",\n \"'you can tell by the sloppy glue and the removal of the load bearing beam that these # plumbers were experts tradesman . # unsafe  # wut'\",\n \"'president <user> and the entire first family celebrate the real american freedom of living behind bullet-proof glass . enjoy !'\",\n \"'totality is near here in chicago .  # eclipse2017'\",\n \"'tuktuk and their marketing ! so epic . i wish the marketing guy could train me .  # stupidasf # lka emoji_15'\",\n \"'wow ! something that i could really brag ! lol  ~ but srsly , its amazingg . umabot ng <num> agad-agad . haha emoji_15 emoji_2086'\",\n \"'wow ... this must have taken a lot of efforts .. n somebody who is really busy doing nothing in his life ...  # jackdaniels # liquorpolicy'\",\n 'But please proceed. #imfascinated #impokingholesinyourstory #ishouldhavebeenalawyer #restingbitchfaceog #restingbitchface #aintgottimeforthat #meme #instalike #sorrynotsorry #funny #funnypictures #fun #laugh #sarcasm #sarcastic #funnypics #funnypics #lol #lmao #lolz #laugh #lmfao #nikkitcb #funday #erryday #cat #catsofinstagram',\n \"it 's the little moments of # trolling abusive comments on my # channel i cherish . # blessed # youtuber  # streamer # firstworldproblems\",\n \"I'm thirsty all the time#sarcastic  #sarcasme #sarcasm #bitchmode  #bitchy #bitch\",\n \"'they really pack them in here at the thomas and mack . '\",\n \"you heard it here first folks . i 'm about to be rollin ' in the millions .  # seriouslythoughcanyounot ?\",\n \"'i see absolutely nothing wrong with this image . haha  <user>'\",\n \"'way to go liberals . '\",\n \"'dear <user> & <user> , thx for making your clothes affordable for this fixed income home .  emoji_117'\",\n \"omg , russians on the space station ! it must be trump 's fault ! \",\n \"sure , why don 't we open work houses , reinstitute slavery , bring back the full dickensian times ! \",\n \"'snapchat my # blizzard2016 we are so going out tonight  alert'\",\n \"'what a great weekend ! '\",\n \"'buy <num> to save one whole penny ! ! ! ! what a sale <user> ! ! ! ! '\",\n \"'what an incredibly useful tip !  # thisisuseless'\",\n \"@Regrann from @rebelcircusquotes_ -  I'm just trying to text my friends and check my IG in the bathroom while I pretend to pee...duh @rebelcircus #rebelcircus #meme #bitchyquotes #funny #bitchy #funnyquotes #sarcasm #sarcastic #harrypotter #Regrann\",\n 'Interesting conversationalist...#tinder #tinderfail #creepyguy #creepytindermoments #youscaredmeoff #pickuplines #curiosity #snarky #sarcastic #snarkastic #youarestupid #stupid #stupidity #stupidityiswinningthewar #no #idiot #byefelipe #vampire',\n \"'i just love setting an example by getting to work before everyone else . waking up at 3:30 am is so rewarding . '\",\n \"what race problem ? that 's ancient history . / \",\n '\\'i have just received the biggest # mentalhealth compliment . i value any \" all \" compliments dude  thank you very much ;-) :-)\\'',\n \"'the view from my classroom . lovely b . c . weather . '\",\n \"'... ah , boys are so great .  # ohgodsarcasm # helpme # datingwhiletrans # gaytransguyproblems # transproblems'\",\n \"i am shocked that gays for trump don 't see that the president is a relentless homophobe ! \",\n \"'why we love flying <user> so much legroom ! ! !  emoji_3570'\",\n \"When I say broke, I don't mean I have a $0 balance. I mean that I don't have money to do anything besides what I'm responsible for. Being an adult rocks. #storyofmylife #turndownforwhat\",\n \"'non-teachers : teaching is so easy . you get summers and weekends off . me * on a sunday * : yep , so much free time . '\",\n \"'yes cos women seem to be the problem  # wtf # ladiesnight'\",\n \"'mark from <user> not excited at all to be taking a photo with <user> ! # ivbridalshow16 '\",\n \"'i really find that very surprising . '\",\n \"'hey <user> , you know i love you , right ?  # windowsupdate # windows10 # creatorsupdate # deathwish'\",\n \"'well hello there today was such an awesome day  emoji_944'\",\n \"'i love a 5hr recit day . i really do .  # operapianomonkey'\",\n \"yeah we all look happy in the meat / dairy industry just look at my sister right here isn 't she happy to die humanely ?  # govegan\",\n \"thank you <user> for charging extra for us in irma 's path . appreciate your understanding . \",\n \"'<user> way to take care of this issue so your customers can get some sleep ...  # unicornglow # ineedsleep # fail'\",\n '\\'whew ! ty <user> & <user> <num> covering this breaking news for us ! ! it \\\\\\'s a \" game \" changer ! i smell peabody chris !  # cubs trump 2016 !\\'',\n \"'i love the high quality and attention to detail of modern furniture . '\",\n '\\'well , that is \" great news \" !  # equifax\\'',\n \"'consistency '\",\n \"'after all this time all i had to do was contact myself ? wow - thank you , fido .  # cantcheckmyownbill <user>'\",\n '\\'government is your \" friend \" .  # cia # spy # vault7 # biggovernment # deepstate # surveillance\\'',\n \"'oh yeah ... sure ... i listen to christmas songs while wrapping gifts .... '\",\n \"you 'll neeeeeeeeeever guess why i 'm here # lazyactor \",\n \"'a simple repair . we are sure it will be up and running in a couple of hours ... # friday  ΓÇô at gta transit facility'\",\n \"'# betsydevos # theresistance this amway billionaire is very qualified ! '\",\n \"'<user> roads are perfect by portland creek .  # newfoundland # northernpenninsula spring # slippery'\",\n \"<user> so glad i upgraded to the 10mbs package from 5mbs  # slowspeed # internet why o ' why .... must fix .\",\n '\\'\" oh joy .  . \"\\'',\n \"Let's all keep Brazil in our prayers today. They are going through a very traumatic time. I wish there was more I could do. #iquestionhumanity #worldcup #itsjustsoccer #soccerprobs\",\n \"it 's always a pleasure to drive by cowboys stadium \",\n \"'( chapter 17 ): love getting kicked out of bars ! !  # soannoying'\",\n \"nothing like spending the day - rodent proofing your home . yeah , that was over $ 200.00 i didn 't need \",\n \"'dunno why starbucks is getting all the grief - dr . pepper clearly is clearly pushing a homosexuallist agenda with their new ad ! # boycott ! '\",\n '\\'so ... this is the president ... but ... it \\\\\\'s not him ... it \\\\\\'s \" us , \" right ? we just need to hate our fellow man . \\'',\n \"'thank you # sainsburys for making my lunch time exciting and visually spectacular  # worstlunch emoji_2272'\",\n \"<user> 's thanks for the drink of ice .  literally asked for easy ice . emoji_204\",\n 'I have such a great life lol',\n \"that 's cool <user>  i totally don 't pay for <num> mbps download ...  not even <num> mbps ! ! emoji_75\",\n \"'pak sponsored terrorist kill our ppl & soldiers , & v hacked their website . .. what a revenge ... must say '\",\n \"'well . this is outdated now . add another 4 + cents per litre to that . thanks ontario ! '\",\n \"'what a great toy set ! kids will love it ! makes cleaning fun !  # nope # kidsarentthatstupid # comedy'\",\n \"'<user> really ? ? i feel so secure  # infosec # fail what a pathetic policy password <= <num> char cc : <user> <user>'\",\n \"such a shame that the obama administration isn 't doing anything to fight # terrorism worldwide . <user> \",\n \"i sure do love how some syandana 's don 't fit on octavia . <user> \",\n \"'great job <user> ! it only took <num> min . on the phone to have one question answered . # greatcustomerservice '\",\n '\\'\" any man with two hands has a fighting chance \" goodbye <user> . you will be forever missed .  # goodriddance\\'',\n \"'<user> thanks for the reliable internet with great speed .  # wtf # fixit emoji_1551'\",\n \"' . but srsly'\",\n \"evidence that clearly it 's gender and racism that are clearly our biggest worries in the gaming industry . \",\n \"if only he had some acid to teach those uppity women who 's boss \",\n \"'to everyone who complained about it being too dang hot for october : thanks . thanks for ruining my indian summer .  # imissthesun'\",\n \"'bitcoin : the future of finance today '\",\n \"'. <user> hey , customs ! great app . thanks for the help . '\",\n \"'say what you will <user> and <user> : this <user> team is on the cusp of the playoffs .  # butreallytho'\",\n \"'<user> blackmailing citizen for 1st amendment right . super duper . neato gang . job well done . '\",\n \"'when  needs to be said # ibelike'\",\n \"picture of me enjoying father 's day with my dad today ..... # fathersday # whatgreatmemories  # hesadeadbeatloser # neverneededhim\",\n \"'shout out to <user> for this quality package . i love how i can open it with half of it open .  # ifitwasbrokeniwouldbemad'\",\n \"'happy new year !  # newyear # goals # hangover'\",\n \"so excited for valentine 's day ! ! ! ! ! \",\n \"'this makes alot of sense '\",\n \"'once again meteorologists accurately predict wet & cold el ni├▒o . congratulations on forecast . nailed it ! ! ! '\",\n \"'good thing my kids school clothes early . all this snow would be dangerous for buses ! ! '\",\n \"'yep , totally normal <user> nothing is off about this . nothing at all .  # itstoohotalready # climatechangeisreal'\",\n \"'i ΓÇÖ m shocked ! '\",\n \"'wow ! the power of kpop means charting on itunes in places where itunes doesn ΓÇÖ t even exist ! # factcheck # icannotbelievethisisonwikipediatoo  emoji_410 emoji_410 emoji_410'\",\n 'Parking garages and big cities are my favorite #whatsataxwaiver #courthouse',\n \"'son : my friends say i look more like mom me : you were adopted how is that possible son :  # perfectdad'\",\n \"'<user> these unlimited speeds are awesome  # '\",\n \"'amazing london community spirit  emoji_73'\",\n \"'wow no way i never would of guessed . '\",\n \"hey <user> nice effort  in helping # harvey flood victim . # fail # customerservice i 'm disappointed in half-assed effort . # shame\",\n \"'what we will get with <user> # absolutelybarbaric '\",\n \"# bollywood didn 't lost one , but <num> legends at a time .  # derasachasauda # ramrahimsingh # ramrahimverdict # ramrahimconvicted # ramrahim\",\n \"here 's an e-mail from the president of the united states promoting unity & harmony .  from the wording , you might get the impression that i supported him at some point , but i never did . i 'm not sure how i got on this list , but it 's kinda fun .\",\n \"'flat tyre . stuck in a car with two of the best behaved little girls in the universe  # helpme emoji_410'\",\n \"'glad the president of the united states has his priorities in order . '\",\n \"'# sorry we been off grid . # mother decided a stair roll might be fun  . she recovering with the help of # nhs need a # business # partner'\",\n \"'flying with <user> is fun , since you get to hang out in the airport shuttle for 15min # flynorwegian # bushangout '\",\n \"we 're totally not blushing ... \",\n \"'finally some real news  # funny'\",\n \"a video store closing down ... now that 's a shocker .  # civicvideo # internetkilledthevideostore\",\n \"wow <user> and <user> , y 'all really took a principled stand for freedom right here ! ! good job guys ! ! \",\n \"'exactly what bibles should be used for ... really ? ? ?  # help # comelordjesus'\",\n \"'once again , <user> show how excellent their stock rotation is .  today is the 24th .'\",\n 'love when things break at work...',\n \"'i own only a couple tamashii stages  # whydoidothis'\",\n \"'what up , chicago ? quick trip into the city today for work stuff . thankfully i hit traffic so i could take a photo . '\",\n \"'how wonderful (  ) of usa to go bankrupt ensuring # israel has more # military power than little boys in # palestine with rocks . # gaza'\",\n \"'feels great outside !  # weather # polarvortex # boston'\",\n \"'<user> does it again . well done for handling stray lions in the best way possible .  <user>'\",\n \"'yes , because this logo looks sooooo incredible ... '\",\n \"'smart managing from lvg  after a game of us attacking all game we bring on schneiderlin ! '\",\n \"'no better way to start the day . working in the rain . '\",\n \"it 's not easy being an overweight neck-beard . thank god for # whiteprivilege \",\n \"'these youtubers are really original '\",\n \"<user> wow , those <user> 's are really cheap .  reallyasale # badadvertising # wantedtobuybutwont\",\n \"Today's the perfect day for the furnace to break. #cold\",\n \"'<user> the new short pour product is going to take the world by storm '\",\n \"'. <user> exhibiting great # leadership # usa # 45 '\",\n \"'thanks for the awesome  leaky  cup <user> ... making my morning just so much better  # cuttingcorners'\",\n \"'hedgehog ice cream too yummy , so delicious # iblamebrexit  # brexitgetsblamedforeverything'\",\n \"'<user> congrats on getting married & miraculously giving birth to a <num> yr old .  . get it right <user> # fakenews emoji_177'\",\n 'Man this place is packed!! #duh',\n \"'so enthusiastic about life right now .  # wouldratherbesleeping'\",\n \"'love <user> for their customer service and quality engineers and speed service  # 4weekswaiting # stillnointernet'\",\n \"The waves have been so good this winter, I don't even need to go to Costa Rica anymore #bestwinterever #wtf #whereisck\",\n \"'cheesecake factory putting ads in their menu . real classy . '\",\n \"'cops at # pheonixrally telling violent antifa protesters to leave or get gassed ! the nazis used gas ! cops are nazis . '\",\n \"hold up ; can 't you just print more ?  # inflation # taxation # devaluation\",\n \"'changing back into my ugly uniform for <num> more hours . so excited . '\",\n \"'<user> good to see you keep your beans fresh ... # ew '\",\n \"'wow ! <num> full minutes ? ! ? what an inspiration ! # trump '\",\n \"can 't wait to spend several hours every day in the next few weeks with these lovely books .  # lawstudentproblems\",\n \"'<user> <user> thank you for the customer service .  # upsetcustomer # whyshouldistay'\",\n \"'# iphone gps ftw # fail . thanks for the update apple . works great ! '\",\n \"'# nintendoswitch woah , the internet on my switch sped up drastically ! '\",\n \"'wow  didn ΓÇÖ t know i was so active ! or that there were over 2000 days in a month ! december challenge here i come .... '\",\n \"'people around here are great lol .  # wow'\",\n \"'well they are both nouns ... easy mistake to confuse the two ...  # marriagequality # auspol'\",\n \"'my cat thinks she so helpful with homework '\",\n \"it 's a good thing obama has terrorists on the run . \",\n \"that 's it . i am quitting my job . and just three weeks before the start of term . what great timing \",\n \"this place is rubbish . i 'm heading home .  # cycling # malta\",\n \"'how much fun did i have going to a store this big to look for something this small ? ? ? ! ! !  # diy # momsgotthis # singlemom'\",\n \"'so ... grim ... up .... north '\",\n \"'love every aspect of owning a # restaurant . anyone detect a hint of  ? # ramsbottom # restaurantlife'\",\n \"i don 't like fall \",\n \"'perfect wheat cutting weather  emoji_113 emoji_113 emoji_113 emoji_113'\",\n \"it 's amazing how she seems to fit right into the natural environment . # photoshopfail \",\n \"Can't beat the quality and finish on new products now a days 🐦💩\",\n \"daaamm # popplio 's ultra sun / moon redisign is looking worthy of a s-s-sick dab .  # pokemonultrasunmoon # mcdonalds # emojimovie\",\n \"'obamas first year in office had <num> major shootings ? trump has <num> major shooting his first year . gun control must work .  # alexjones'\",\n \"'storm of the year .... that was a huge downpour really '\",\n \"'really impressed w / trouble <user> went through to fix my order when they sent me a 2oz tube of zit cream instead of a 4k kodi box '\",\n \"'<user> lucroy walking away during celebration ... obviously getting traded '\",\n \"not # breakingnews : tomorrow 's forecast is for more _____ . # 4letterword  # rainesville\",\n \"'this is the your <user> well done usa  . <user> <user> <user> <user> <user> <user>'\",\n \"'who can easily pass through this door ... # easy # pass # throughyoureyes # doordonotthereisnotry  # funny # entertainment # entertaining # blogsbar'\",\n \"oh look  another chat closed . this is fun . wish mother 's day had been this fun for my grandmother ...  <user>\",\n \"'look at how lame they are . # baby # child # photography # photoshoot '\",\n 'Virtual school is so much fun!! 0.o #school',\n \"'not all white supremacists are violent . '\",\n \"'because everyone knows that being smeared and losing the election was exactly what # hillary wanted . '\",\n \"'just got upgraded internet supposed to be <num> down # att # lovemyisp '\",\n \"'twitter . a place of originality . '\",\n \"'yy598best1 sliding around auto headshotting in # pubg always great to see # cheaters having fun  <user> <user> # pubg'\",\n \"if you enjoy buying a firearm component from <user> & then receive an email from them telling you they 've lowered the price $ 40.00 days later , then you 'll love doing business with them-you 'll also love never-ending wait times on their non-toll-free phone no . \",\n 'Well that looks awesome. 😐😭 #rain #pennstate #morerain',\n \"big story from <user> shame that picture isn 't of paddy lacey really ? so unlike them to be inaccurate too ...  emoji_549\",\n \"'gee , <user> thanks for taking such good care of our <user> christmas cards !  # deliveryfail'\",\n \"i 'm glad that <user> & <user> finally raised that they have the exact same target audience ! # taylorswiftdelivery  # whatdoiwin\",\n \"'sure glad we had such great weather for our estate sale this weekend . '\",\n \"'nothing like a full 3d body scan in your underwear first thing innthe morning to reaffirm your lifestyle choices  # mindyourmoles'\",\n \"i 've decided i 'm only using floppy disks from now on . each can hold a whopping <num> kb ! # thefuture  # techhumor\",\n \"'<user> and what are you two other customs line are doing ? thats right , its bloody closed . way to go giving a great impression of your capital city ! '\",\n \"because the daily mail isn 't biased  # terriblepaper # biased\",\n \"'hey <user> , you were right , this looks exactly like iraq .  # wreckem ΓÇô at ttu - dan law field'\",\n 'Thank god! @rebelcircus #rebelcircus #meme #bitchyquotes #funny #bitchy #funnyquotes #sarcasm #sarcastic',\n \"<user> thanks for making my mom 's gift so special !  this has happened the last two times i have ordered .\",\n \"'my mind is at ease now these two are working together to fight terrorism ! '\",\n \"they 're asking money for their work , how dare they ! ! ! ! # appstorereviews  # appstore\",\n \"isn 't it cute - marching and shouting death to america earlier today . how dare the president ban these people .  # smh\",\n \"'. <user> is another upstanding individual trying to get women to learn their place .  # trumptrain'\",\n \"'road looks great .  # holdmybeer'\",\n \"'who knew weathering could be so boring ? ! i just had to interview two puppies today .  # puppies'\",\n \"'<user> <user> i am so offended by these products now - time to pull them from the shelves ! '\",\n \"reading comments i made on my novel while writing it . they 're super helpful .  # amediting # amwriting # amwritingfantasy # writerlife\",\n \"this is the best bed i 've ever slept on .... \",\n \"'i really love hospitals '\",\n \"'<user> great service you provide '\",\n \"'<user> from kentucky seems nice . '\",\n \"'new dvds have arrived in store , what a great selection ! '\",\n \"'my <user> 4g speed test results ! the power of true 4g .. .. i am truly mesmerized with the speed i am getting .  emoji_15 emoji_15'\",\n \"'looking forward to being blown away . what with having a cold and being made single , october is shaping up just fine for me '\",\n \"'<user> donut for lunch today # cleaneating # healthy '\",\n \"'just love what texas weather does  emoji_145 emoji_145 emoji_145 emoji_145 emoji_145'\",\n '\\'thanks for \" trashing \" the office <user> . you are a monster ! \\'',\n 'Yay for #crosscountry in the #rain! #iloveoregon #supportivemom #trackmeet #rainorshine',\n \"'smashing service as usual ! such good money spent ! love my commute !  <user>'\",\n \"'this should end well ... '\",\n \"i 'm sure the private sector couldn 't do any better ... \",\n \"can 't wait !  emoji_3245 emoji_206\",\n \"good to know that # marital # rape isn 't a thing . \",\n 'what a wonderful ending to such a great day😁 #ihateyou #frickyou #pulledover',\n \"don 't worry carter . i wasn 't reading that book or anything . # cats # fatcat # reading # books # considerate \",\n \"'when your wife orders a <user> shirt in xl & i end up with this ? ? ! thanks <user>  wrong team wrong size'\",\n \"'thanks for the great looking big mac <user>  # dissapointing # hungry'\",\n \"'<user> new approach to # healthyeating ! ! # junkmail  # cleaneating # healthyfood # eatclean # nutrition # gethealthy # iqs # sugarfree'\",\n \"'hey ! western nationalists ..... give up coffee ... thats the drink terrorists introduced to your kind ...  ...'\",\n \"parenting . it 's basically a day off . # hubris \",\n \"'great game to be celebrating out <num> consecutive sellout .  # nuvsosu'\",\n \"'100 % open-house ready . '\",\n \"well , this isn 't at all claustrophobic .  hankyou # propstothosewhoserve\",\n \"'plain text passwords ... cool . '\",\n \"'i think the cats might be having a hard time settling in to the new apartment . what do you think ? # catlife '\",\n \"'so you came up with # thehungergames for pharmaceuticals ? this will end well ..... (  )'\",\n \"'<user> i hope you like my photo editing skills , please put in video '\",\n \"'top quality advertising !  this makes me uncomfortable for a couple of reasons . who can guess why ? # smdh # wishadfail'\",\n \"'halfway mark to my ed . d and this is my reward .... statistical analysis for educational leaders #  ΓÇ¥ joy ΓÇ¥  # oyvea'\",\n \"'oh wow ! thank u so much <user> you must really want me back . <num> whole days ? ! what an offer !  icymi'\",\n \"'so this layout really works apple , really and truly .... top notch . '\",\n \"'lovely weather for easter saturday # ukweather '\",\n \"thanks blizz , i didn 't know that getting their health to <num> is how to kill them ! \",\n \"given grass was almost a foot high b4 they cut it i 'm assuming <user> intends to bale it now . # yqr \",\n 'Arrow is just chilling on a lawn on fourth street. I only have 7 more dogs to walk today. Take your time buddy. #sarcastic #dogs #rescuedog #doglove #dogwalker #dogoftheday #dogsofinstagram',\n \"'thanks google photos for the notification that a stylized photo was available of my totalled truck . '\",\n \"because if there 's anything rich corporations love to do , it 's just willingly giving their workers great pay & benefits .  # 1u\",\n \"'no , i am not depressed . '\",\n 'When your out and having the best time of your life !!! ... #sarcastic  #iphone6 #robross #dancer #dance #hiphop #StreetDance #performer #teacher #choreographer #followme  #follow #twitter @Robonlyross #selfie @robonlyross #second2none #s2n #swag #newera #urban #bboy #breakdance #positive #uk #snapback #instagood #instadaily #streetography #iphone #instamessage #like4like',\n \"'yep .... trump is doing awesome things for the us . '\",\n \"'<user> thanks to whoever decided this was a good time to show stats . '\",\n \"thank you <user> . we weren 't planning on taking care of our luggage anyways ... \",\n \"<user> <user> i like your how your online agents remembers names ! # epicfail  # whosderick ? i 'm ray !\",\n \"top story . glad to see he 's safe in custody . \",\n \"'wait does this mean the vicious weather is over ? # rainforfourdays # itdoesraininca # noarcneededafterall '\",\n \"'<user> absolutely loving the new # crappylids  # fail'\",\n \"apparently it 's international coffee day . as you can see i am not a fan .  # internationalcoffeeday # biggerthanmyface\",\n \"'generically interdisciplinary , very quick review turn-around , and you can stack your reviewers ... what could * possibly * be questionable about this ?  # academicwriting'\",\n \"'even # google is useless , now a days  emoji_97'\",\n \"'<user> it seems our cities are making best use of the generated power .  # pune'\",\n \"'thanks to the driver of this minivan <num> the immense depth of ur considerate personality & parking ability !  emoji_84'\",\n \"'cancelled flight + <num> staff ( who were amazing ) + $ 10 \\\\\\\\ food = amazing service from # aircanada  # theworst'\",\n \"'banning guns would have totally stopped both of these attacks , right ? '\",\n '\\'sure looks \" like the superfriends \" to me \\'',\n '\\'\" <user> : i have a crazy suggestion , how about tax relief ? <user> \" that \\\\\\'s amazing ! # cndpoli \\'',\n \"go to <user> # devops talk they say , it 's going to be fun they say . full house . # devops is so popular on # devoxx # devoxx2017  emoji_5175\",\n \"'good to see that the <user> will be in good hands with this delightful fella . another great pick by <user> . '\",\n \"'soooo another lovely commute . thanks mta for your planning efforts .  no f train at 74th # roosevelt 835a . <user> <user> <user>'\",\n \"it 's another beatiful day  jaja\",\n \"'ooo .. i thought wifi will keep us alive  think .. where are we heading ? ? # savetrees # saveearth # smilemore # livehealthy emoji_97 emoji_15'\",\n \"'when you turn the hud off . great broadcasting today <user> '\",\n \"'this  # funniestquoteoftheday emoji_19 emoji_19'\",\n \"if umass basketball keeps losing , they 'll be assured of the #  1 pick in next year 's recruiting class # tankforporter # trusttheprocess \",\n \"'my cup over floweth . i guess that means i ΓÇÖ m off the rest of the year ? '\",\n \"thinking well , if trump 's white nationalist built wall isn 't a bad idea <num> # phoenixrally # trumpinphx # bannonfilms # tuesdaythoughts  emoji_549 emoji_366\",\n \"oh really ? only 208m pro-suicide attack # muslims ? that 's ok ...  # idiots\",\n \"'good morning # sunday  emoji_15 emoji_15'\",\n \"'nothing more enjoyable than a 6am alarm for a required dji update before an all day drone shoot .  # dji # drone # dronestagram # photog ΓÇª'\",\n \"it 's always great to see no one manning the first class check in <user> in # detroit \",\n \"laws don 't apply to wealthy !  rt <user> : my dad went to panama and all i got was this lousy t-shirt .\",\n \"are there folk singers in the house ? i can 't tell .  # obvi # eac\",\n \"'thanks <user> . no fries , no extra gravy . i love this $ 7.50 half a meal . '\",\n \"great job <user> i guess damaging only <num> golf clubs from <num> isn 't bad ....  # toflytosnap\",\n \"'<user> u r the best ever brand ! i truely beleive that it is u who should be the face of all products !  # modi # beingsarcastic'\",\n \"'so sorry to see <user> and his stable of stolen image bots unfollow me en masse ears '\",\n \"'stay classy sir . why bother even trying to be presidential or trying to unite our country . # trump  # resist'\",\n \"how 's my diet going ? # fit # fitgirl # diet # diets # eggs  # truth # life\",\n \"'# schooldinners are getting more and more # exciting  # conwy # firstdayofthenewmenu'\",\n \"'colorado sunsets ... yuck . # cowx # 4wx # colorado '\",\n \"'when <user> have a sale # dealstobehad # whentheyaregone # blackfridaydeals '\",\n \"'what i like about chelt is how we get things done quickly & efficiently  # cheltenhamproblems st . georges pl businesses , i feel <num> you .'\",\n \"sure glad the city doesn 't spray weeds anymore  # yxecc # yxe every piece of city property is overrun\",\n \"'1st snow of the ΓÇÿ 17 season . thank you , mothernature .  emoji_543 emoji_75'\",\n \"don 't ya just love spending Γé¼ 61 just to stand in a queue for <num> mins to slide for <num> seconds ...  # hatequeuing # aqualand\",\n \"'some banks feeling bad  that they charge u frivolous fees to look after ur hard earned , after tax money .'\",\n \"'. <user> right . low turnout . # idiot . # cnn / # bakari = # fakenews emoji_19 emoji_19'\",\n 'My beautiful drive to work... Look at those colors! #foggy',\n \"this can 't go wrong # maga  # wearestillatwarwith'terrorism '\",\n \"hey <user> - could you possibly make your logo a bit bigger ? it doesn 't quite full the entire top edge of my screen . \",\n \"'nothing says merry # christmas better than a card from your divorce lawyer ! '\",\n \"'work on my new track is zipping right along  # procrastinator # fidgetspinner # hardstyle # trancefamily emoji_15 emoji_15 emoji_15'\",\n \"'<user> <user> <user> the first recommendation of a # bollywood # song is # wow . # paid # perception # people # wtf '\",\n \"My last day to sleep late and I'm up at freaking 7. This is going to be a wonderful day!\",\n \"'hey , pudgydemon , the whole world is totally with you .... totally ...... # catalonia # catalunaesespana # legohead # puigdemont '\",\n \"#crab #moregrub #afterthanksgiving because I didn't have enough food yesterday\",\n \"'thanks <user> , this is the exact condition i expect the post to arrive in .  # allthesarcasm # royalfail'\",\n \"'oh , ΓÇ£ only ΓÇ¥ 600 ? well , i suppose that makes it okay then ....  # apartheid'\",\n \"i can 't see your promotional graphic for the eighties , <user> , it 's too small ! \",\n \"'awesome holidays ... '\",\n \"'i dunno about you , but i ΓÇÖ m sure gonna miss the northam / gillespie tv spots . this is our last weekend to ΓÇ£ enjoy ΓÇ¥ ΓÇÿ em . '\",\n \"# trump thought bombing # syria would make him look decisive and having emperor-like powers ... aight donald , you 're halfway there ! \",\n \"'shame my city is so ugly . # chicago  # lovethiscity'\",\n \"'excellent work once again by <user> ... 4 carriages on rugby day .... oh no wait it ΓÇÖ s coming out of town ! ! the last train going in had <num> carriages and it was pack so didn ΓÇÖ t stop # excellentwork  # absolutejoke # walesvsouthafrica'\",\n \"'my # snapchat is a boring as my tweets . cambridgegirl 7 # humblebrag  <user> # music'\",\n \"'hahaha , joking about rape by soldiers under your command , during martial law . gets me every time . # duterte  # justtobesafe emoji_15'\",\n \"'nice half and half pizza <user>  # fail'\",\n \"'# studying for a test <user> my # sdit is really a big help  # collegelife # working4thegpa'\",\n \"'<user> <user> wonderful initiative # shivajimemorial guess we cld do with 1in each direction . who farmers & their woes ? '\",\n \"yeah . we aren 't spending enough on military . # military \",\n \"'<user> , how could i pass up such a fantastic saving on the <user> millennium falcon . '\",\n 'Everything you see on the interweb is real #nofilter #untag #selfiesfordays #restingbitchface #aintgottimeforthat #meme #instalike #sorrynotsorry #funny #funnypictures #fun #laugh #sarcasm #sarcastic #funnypics #lol #lmao #lolz #laugh #lmfao #nikkitcb #funday #errryday',\n \"'thank goodness <user> let all the kids out of school <num> minutes early yesterday .... that storm was super dangerous ! '\",\n \"i 'm super confident this guy is fighting for the poor and middle class . \",\n \"'because no abuser has ever hidden who he was . they all wear signs . '\",\n \"Yaaay my 'new' phone really fits into my armband. #lost #phone #so #stupid #hateit\",\n \"'of course he looks like grindewald , every little detail jaja ! best cast ever ! '\",\n \"'good quality viewing here with the <user> broadband and <user> combo !  better viewing on my commodore 64 in the 90 ΓÇÖ s ! # 240p'\",\n \"'well arguing with apple over my password was fun #  '\",\n \"i love that there 's black spots in my hash browns at <user> \",\n 'Good to be back in SRQ #haha #jk #dontwantschooltostart #goodbyecivilization #thesisstress',\n \"'extra whipped cream <user> = less than normal it seems . on top of a melty sundae . so glad my kid waited 20m in line for this '\",\n \"'such a great view from the # rockefeller . love me some # impermeablepavement .  afan # needsgreenspace'\",\n \"'seems like a high confidence forecast for the middle of next week . '\",\n '\\'enjoying my new samsung galaxy s8 + on <user> \" blazing fast \" 4g lte network # sprint  <user> <user> # fixit # creditme\\'',\n \"'oh no , how terrible .  # goodriddance # celtics emoji_2563 emoji_2563 emoji_2563'\",\n \"'this storm means business . this is going to be fun to drive in ...  # yikes # hugethunderstorm fun emoji_4780 emoji_2007'\",\n \"'yay for 40c ! god i love summer in # australia '\",\n \"'delayed <user> flight dub-edinburgh . not frustrated honest  # travelwoes # dublinairport # planeproblems # sadface'\",\n \"'menu testing with all of the duck ! this is the hard part . # toughwork  # menu # brewpub # openingsoon'\",\n \"'please everyone , give <user> a chance ! # donaldtrump '\",\n \"'awesome traffic  thanks a bunch for lovely customers '\",\n \"'wow , some of the homes are affordable ! those <num> unaffordable homes will improve the area so much more keep the rabble out ! '\",\n \"it 's a shame i didn 't get anything sunset shimmer related at # efnw2017 \",\n \"'# whetheryoulikeitornot zuma is one of the presidents that are good with numbers  emoji_15 emoji_15 emoji_15 emoji_15 emoji_15'\",\n \"super confident that my flight won 't be cancelled .  # sadly # travel\",\n \"'you know that agile course must be good when it is advertised on facebook as a groupon offer . '\",\n \"'<user> amazing customer service . would totally use them again  <user> <user>'\",\n \"my name is grace .. and okay .. i admit .. i 'm a bad influence ..  me emoji_2663 emoji_2665  emoji_15 emoji_15 emoji_15\",\n \"'my passwords are hashes so they are a pain to type . thank you <user> for forcing me to type it manually , i really appreciate that . '\",\n \"yes , <user> , that 's the important news of today . \",\n \"'looking thrilled ! '\",\n \"'how to know if a terrorist is responsible for the the deadliest shooting in america '\",\n \"'but these are the kinda people we want in our country ... right ? not these damn illegals ! '\",\n \"'that moment when wikipedia has blocked editing . not that wikipedia is a legit source but kudos to <user> team . # calibrigate '\",\n \"'got a call from russia today . bet it was legit . '\",\n \"'wow $ 70 cheaper what a difference android users  emoji_321'\",\n \"anyone remember # maroon5 's latest # jazz album ? so good ... \",\n \"clearly it 's not hard to tell how much i love pa  emoji_145\",\n \"'seriously glad i chose <user> over <user> now '\",\n \"<user> i didn 't want to eat this taco , i just wanted it to disintegrate on my plate . thanks , guys ! \",\n \"'what a lovely saturday morning to get up early for yoga ! # melbourne # winter # yoga  emoji_543'\",\n \"' # climate_change # climate_change # climate_change # etc what is better than winter in the spring ? winter in the summer .'\",\n \"'a little taste of some of the fun folks are having on the roads this morning ...  # brutalcommute'\",\n \"wow ! <user> really knows how to reward it 's most loyal customers . \",\n \"anyone who tells you <user> isn 't great , don 't believe them . just look at this quality . \",\n \"'with <user> at washington dc , such a good view from our room , '\",\n \"it 's 22:30 and it 's 24 ┬░ oh i can 't wait to come home to the british weather  # tenerife emoji_586\",\n \"'oh the joys of unsolicited dick pictures  # camgirlproblems'\",\n \"i 'm sorry # usps , but this is terrible . why send my water bill to me at all ? all i got was my address . but i 'm glad you care . \",\n \"'offerup is such a great tool for selling things '\",\n \"definitely wouldn 't want to hurt the feelings of the person who is raping you ΓÇª  # isthisserious\",\n \"'monica schneider makes provocative claim that gender mattered in the <num> campaign . '\",\n \"'ah ! so i found my parcel <user> obviously lovingly cared for by <user>  # damaged # didntevenknockonthedoor # '\",\n \"wow ! life changing comment this morning ! * applause * my life will never be the same now , and i 've never heard this before ! \",\n \"'# tropicalstormemily we will not forget and we will rebuild . '\",\n '\\'<user> thanks for the privacy breach & <user> thanks for the \" resolved \"  wtf happened ? were you hacked ? emoji_75\\'',\n \"thank you <user> for truly being the voice of the american people . your ( lack of ) compassion , sympathy , and common sense is unparalleled and it 's amazing to think of all the power you have in your tiny , tiny hands . # maga \",\n \"pro tip : if you 're a photographer , make your avatar and profile picture one of you behind a camera , taking a pic of us .  # helpful\",\n \"dropped my mac in it 's <user> backpack this morning . lucky their padded bags offered great protection \",\n \"'always invest in real <num> hour security . lol # sleepingsecurityguard # funny '\",\n \"'gee thanks <user> i can save $ 20 / month to pay an additional three years ! # greatdeal '\",\n \"'great way to start the first day of school  emoji_156 emoji_2506 emoji_1427 emoji_75'\",\n \"now i 'm no detective but jewish gravestones targeted and destroyed ? doesn 't sound like vandalism . probably just an accident \",\n \"'when you pick up your <user> online order and your shirt looks like this . outstanding work . '\",\n \"'<user> i subscribed only for # jio2g but in midnight when i traffic will be low am getting # jio3g <user>  # epicfail'\",\n \"'today i have this glorious view from my hotel window .... '\",\n \"Can't get enough of #AprilLudgate and #ParksandRec. #AmyPoehler #NBC #beautifulcontradiction #ironic #thatsgross #iloveit #intern #sarcasmseries #handtype #handlettering #lettering #draw #handdrawn #graphicdesign #type #typography #customtype #design #quote #quotesbyapril #lifeinspiration #dailyinspiration #inspire #funny #sarcastic #goodtype #Morocco #Africa\",\n \"'yes , i ΓÇÖ d like my baby formula with a side of raid roach spray . thank you <user> for making that possible !  # unsolicitedopinion'\",\n \"'thats all it takes to develop third world countries ? ! why have they been living in squalor all this time ? ! '\",\n \"<user> your # lte network is so great ... haven 't seen speeds and ping like this since i had <user> . \",\n \"'the best part about this  is that we are making america great again .  # thanksdonald # aca # obamacare'\",\n \"'starting this week off on a positive note  # dinosaur # trex # bookstagram # funny # monday ΓÇô at posman books emoji_107 emoji_3142 emoji_5050'\",\n \"'thanks a lot <user> . great service ! '\",\n \"no ! ! ! i never would 've known if i hadn 't looked at this ! \",\n \"'woohoo ! what a very productive weekend ! ^ _ ^ i finished several starcraft missions !  # whatthehellamidoing # iwillpayforthissoon emoji_220'\",\n \"'obviously , we are way behind the curve . '\",\n \"'thanks <user> for having such great coverage while the power is out  # fml'\",\n \"wonder if it 's going to rain ? # minnesota \",\n \"'wow my heart really aches for your probs  '\",\n \"shoutout to yukon high school for the great accommodations it 's made for media .  # icantsee\",\n \"'it snowed last night !  # sendsnownow # hamont emoji_2665'\",\n '\\'<user> for the safety of the people please remove the \" eating carpet \" and save lives \\'',\n \"'clearly both are above all haters on social media and the prove is when they deactivate their comments on ig .  # partnersoflies'\",\n \"'thanks for the awesome packaging , <user> .  # buyersremorse # thesearechipsnow'\",\n 'Mornings should only consisr of sleeping, sex and bacon. @rebelcircus #rebelcircus #meme #bitchyquotes #funny #bitchy #funnyquotes #sarcasm #sarcastic #sleep #moring #bacon #sex',\n \"'only haters will say this is not in bhopal . # trendingtrollss # bhopal # unesco # troll   # trending # funny # trendingtrolls emoji_15'\",\n \"i love it here , it 's so much fun watching a number board for hours .  # heathrow # thehorseshoe # trucks\",\n \"'thanks <user> <num> blocking my # driveway its not like ya had the rest of the street open <num> parking  # theyvebeenthereforhours'\",\n \"'they must be paying their employees very well . # raisethewage # fightfor15 '\",\n \"'why , of course ! this campaign needed more agressiveness ! '\",\n \"'# istandwithmarksthiccneck look at all of this productivity going on .... '\",\n \"'not much this - not a very popular style of beer & not from a very popular brewery .  # piratelife # ipa # mosaicipa'\",\n \"it 's going to be such a lovely day in nyc .  # nycweather # freezing emoji_75 emoji_586\",\n \"'good job , malaysians <user>  # ingrates # kufurnikmat'\",\n \"'man these new wireless desk phone headsets are getting fancy . completely wireless . '\",\n \"this is probably the most rational thought i 've seen on twitter today ! \",\n \"'well this is going exceptionally well . # trains '\",\n \"What do these things do?! I've never seen anyone use them before!! #comeonpeople\",\n \"so glad i mobile ordered from <user> and still had a <num> minute wait for my drink . that 's the point of mobile order , right ?  ΓÇô at union station\",\n \"'barry manilow had us all fooled . he never gave us a clue he was gay .  # captobvious'\",\n \"'wow . great first experience with <user> <user>  emoji_177'\",\n \"isn 't playing vs quest mage just the most fun . :) # hearthstone  ;p\",\n \"did anyone catch this in forbes ? ? ? that 's kind of crazy to think almost half the people in some of these states are in collections . oh , don 't worry , christmas sales were great , we 're doing great ... lol .  emoji_15 emoji_15 emoji_2766\",\n \"'truck died in parking lot of feed store ΓÇª good thing it is not hot out here while i wait for my ride . '\",\n \"'finally a beer my wife can drink !  seriously what the hell is this # aurosa # nonsense ? # firstbeerfoher # tweeteditedtobesfw'\",\n \"'<user> <user> nope , definitely no favoritism from <user> about the town hall . '\",\n \"woah man .... i sure am loving this june weather we 're having ............  # socalweather emoji_220 emoji_75 emoji_75 emoji_75 emoji_75 emoji_226 emoji_226 emoji_226\",\n \"'awesome . '\",\n \"'negative interest rates ? sure why not . '\",\n \"'well this should fit lots of garbage in it !  # baginabag'\",\n \"'boy i love how convenient it is to get to a <user> atm to get money anymore ... only a <num> mile drive  emoji_177'\",\n \"'thanks james  i really hadn ΓÇÖ t worked that out for myself '\",\n \"'my day with <user> keeps getting better ...  <num> flights worth of luggage on the same belt ΓÇô at baltimore / washington international thurgood marshall airport ( bwi )'\",\n \"'what better way to spend an early sunday off ? # ironing '\",\n \"'and so we wake to another glorious week !  # mondays'\",\n \"'the month of build up for <num> seconds of drama will totally be worth it  # mkr'\",\n \"'yes . exactly what i wanted to do for 3.5 hours and counting on a weeknight work night . '\",\n \"hey , i 'm so for # trump2016 .  # dumptrump # sanders2016\",\n \"well , <user> finally did it . i guess that means he 's been wonderful all along ...  # twitler\",\n \"'this happened earlier so my # dateline tweets might be off the hook tonight . # wine # beach # drinks '\",\n \"'# uncletex & # bigminpig shunning us ! gee i wonder why ... '\",\n \"'never seen a # dlr train driver before . looks like a tough job  # london'\",\n \"'this is going to age sooooooo well . '\",\n \"omg ! i 'm second row from the front ! check out my amazing view .  ;)\",\n \"'50 minutes delay ! gysev , i love ya ...  # traindelay # imfreezing # backtosalzburg'\",\n \"'i ΓÇÖ m just so relieved we have a <user> that will deal with north korea in a level-headed manner ! '\",\n \"woohoo ! thank you niantic for ash hat pikachu that 's not anywhere on my nearby . i 'm so happy  # pokemongo\",\n \"thanks <user> , that 's really really great .  # netflix # oitnb # error\",\n \"'<user> great support effort on twitter ! '\",\n \"'<user> because making light of drug use during an # opioidepidemic is always great marketing .  # addiction # heroin # mentalhealth'\",\n \"'my days going great !  . emoji_107'\",\n \"'whoever is in charge <user> for online ticket booking , thank you <num> testing our patience for d lst 18hrs or so <user>  # fail'\",\n \"hmmm ... i can 't spot the difference .  # redraw\",\n \"'current temps . another great phone forecast from earlier in the week . '\",\n 'I love these summers: the sun, the warmth... #sarcastic #badweather #rain #rainyday #cloudysky #sky #nature #naturelovers #natura #pioggia #cielo #sera #evening #summer #hamlet #borgodour',\n \"'<user> how do i phase through attack midair like the l7 ai ?  # arms # nintendoswitch'\",\n \"that 's what i call quality control .  . # hp # proliant # dl360 # server\",\n \"'seats are just turrible  emoji_15 emoji_15 emoji_15 emoji_15 emoji_15'\",\n \"'you sound like # kishorekumar whenever you lip-sync !  # absidisms'\",\n \"'yeah , this guy should be president !  # hitler2016'\",\n \"finally , a convenient solution to party chat in video games ! ! ! why didn 't sony & microsoft do this years ago ?  # nintendoswitch # lol\",\n \"'. <user> good job ! '\",\n \"work who needs it - let 's rob a bank ?  let 's getaway # rhetorical not <num> rhyme is a crime - sounds like grime\",\n \"'sooooo nice of the city to help yanez transition off of the force into a new line of work . that poor man . '\",\n \"'thank you sugar information , inc . !  # sugarstupidity'\",\n \"'definitely my favourite .  # writerslife # writing # writer'\",\n \"'304 days is needed to have a family doctor ! what a wonderful health care system we have in quebec ! # healthcaresystem # quebec '\",\n \"'john kelly has really done a great job of bringing order to the white house .  # charlottesville'\",\n \"that 's odd , i wonder why nobody cycles to silverdale ?  could it be that our highway doesn 't have cycleways ?\",\n \"'that was nice of them .... i bet she was thrilled ! !  emoji_1594 emoji_1930 emoji_2894'\",\n \"'awesome <user> ( ? ) just followed me ... wow thought he ΓÇÖ d have more than <num> followers  ... real frankie please follow :) emoji_15 emoji_15 emoji_15'\",\n \"let 's applaud for prevailing # sexism in tamil cinema and generally in the lives of women around the world . \",\n \"'an amazing view of the # eclipse2017 in lansing , michigan .  # puremichigan'\",\n \"'bad obama . bad . terrible . sad . '\",\n \"good job  james dolan . kick out someone who 's the fabric of one of the best eras of # nyknicks basketball . # charlesoakley  # knicks\",\n \"i 'm so glad <user> is out of ice and sweet tea and almost put some toppings on my quarter pounder .  # fail ΓÇô at mcdonald 's\",\n \"'going <user> ? avoid the steak burger that comes looking like this all for the worthy price of ┬ú 10.60 ! # bargain  # wasteofmoney'\",\n \"'obviously im pretty thrilled about it raining non stop until wednesday morning ... # newenglandweather # springtime # apparently '\",\n \"'what a lame job i have ...  <user> # dolphins <user>'\",\n \"<user> i just love dealing with the previous night 's stupidity  # warrenvalleygolf\",\n \"'/ / me and my mentions right now hahaha '\",\n \"hundreds camped out last night , and this is the line this morning for star wars celebration . doesn 't seem busy .  # swco\",\n \"'look at these radical , anarchist protest signs .  # womensmarch # chicago'\",\n \"'i can draw ~ '\",\n \"'very impressed that i pay <user> $ 11 each morning to have my car broken into 2x in <num> months . '\",\n \"let 's charge more and have less trains . good idea ! that hasn 't even started and there are still weekly delays on <user> # redline \",\n \"'is this mr . <user> was talking about . smith is slight better than msd .  # msdhoni'\",\n \"'bogor green city # satire '\",\n \"'<user> <user> nothing says fun like getting ready for a raid at 5:30 in the morning . '\",\n \"'majority of tweets regarding trump comes from the united states and are in english ! how surprising .. # is434 '\",\n \"'this is how you know your diet is totally going as planned .  # fail # dieting # myfitnesspal emoji_68 emoji_274 emoji_15'\",\n \"'great book mention , kasich . it trump can use his political platform for personal profit , so can you !  # kasichtownhall'\",\n \"lmaooooo # donaldtrump ... that 'll get you a lot of diverse votes ... \",\n \"'my coworkers are the sweetest . '\",\n \"'mind . blown . '\",\n \"'wow , this looks so appetising '\",\n \"there 's nothing like literally having your garage steps fall out from underneath you to make you appreciate <user> quality ! ! \",\n \"'# mumbairains  # itmovie you will float too of this rain continues emoji_15 emoji_1930 emoji_2139'\",\n \"he / she really cares about the quality of my video 's . good thing i don 't have a degree in it or anything .  # stilllovethisguy\",\n \"good job dsny  well over <num> hrs nothing done by <user> after they drop and run over trash bag / it 's ok it 's on ppl 's lawns\",\n \"'i love how all the pictures on twitter look the same , what a great update <user>  # picsneverload'\",\n \"'# inspiration for the day ...  emoji_400'\",\n \"i 'm so excited that twitter thinks i might be interested in following any of these ! \",\n \"'it really is the # religionofpeace # islam  # muslim # mohammed <user> # drudge <user> <user> <user> # lol'\",\n \"'brexit is going really well i see and is sure to go even better when we are paying 40 % tariffs on food . '\",\n \"'naawwww , global warming has no effect on weather . '\",\n \"'<user> all muslims are bad , arent they ?  # idiotnation'\",\n \"'my favorite place in the whole world ...  emoji_156'\",\n ' @rebelcircus #rebelcircus #meme #bitchyquotes #funny #bitchy #funnyquotes #sarcasm #sarcastic',\n \"'windows <num> update has broken my office <num> installation too , excellent job <user> '\",\n \"i 've laid awake all night wondering what to do with my half eaten avocados , now i can sleep  emoji_204 emoji_206\",\n \"'why would anyone go to the oncologist office when you can cure cancer by going vegan  or just get rid of it w / juice detoxes ? duh . '\",\n \"'# shoutout to all my main men who uphold my fragile female dignity # sobrave # selflessact # dignity  srs'\",\n \"birthday present from my wifey <user> my switch 's library is expanding ! thank you ! < 3 more cartridges for me to lick . \",\n \"men 's skin is so different than women 's skin . so glad they 're making manlier products for manlier skin . \",\n \"'thanks <user> . '\",\n '\\'yup . seems okay that \" death penalty \" is plastered over our president \\\\\\'s twitter feed . great role model for little kids too ! \\'',\n \"'first encounter with # fraudcoin Γé╣ 10 . feeling proud for # talentinindia  # caution <user> <user> # incredibleindia'\",\n \"'. <user> ad showing up on # webmd page when searching for blood sugar . such a strong correlation ! '\",\n \"'over thirty minutes and no one moves . thank you <user> for the phenomenal service . '\",\n \"'thank you <user> for being prepared for the blizzard by having <num> agents to help all of us in line . '\",\n \"iain dale <user> , did you read the unsc briefing ? prepared to go to war on that ? best 'evidence ' yet \",\n \"'well , someone had to say it ! # quoteoftheday # quotes # billmurray # satire # cheeky '\",\n \"'nice marketing  # funny'\",\n \"'so thankful for a friend who will stay up with me and help keep me awake on this <num> hour trip .  <user>'\",\n \"yeah this little get together didn 't really have any significant lasting effects on my life at all \",\n \"'this # work  emoji_1564'\",\n \"'my feelings more and more each day '\",\n \"'i have the best health insurance ! '\",\n \"'good to see <user> is starting to present both sides of the stories ! excellent job guys !  # maga'\",\n '\\'gender equality v / s talaqtalaqtalaq triple talaq seems as a great contribution in getting women \" d equal rights \" # tripletalaq  emoji_535 emoji_179 emoji_818\\'',\n \"'she just married billionaire  rupert murdoch . it must be true love . '\",\n \"'way to go russia . '\",\n \"'oh look ! good thing it got here a week ago in time for my trip like it was supposed to  # upsfail'\",\n \"'<user> were here today to fix my line so it stayed at 10mb . they did a good job no ? <user> '\",\n \"'having a blast losing to a hacker on my second game in months ! @ # funrun2  # catty3000 # 22'\",\n \"'<user> nothing says fall like this <num> day  what happened to fall ? emoji_2577 emoji_2577 emoji_2577 emoji_2577'\",\n \"'coming up in the world ! <num> whole subscribers ! !  # gettingviewsishard'\",\n \"'<user> millions of americans thank you . '\",\n \"'because getting my phone caught in a door and bent is the exact way i wanted to start a day of flights '\",\n \"ah ... now that 's super helpful ! lol  # youhadonejob # insertnamehere emoji_549 emoji_62\",\n \"'i never knew <user> was that notorious  # highcourt # india # bans'\",\n \"'best thing about leaving a hot country and returning home ? queues like this with kids at stansted  # backtoreality'\",\n \"'why yes 71st street in tulsa on a saturday afternoon is a brilliant route for an oversized load '\",\n \"'but how did it know ? ! ? !  # snarkyweather # wtforecast # adonkeynamedkurt'\",\n \"This is what I do when I'm bored and the husband decides to nap...what an exciting life I lead... #sarcastic #ireallyshouldpack #vindictus  #lynn  #indeedupgrades #BORED #gamergirl #malina #nexoncontrolsmylife #nexonamerica\",\n \"'jeez . only $ 32 more , what a bargain .  # hulu # nope'\",\n \"'the packing has started . i just love moving ! '\",\n \"'some of the things that went down yesterday ... no big deal ... '\",\n \"<user> <user> i 'm sure this will be another fair assessment of bernie from <user> . \",\n \"'<user> hey <user> does # expass work in florida ? just another wonderful bonus today . '\",\n \"you don 't say ! my <num> years of school didn 't teach me that . wow ! learn something new everyday . # designerproblems  # cncd\",\n \"it 's amazing how many of my 'friends ' have stayed in contact since i left work & moved back home # quotestoliveby # truefriends  emoji_156\",\n \"shout out to the super cool mv kids who drew all over everyone 's cars today . youre soo cool . pls let me be you \",\n \"'yay ! i totally want to pay another $ 100 on top of tuition ! thanks for asking !  # collegelife # boisestate # brokecollegestudent emoji_156'\",\n \"'lot of enthusiasm on display from young voters at the clinton rally in new hampshire '\",\n \"'<user> is this what you call great customer service ? thanks for flooding my basement . '\",\n \"'hmmm ... i wonder who would win this matchup .... sure is close .. '\",\n \"'the no campaigners should be congratulated for devaluing the currency and helping out # ukmfg way to go ! '\",\n \"'authentic chinese desserts # chinese # authentic # foodie # yummy   # lol emoji_15 emoji_15 emoji_15 emoji_15'\",\n \"that 's one hell of a way to receive a package <user> <user> ..  # ugh worthit\",\n \"'<user> <user> once again . the highest of standards met ...  # dissapointing'\",\n \"now i wanna watch this versatile actor 's movie ! # ramrahimsentencing # ramrahimsingh # supremecourt # msgconvicted \",\n \"'another perfect pizza from <user>  # burned # whatqualitycontrol # ohdear # cheeseontoastitis # 20quid'\",\n \"'apparently we have a potato shortage in rotherham this is what i received in a large fries box tonight <user> # valueformoney '\",\n \"'the job creator . '\",\n \"'naw im going to leave my <num> month old baby in there & go on a vacation # baby # bath # parents # vacation # water # bubbles # tippitoes '\",\n \"'class act from the daily express  # wankers emoji_1723'\",\n \"naturally grown ? well that 's a relief . i 'd hate to have to eat something that 's unnaturally grown ... \",\n \"'ace customer service <user> ! '\",\n \"'totally safe ... safe # fire '\",\n \"'a sewing machine that can toast or a toaster that can sew ? <user> you are hilarious # lol # epicfail # troll # rofl  # amazon'\",\n \"i 'm almost proud that my # fantasyfootball team came out 0-14 .  emoji_689\",\n \"'this team never has fun  # deenalovesfun'\",\n \"'when your daughter inherits your  gene .'\",\n \"Because it's Sunday. #alarmclock #mow #sundayfunday #thegrassisntgoingtocutitself #badneighbours #deepthoughts #negativenancy #restingbitchfaceog #restingbitchface #aintgottimeforthat #meme #instalike #sorrynotsorry #funny #funnypictures #fun #laugh #sarcasm #sarcastic #funnypics #funnypics #lol #lmao #lolz #lmfao #nikkitcb #fun #funday #erryday #aintgottimeforthat #erryday\",\n \"just suspend their accounts ... that 'll stop the terrorism . \",\n \"'because this makes sense !  # orangeoompaloomp # stupidity'\",\n \"'this would be so much fun to experience every day . '\",\n \"'as you can see , eggs are loaded with chemicals . avoid them at all cost !  # lchf'\",\n \"'<user> announces new middle east trip details .. # middleeast # president '\",\n \"'shout out to <user> , this is exactly how i like my pizza .  # what ? # mondaymotivation # showusyourpizza'\",\n \"'feeling super proud  emoji_517 emoji_517 emoji_517 emoji_517'\",\n \"'good advice bruh ... good advice ... * tap on shoulder .   # zachomics # confidence # comics # linewebtoon'\",\n \"'# goptownhall the pope tells christians to build bridges instead of walls . the nerve ! ! '\",\n \"let 's not forget that according to dems , it was russia that elected our <user> ! # maga  # wethepeople # americafirst # westandtogether\",\n \"no , you aren 't in the way at all standing on the aisle . none of us have kids we want to see .... \",\n \"i 'm sure any photographer would allow you to steal their photos . only for a good cause though .  # idontneedtogetpaid emoji_15 emoji_15 emoji_15\",\n \"'<user> wow ! another app that automatically downloads updates and has no indication of how much data or how long it will take ! '\",\n \"'yes ! bcz that seems so easy and no reason required at all ! :d hoping for more actions ! # pr_roast  # prjokes # gameofthrones # edsheeran'\",\n \"'the joy of # wondermedia # linux # arm soc debugging ....  ... where something like screen contrast changes w each soc release'\",\n '*Epic Friday Win!*: Getting away with yoga pants at the office! I see a promotion in my future! #toocomfytocare #realpantsareforsuckers #epicwin #tgif #boredatwork #fancy #fancypants #Eforeffort #yogapants',\n '\\'good to see <user> doing # security strong in # 2017 .. <input id=\"password\" ..snip.. maxlength=\"6\"> \\'',\n \"'always good , heading your weekend in with <num> flat tires in <user>  # rally # game # butididntcut # finland'\",\n \"'so # guncontrol does work ...  emoji_156'\",\n \"'great win by the <user> tonight . glad you are holding tight to that 2nd to last position in the league  # disaster # gohabsgo'\",\n \"<user> this was bought at your store on saturday ... <num> days in the fridge and it 's already ┬╝ rotten ! # qualityfoods \",\n \"i 'm healthy # healthy  # foodie # foodiefriday # fotd # pizza # pineapplepizza # likeforlikeback # folloforfolloback # fridayfeeling\",\n \"'my opinions are my own because sponsors would be very happy to pay me for negative opinions also . '\",\n \"'thanks <user> <user> for the quick and early update to the new event . <num> days before it ends . # pokemongo # latetoevent '\",\n \"'the wonders of modern technology ! ! ! ! ! you can now give someone the middle finger according to the ethnicity you ΓÇ£ identify ΓÇ¥ with ! '\",\n \"'<user> loves her video being highlighted by <user>  # lftx17im'\",\n \"'wow yet another literature anthology , just what i needed :-)  # englishmajorprobs'\",\n \"'deleting tests is the only surefire way to make them pass .  # tdd'\",\n \"'oh my god i love this track ! look at my happy face ! / s # mk8d # nintendoswitch '\",\n \"view from the office by liverpool one ... beautiful isn 't it ? working from bed seems a lot more appealing now \",\n \"using paper to solve a problem ? isn 't this blaspheming <num> the sake of being a technology luddite ?  # paperstillworks # edtech # adechat\",\n \"'<user> top bit of parking # gatwickairport by you guys - really considerate . '\",\n 'I came to show that with this squekytoy I kept you awake mommy last night at 2am. ( Mommy was really happy about it because she had work at 5am. )#topi #topithedachshund #dachshund #mÃ¤yrÃ¤koira #sÃ¶pÃ¶ #Cute #ihana #keptyouawake #happymommy #sarcastic #dogtoy #squekytoy #dog #koira #nighttime #mammaolityytyvÃ¤inen #pidinsinuthereillÃ¤ #Suomi #finland #pet #lemmikki #vinkulelu #koiranlelu',\n \"<user> your 100mbps is 4x faster than <user> fios ' 25mbps ? whaaaat ? mind blown !  # maths\",\n \"'good to know that those samples contain walnuts - never would have guessed '\",\n '\\'<user> particularly impressed by your \" get your happy back \" offer - it works beautifully . \\'',\n \"'if this is from <user> it must be true .  # fakenews'\",\n \"'and another lovely post .  # mmiw # indigenous # racism # hate # winnipeg'\",\n \"'a slight temperature gradient across the state at noon .  # arwx'\",\n \"twitter won 't be the same without this guy ... \",\n 'Hope they dont disown me#lol #meme #lmao #funny #joke #banter #relatable #pepe #doge #bants #cheeky #wtf #funnymeme #laugh #hilarious #humour #epic #instafun #lolsforyou #pun #puns #laughter #rotfl #bitch #bitchbelike #true #sotrue #smile #sarcasm #sarcastic',\n \"so , the # french love my # instagram posts about # paris there 's a surprise  lol # iloveparis # bestholidayever\",\n \"'what even . climate change is a hoax though ! ! !  # weather # gohomeweatheryouaredrunk'\",\n \"'too hot for yard work so here i stand on the treadmill at <user> watching golf . # excitinglittlesunday '\",\n \"oh yay let 's have another hitler run our country seems legit .  emoji_34\",\n \"'# dodger fans are so nice '\",\n 'I often strike this pose in meetings, especially marathon meetings. Right before the breakdancing and rapping part. But sometimes I get tired. Should I drink some #organicvalley milk next time? Finally, a company that understands the demands of the modern workplace! #stupidads',\n \"'i just love finding teeth in a teratoma that look better than mine !  # grosspath # pathology'\",\n \"'wow , impressive # discount given by # oneplus for the # oneplus5t for their german customers ! # fail '\",\n \"'hello # airlines more good news for you . # emirates thinks that long haul lcc is the way to address incipient demand . yup the expansion of routes that consumers are craving . i am sure there will be dancing in the streets in many us airline hq offices . '\",\n \"'i sure hope that his exposure in gq will help get our economy back on track in # alberta  <user>'\",\n \"can someone from <user> tell me why i should pay <num> times the amount that <user> want for bb grade plywood please ? ? i 'm curious , is it gold plated ? ?  # woodworker # travisperkins # timbersource # takingthemickey\",\n \"'just the way i wanted to spend my friday evening . being the angry black guy with verizon wireless . note the strong signal .  emoji_1351'\",\n \"'so weather conditions are affecting <user> services . it does look dreadful outside ! ! ! # redhillmoo '\",\n \"'what a fantastic start to the semester .  # couldhavebeensleeping'\",\n \"sometimes you're just not in the mood for some people....grrr9x12 pen doodle#drawing #doodle #sketch #sketchbook #art #artwork #artist #artists #artistic #winnipegart #illustration #illustagram #illust #instaart #instaartist #inspirational #motivational #demotivational #funny #funnypictures #arttherapy #sarcastic #cute #introvertlife #thestruggleisreal #totallyrelatable #panda #cartoon\",\n \"'wait , is # water really bad for you ? ! ?  # dontdrinksoda # coke # alkalinewater # gethealthy # hydrate # antioxidants'\",\n \"'because <user> cares so much about the comfort of their customers and are not only after their money . # noplacetosit '\",\n \"'bonus for a job well done '\",\n \"'see . this is what i was talking about you guys .... '\",\n \"'the amazing effort and artistry that goes into making a <user> burger '\",\n \"'a community organzier w / blank resume knows how to build up our military . yeah right ...  emoji_212'\",\n \"'important # visualstudio update ! '\",\n \"'<user> product placement . # booklaunch # saynotodomesticviolence # takeachance # opportunistic # raisingawareness # gratitude  # lol'\",\n \"'thanks for the advice . i never thought of memorizing my username and password .  userfriendly # ui'\",\n \"'oh ! how will i ever survive in this cold cold world ? ? # lol  # tomilahren # snowflake # fightme emoji_1651 emoji_15'\",\n \"wow ! thanks for the tip on unplugging my router ! it 's worked wonders ! ! ! ! \",\n '\\'<user> \" improved fibre \" and new router now getting 7.25 mbps download and 5mbps upload . good job ! \\'',\n \"'fundamentally , the nazis were white supremacist nationalists .. who knew ! '\",\n \"that 's cool . i just rented a car  got a non-refundable hotel room and am halfway there already . \",\n \"<user> i had to return your vr today because it 's not compatible with my nexus 6p ..... great job \",\n \"# orioles this would be the 3rd year of the <num> year contract the o 's wouldn 't give him . that turned out to be a great idea huh \",\n \"'what a diverse group of tanned old white people you were able to cobble together today <user> to destroy healthcare !  # resisttrumpcare'\",\n \"'thanks <user> for another day of great service '\",\n \"'ho ... humm ... just # livingthedream while waiting in line at the sec . of state for my dr . lic . renewal ! '\",\n \"'# conformity is # stupid ! # individuality  # satire # funny # webcomic by erica crooks # ericacrooks # darkcomedy # society # lol # idiot'\",\n \"<user> yeah  he 's totally against americans .  do we live in the twilight zone ? <user>\",\n \"'<user> nice to to workman tidy up after street light upgrade '\",\n \"'i just love waiting out in the car for someone .... '\",\n \"'work continues to go well '\",\n ...]"
          },
          "metadata": {}
        }
      ],
      "execution_count": null
    },
    {
      "cell_type": "code",
      "source": [
        "train_explanations"
      ],
      "metadata": {
        "trusted": true,
        "execution": {
          "iopub.status.busy": "2025-04-08T17:04:06.106034Z",
          "iopub.execute_input": "2025-04-08T17:04:06.106327Z",
          "iopub.status.idle": "2025-04-08T17:04:06.12029Z",
          "shell.execute_reply.started": "2025-04-08T17:04:06.106304Z",
          "shell.execute_reply": "2025-04-08T17:04:06.119483Z"
        },
        "id": "X7K4vhXeCDg3",
        "outputId": "bb55e8f4-a2d4-4d04-eb13-b456b80455e2"
      },
      "outputs": [
        {
          "execution_count": 7,
          "output_type": "execute_result",
          "data": {
            "text/plain": "['the people are bored of waiting in line <num> hours before game sign up begins.',\n \"it's sad to have a <user> who attacks private citizens via twitter instead of doing hard work on health care, nat sec the job requires.\",\n 'the author has a terrible view of everything covered with snow from his house.',\n \"these # colombo # jaffna # vavuniya luxury busses aren't very high tech.\",\n 'the author was worried that they were gonna hit traffic in North Carolina and it turned out to be true.',\n 'the author is annoyed with such junk mail.',\n \"it's a beautiful venue and lovely view.\",\n \"one can't take a selfie from a landline.\",\n 'england is too rainy.',\n \"their persistence hasn't paid off, the author doesn't believe that the earth is flat.\",\n \"these toddlers aren't helpful at building the puzzle.\",\n 'moving is exhausting and not fun.',\n \"the author expected this since she wasn't sure that clinton was always honest and trustworthy.\",\n \"it's a wrong priority to status update than to call police when someone is trying to break in.\",\n \"the author hates <user>'s updates since they make it difficult for her to take her music with her.\",\n 'in a state of 7 million, 16000 people is a very low turn out.',\n 'the author has injured his leg playing sports.',\n \"it's a beautiful day and still the author's driveway isn't getting fixed.\",\n \"he said steve jobs' of microsoft instead of apple, he isn't very bright.\",\n \"it's sad that airteldsl technology upgrade package provided just 810gb for <num> months even after being a loyal customer for all these years.\",\n 'this isn\\'t so romantic, it\\'s a terrible way to start off a \"modern fairytale\".',\n \"there's no need for the american <user> to highlight the weather in the metropolis of cape st. george.\",\n 'the author is pissed at <user> for such a package with broken glass.',\n 'this would definitely not look good in the program book, does not have any depth or substance',\n \"the author isn't excited to be back for renal physiology.\",\n \"<user> isn't doing their part for the environment since they are wasting paper by giving a 15inch receipt for a 6pk of eggs.\",\n 'This is a phishing email, one must not reply to it',\n 'this is a terrible quality product from <user>',\n 'the author wants to go to the disneyland and not just stare at it while working.',\n 'the author is pissed at <user> for slipping a millerlite into their case of the silverbullets.',\n \"this isn't how one treats another human being let alone anyone that rings one's doorbell.\",\n \"this isn't why i wanted to be a mom, i didn't want to become the maid of the house.\",\n 'the author hates the stupid & unconvincing discourse on current geo-political events that happens on twitter.',\n \"comp didn't go great, given the score.\",\n 'the author hates the rainy italy.',\n 'nobody could say yes to that kind of spam email subscription.',\n \"dhs isn't using the tax $s wisely.\",\n \"the author found this article about dad that isn't fake.\",\n \"the author didn't have a busy day at work today, given he's playing guitar.\",\n \"there's not much diversity in these dolls.\",\n \"the author's glad to see cubs lineup not struggling, they have good average.\",\n \"bonnie doesn't seem well behaved at the vet's office.\",\n \"schools shouldn't be cancelled since there's not much snow.\",\n \"water that smells and taste bad isn't safe to drink, it's obvious what people are upset about.\",\n \"the author isn't excited since people with little playing time vs people with a lot of playing time is unfair.\",\n \"63 ancient woods under threat aren't wonderful news.\",\n 'not a busy day for the t, the parking lot is empty.',\n \"we all know someone who's not a great speller.\",\n 'the author woke up to some disturbing noises at 8 am on his birthday.',\n 'the author made almost no profit of tenx pay token.',\n \"this stormpocalypse doesn't seem serious, there's no destruction.\",\n 'the author is pissed at <user> for such terrible speed with 100mbps fibre line.',\n 'the author is pissed at <user> for helping the <user> hurt people.',\n \"the author doesn't enjoy splat parties.\",\n 'the author hates microsoft surface since it keeps running into such problems.',\n \"the author's not excited for leaving <num> degrees barcelona to come home for ophelia hurricane.\",\n \"the author isn't enjoying the chilling winter.\",\n \"the author doesn't care if got blocked.\",\n 'the author is pissed at <user> for missing the warriors game on abc due to the lack of service.',\n \"it's not a good offer since there's not much difference in prices 54.95 vs 55.\",\n \"this is an example of the author's trivial artwork on paint.\",\n \"the author doesn't think the earth is flat.\",\n \"potus <user> didn't make progress.\",\n \"one can easily tell from the patches that it's dad's handy work.\",\n \"<user> throwing paper towels at people of peurtorico doesn't show that he's trying to help.\",\n 'the author is pissed at <user> for not fixing her overheating issue.',\n \"It's not socially acceptable to introduce your new spouse as your first husband/wife.\",\n \"the author doesn't need <user>'s yearly fee reminder.\",\n \"there's no shocker, mother nature is doing what was pretty much expected.\",\n 'the complexity of health insurance categories in the us is overwhelming.',\n \"the author isn't happy to be working in such snow.\",\n 'the author hates <user> for his stupid views.',\n 'the author is sad to have got blocked from following easynow.',\n \"it's not a joy to wake up the morning after thanksgiving dinner at the hatch flat to all these dirty dishes.\",\n \"it's inconsiderate of altadenadairy, parking their trucks across a handicap spot and four regular ones.\",\n \"the author's cat completely busting a potted plant on the floor at 9:30 pm isn't exactly how she wanted to spend her night.\",\n \"<user> is boycotting apple but is using iphone at the same time, people can't trust his words.\",\n 'the author got some really boring reading material in the kitchen at work.',\n \"when you're upset, posting more to facebook doesn't eliminate any drama.\",\n \"the author doesn't take amazing pics, this one has back of a person.\",\n \"the author isn't looking forward to such a week with bad weather.\",\n 'the author is pissed at <user> for such small quantity of fries.',\n \"the author isn't happy to pay $ 5 as atm transaction fee.\",\n 'nobody likes controversial, obscene, dirty, offensive, derogatory posts and those who posts them.',\n \"the author isn't excited for school time.\",\n \"today's not gonna be wonderful with such cloudy weather.\",\n \"the author's girl isn't lazy.\",\n 'the author is pissed at <user> for getting such terrible speeds for 300/100 internet.',\n \"the author's mom isn't modest given she said she looks gorgeous.\",\n 'the whole black lives matter thing did get attention.',\n 'the author is pissed at <user> since the food has already gone bad and he has to go back to the store.',\n \"usually people don't like being at a DMV.\",\n \"she's excited about losing a tooth today.\",\n \"there's enough media there.\",\n \"this isn't marine life, a short stroll in a tidal pool is nothing to go by.\",\n 'it must not had hurt <user> not to be able to serve his country, looking at how indifferent he is about it.',\n 'the author pays $ 110 / mo for a speed better than 130kbps.',\n 'asking what one is doing in the middle of the day on a Thursday is stupid since one would be working.',\n \"this is not a great day for desert training, it's rainy.\",\n \"sometimes their viewers aren't so sweet, posting such hate comments.\",\n 'this place is very picturesque.',\n 'the author would have to be rich to spend $ 24,500 for <num> miles.',\n \"a slick of rain doesn't make concrete architecture look better.\",\n \"just banning guns doesn't ensure safety from all the bad guys out.\",\n 'everyone can tell what kind of truck this is, RAM is written in big letters.',\n \"the author overpacked for toronto women's fashion week.\",\n \"the author doesn't like the uneven 4:6 coach ratio.\",\n \"killing millions of innocent civilians who are already victims of a tyrannical regime isn't the answer.\",\n \"the author doesn't want rain, it's bad that it's cloudy.\",\n 'the author hates talking about wind chill in late march.',\n \"without electricity it's inconvenient.\",\n 'the author hates how thick a short sale file gets.',\n \"the author hates his job since it's coldest day of the year and he's jumping in mud holes.\",\n 'flight delays are the worst.',\n \"god hadn't created remington-bolt action rifle and nor had he meant for man to fight the homosexuals.\",\n \"the author doesn't like their new sit/stand furniture, it's not of good quality.\",\n \"a guy with a trump sticker obviously doesn't know how to make good decisions.\",\n \"dillon doesn't take awesome pictures of the author.\",\n \"the author doesn't pay for such awful service.\",\n 'it\\'s a stupid ad message \"don\\'t bother with education just be pretty\".',\n 'the author is annoyed with a screeching fire alarm at 10p in her hotel.',\n \"the author doesn't like his own name.\",\n \"it's awful work designing i - 705, all the freeway runoff pours onto the pedestrians.\",\n 'We can clearly see that not all blacks are mistreated in hollywood',\n 'the author just hates how easily she bruises.',\n \"the author didn't get what he needed from the chest.\",\n 'the author is pissed at <user> for such burnt pizza.',\n \"sunday isn't funday when it's bank holiday weekend & you have to work an extra shift.\",\n \"the author doesn't have a wonderful reseal in his pack of almonds.\",\n \"it's a bad packing job with a bent card and dented bubble.\",\n 'the author woke up to some very cold weather.',\n 'this bloke is upset about selling his ps4.',\n \"the author can't take another storm.\",\n \"it's not a kids book.\",\n \"rt <user>: rt <user>: more proof that <user>'s base isn't abandoning him.\",\n 'the place is empty and not busy.',\n \"petrol getting cheaper in states isn't a side effect of gst.\",\n 'he is not an excellent judge of character.',\n \"this man is nothing but a pig, the royal family wouldn't be thrilled to host him.\",\n \"it doesn't seem to be blizzard conditions in blackwood.\",\n \"one person selling tickets and dozens of people in line, this required the author to wait in line which wasn't a great experience.\",\n \"there isn't enough representation of women.\",\n 'such a poster suggests that whitepeople are racist.',\n \"it's a very hot weather today.\",\n \"all racial problems in the u.s. aren't permanently solved.\",\n \"raking beds properly isn't an art form.\",\n \"it's snowing, spring flowers aren't blooming, grass isn't turning green, sun isn't warm.\",\n \"the author doesn't like to be at the ford service department at 7:00 AM.\",\n \"it's a bad rainy weather.\",\n \"this aren't delish since they are sugar free.\",\n \"it's a common sense and not revolutionary that murders are bad.\",\n \"the service isn't great because this item is out of service.\",\n 'the author is sick of men adding her on wechat and demanding she talk to them because they like her.',\n \"it's sad when wattpad remembers your birthday but your own parents don't.\",\n 'the author is annoyed since he got stuck in sri lanka due to 4h + delay and got such tasteless meal.',\n 'the author is pissed at <user> for getting such a little lettuce on his sandwich.',\n \"the author didn't have classes, they were cancelled.\",\n 'This is a terrible way to start a conversation during online dating',\n 'this is the worst product ever, this could easily mistakenly be mixed with your drinks.',\n 'That story is of no importance <user>',\n \"the author is disappointed with liberals because doing ecgs are a losing venture while it's an important test in patient care.\",\n \"the air isn't refreshing today, it's very hot.\",\n \"the author hates when this pops up when the client crashes and it's not his fault at all.\",\n \"it's not that people won't think about any memories if it wasn't for facebook.\",\n 'In lisbon, every building has a terracotta rooftop.',\n \"it's unusual to make such word cloud to say thank you.\",\n 'this weather is very hot, not suitable for horseback riding.',\n \"this way on <user> browser it's very inconvenient to compare multiple items.\",\n \"<user> wouldn't send dms to random people talking about danny.\",\n 'the expert mechanic has \"king of fools\" written on his shirt which isn\\'t nice.',\n 'the author is sad to see <user> commissioning some bad quality programming after cancelling girlboss.',\n 'the author is at home under that horrible storm.',\n 'the author hates to come home to a hot apartment, would love having central ac.',\n 'the author is pissed at nhltv for such a bad quality.',\n \"smoking weed isn't cool.\",\n \"people didn't vote to leave the single market & be poorer.\",\n \"rajnikanth haven't brought huge changes in field of physics, his movies don't follow physics.\",\n 'The house looks like trash, class really misses <user> home building expertise',\n 'this random guy on flixster calling you out for trying to be \"too cool\" wouldn\\'t affect your career.',\n \"the snake has killed the fish, this isn't love.\",\n 'heathrow is not a popular destination right now.',\n 'all the road works is reducing the charm of the christmas tree.',\n \"it's annoying when getting ready to go takes longer than the actual trip.\",\n 'Putting a picture of random object on a wall with some poetic stuff doesn’t make you certified',\n \"the author is posting the picture even though enough people have posted pictures of today's beautiful sunset.\",\n \"the author is frustrated with vtech since there are different power cables for the two units which makes a parent's life even harder.\",\n \"people should buy bitcoin, it isn't in a bubble.\",\n 'it was completely dirty, he definitely did it on purpose.',\n 'the author is pissed at people who cannot digest women getting jobs that they deserve, these misogynists only accept women at jobs where they are naked.',\n \"hot and muggy isn't a perfect football weather.\",\n \"they didn't vote to leave the single market.\",\n \"the author hasn't packed anything so far.\",\n \"the author doesn't like sydney buses since they are late.\",\n \"some idiot setting off a smoke bomb in times square doesn't mean the spooks in washington should listen to everyone's phone calls and read all their emails.\",\n \"the author isn't satisfied with <user>'s steak doubledilla and side of sour cream.\",\n 'even with a government there is such a huge debt showing people are irresponsible.',\n \"along this field drive there's no indication that it rained here last night.\",\n 'the author is pissed at <user> for such disturbance while watching one of arsenals biggest games.',\n 'nobody loves losing matches even before they finish loading.',\n \"it's an awful ad if it leads to such a disaster.\",\n 'the author has a lot of work left in the semester.',\n \"it doesn't necessarily have to be jack, it's not that there's only one bunny living out there.\",\n \"the author doesn't enjoy folding napkins at work.\",\n \"terrible weather for flying in april, it's raining.\",\n 'the author is pissed at <user> for such a bad parking by one of their guys.',\n 'the problem with the us economy isn\\'t \"entitlements\" for the poor, the chiefs rake in 347 times more than the average worker\\'s salary.',\n 'the author hates coming home from the drive thru to find barely cooked half raw and cold fries.',\n \"cigarette shouldn't be a necessary staple.\",\n 'love is real and not the unicorns.',\n \"such a response to the question isn't mild.\",\n \"it's very little taco filling.\",\n 'the author is sad to be back in croydon, what a poor way to start the week.',\n 'the author is frustrated with grade <num> science since it brings such experiments on her kitchen counter.',\n \"people don't always tweet at 2:19 am if something doesn't bother them.\",\n \"the author didn't care about not being able to watch tna / impact / gfw whatever it's called this week.\",\n 'landing at 2am on a monday morning is not the best way to start a busy work week.',\n \"the author won't be excited to save a penny, so he won't rush out to order right now.\",\n 'the author hates the new <num> character limit.',\n \"it's not a normal thing for a leader to give governmental powers to his adult children, it's a matter of concern.\",\n 'this version of the headline saying facebook releases plan to halt government is fake.',\n \"the author isn't feeling festive today.\",\n 'the author is pissed at <user> for so much traffic.',\n 'the author is pissed at <user> since this woman stowed five bags in the cabin despite the gatechecking.',\n 'the author is pissed at the losers for smashing their noticeboard.',\n '130,000 are a lot of people in the march.',\n \"it's not normal to have a record breaking heat above 90.\",\n 'smiling at people who don’t like you is the meanest thing to do',\n \"the author's shoes aren't perfect, one of them is damaged.\",\n \"the author isn't excited because this <user> account is fake.\",\n \"the author can't access the account and <user>'s not helpful.\",\n \"the author hates watching dragon ball super on <user>'s app since the app is straight garbage on the xbox.\",\n \"the author doesn't believe that this is a genuine account.\",\n \"the author can't see bruno from those awful seats.\",\n \"president's tweets looking like that of <num> year old bully isn't something to be proud of.\",\n \"the author is glad that daniel craig is done with james bond since he didn't have much emotional range.\",\n \"the author's got the best ever weather of <num> enforced days off.\",\n \"the author isn't really excited to wake up early and go to work today.\",\n \"this doesn't count as a balanced meal.\",\n 'the author wants the christmas to be snowy.',\n 'the author is disappointed to have opened a card that she already has.',\n \"the author knew that the problem hadn't originated from her device.\",\n \"download simulator isn't a game, it's always different.\",\n \"there aren't 57,679 genders.\",\n 'these patrol cars look very different.',\n \"the author hates the <user>'s poor customer service, they deleted their response.\",\n \"the author's getting awful speed.\",\n 'the author hates how people review movies before even watching it.',\n 'the author is pissed at <user> for having to stand while travelling even after spending £ 62.80.',\n \"amit shah liking some food isn't an important news to be reported by media house.\",\n \"the author has work and doesn't have fun on friday nights in grad school.\",\n 'the author is feeling sick.',\n \"dihydrogen monoxide is water, it's not dangerous.\",\n \"destroying property obviously doesn't make things better.\",\n \"it's absurd to assume a foreigner on a plane doing math to be a terrorist.\",\n \"if you tried and you failed then it doesn't mean you should never try.\",\n 'the author is pissed at <user> for not melting the cheese.',\n \"as the things are going currently in UK, it wouldn't be long before UK falls again\",\n \"new gym badge feature isn't cool.\",\n \"it's stupid to think scientists are lying about evolution, praise the science.\",\n \"poor people can't afford to go to colleges if they charge this amount of fees.\",\n 'the author is annoyed with such stoppage, she wanted to make it home in time for dinner.',\n \"<num> quid for just a regular account with nothing on it isn't a good deal.\",\n 'that taco on your breath smells bad.',\n \"obviously, ice may exist, it's not imaginary.\",\n \"getting a sprain isn't exciting.\",\n \"well this isn't what we desperately need... probiotics for kids.\",\n \"more proof that realdonaltrump's base isn't abandoning him.\",\n 'the author is pissed at <user> for such little leg room.',\n 'the author had a terrible view of the game and needed help with it.',\n \"one isn't sorry if someone is offended by one's common sense.\",\n 'given such things, the time that we live in is the worst possible ever.',\n 'this is a stupid tip, cutting the balls in half destroys them.',\n 'the author hates the traffic on the 5 between LA and San Diego.',\n 'the author is pissed at <user> for getting chicken fries instead of chicken sandwich and not getting the sauces.',\n \"that doesn't look like bentley.\",\n \"the author hates the indecisiveness of wallstreet folks due to which she still doesn't know where to invest her retirement.\",\n \"one isn't a keeper if one steals from dolphins and cheats on his live-in girlfriend.\",\n \"the author doesn't find a four hour flight with more kids than adults to be fun.\",\n \"making school lunches inedible, health insurance unaffordable and police lives unimportant aren't accomplishments, wouldn't keep him in there another <num> years due to this.\",\n \"it's another bad day with such high temperatures.\",\n \"it's a horrible picture quality on tonight's game, it's blurred.\",\n \"the author's sad to see that <user> bin men don't know how to clean the streets, awful seeing how messy they leave it.\",\n 'the author loves this cute little girl.',\n \"there's definitely more than enough jalapenos on these nachos.\",\n 'the author is sad he pays 16.80 pm to receive these terrible speeds from <user>.',\n 'the author wants people to put his tools back clean and not covered in dirt and grease.',\n \"ministers aren't above everyone else, the value of life is above the protest against gst.\",\n 'trump calling the pope \"disgraceful\" wouldn\\'t make people happy.',\n \"it's a bad park job, the car is outside the line.\",\n 'no girl would like to wake up to such a message.',\n 'the author is pissed at <user> for delivering a pizza with some cheese stuck to the box.',\n \"one doesn't really think the clown to be talented, one's being held captive by the clown.\",\n \"it's a cloudy day which isn't lovely for being at the beach.\",\n \"the author is pissed at <user> for just <num> small slices of chicken and one shrimp in the rice, the quantity isn't worth it.\",\n \"the author is pissed at <user> for the <num> day old wake up wrap and her iced coffee wasn't good either.\",\n \"the author is pissed at <user> since it took this long for them to see through trump's bs, it's not so supportive of america.\",\n 'the author hates school lunches because of such burnt food.',\n 'we became so dependent on sugar due to a large variety of sweet drinks in this country.',\n 'things seem quite @ precinct <num> in iowa city.',\n \"it's a bad news that us still ranks first in world prison population, nearly doubling china, not sure if president trump will improve that.\",\n \"this is minnesota driving at its worst, due to so much snow that won't be a fun drive home.\",\n 'the author hates how <user> <user> <user> have stolen their designs & even their photos.',\n \"this stuff is not soft, it's painful to wipe with a rough material.\",\n 'this tweet shows a lack of class, using such profanity.',\n 'the author is sad to have allergic contact dermatitis all over his drawing hand.',\n 'No one supports trump, let alone hail him as a god emperor which he thinks he is',\n 'the author is disappointed with <user> since she had to wait <num> minutes for wrong food.',\n 'the author is studying in the class on his birthday, not the best birthday ever.',\n \"it's not shocking that this is the author's kids favourite part of chiefs camp, kids love jumping.\",\n 'may forming government with DUP backing makes the author feel bad about the uk.',\n \"the rest of the week doesn't look lovely, it's rainy.\",\n \"the author isn't having a fun night sitting alone in his hotel room drinking coffee.\",\n 'the author is sad that <user> is that complicated.',\n \"one couldn't be making a healthy choice by eating handfuls of jelly beans, chocolate and M&Ms, clean eating is so hard.\",\n \"south africa doesn't look beautiful with such strikes.\",\n \"<user> couldn't process the author's security freeze request online.\",\n \"the author's disappointed with <user> for not answering his phonecalls when he's trying to find the food he paid for over <num> hours ago to arrive there <num> hours ago.\",\n \"it's not amazing that <user> has a response window of <num> days.\",\n 'Not all white cops are evil and oppress the innocent blacks',\n 'these book facts would make writers lose hope of making a living since they are so negative.',\n 'trump is not in the skittles making business.',\n \"the author is sad since she was supposed to be on an all expenses paid trip at the four seasons located on this awesome peninsula in costa rica but instead she's in LA in the gloom & rain.\",\n \"there's not much heat and it's not the reason why the author's not sleeping after nightshift.\",\n \"women who lift really heavy stuff would have rough and not soft 'girlie' hands.\",\n \"the author is pissed at neighbour's awful idea of putting his special waste on the sidewalk in terrorism alert times.\",\n 'the author is pissed at <user> for such a cheap portion of wings, the bag is more than half empty.',\n '200gb microsd for your phone or tablet is a lot of space.',\n 'the author is pissed at fox for showing more ad breaks than the actual content.',\n 'the author works at such a beautiful place.',\n \"it's a double standard to call chinese people barbaric when they eat dogs and cats while it's normal for people to eat pigs, cows, chickens, turkey and fish.\",\n \"in america they don't explain rational exponents correctly.\",\n \"it's an awful spot for the outhouse since it ruins such beautiful view.\",\n \"people don't stare at there phone when they are somewhere exciting. \",\n \"a frozen computer doesn't start to work again if clicked everywhere.\",\n \"the store isn't clean and tidy, there's a lot of trash.\",\n \"the author is disappointed in the <user> light she bought because it doesn't work.\",\n \"it's not a perfect response, shouldn't fall to their level.\",\n \"people don't enjoy doing other people's work.\",\n \"this isn't a dog.\",\n 'this thumbnails are lame.',\n 'the two people shown in this clickbait article are not the same',\n 'disney world is a dumb place, it\\'s \\'your\\' and not \"you\\'re\".',\n \"the author didn't get help from <user>.\",\n 'these are fake million dollar bills.',\n \"it's not the intended translation.\",\n 'the author is sad that the bbc is keeping us informed about such unimportant news.',\n \"the author's not happy with <user>'s driver that delivered this since there's some spilling in the package.\",\n \"this is not news, it's obvious that president trump would be in white house in weekend also.\",\n 'the author is sad that the photographer is blocking his view of the panel.',\n \"the author's hair isn't fabulous.\",\n \"a survey saying republicans tip better than democrats isn't an in-depth reporting, balanced coverage or compelling content.\",\n 'not so close, 185 unit tests are failing.',\n \"bunch of white men looking triumphant isn't surprising.\",\n 'the author is pissed at <user> for leaving her autographed vinyl outside in the rain, it got ruined.',\n \"medicating toddlers isn't a good quality journalism.\",\n \"the author doesn't find calibrating converters to be fun.\",\n 'one would obviously need a bag to carry 20 items.',\n 'trivial edit.',\n 'you can tell by the sloppy glue and the removal of the load bearing beam that these plumbers were amateurs.',\n 'president <user> and the entire first family celebrate the fake american freedom of living behind bullet-proof glass.',\n \"totality isn't near here in chicago.\",\n \"tuktuk and their marketing aren't epic.\",\n \"this isn't something to brag about.\",\n 'somebody must be really idle doing nothing in his life to do this.',\n \"one wouldn't want someone with a bad argument to proceed with it.\",\n \"it's the little moments of trolling abusive comments on the author's channel that she doesn't cherish and that doesn't make her a blessed youtuber.\",\n 'if you were on fire and someone had a bottle of water and they would rather drink it then they hate you.',\n \"they don't pack them in here at the thomas and mack, many empty seats.\",\n \"it's a spam message.\",\n \"the author sees that there's something wrong with this image, the earth is shown flat.\",\n 'due to latest trump controversy, the stock went down, bad job liberals.',\n '<user> & <user> clothes are very expensive and not affordable for fixed income homes.',\n \"russians on the space station isn't trump's fault.\",\n \"if we set the minimum wage to zero, we'll go back to opening work houses, reinstituting slavery and bringing back the full dickensian times.\",\n \"the author isn't going out tonight since everything is covered with snow.\",\n \"it isn't a great weekend since the author is sick and needs cough drops and tissues.\",\n \"buy <num> to save just one penny isn't a good sale.\",\n \"this isn't a useful tip.\",\n 'one usually wants to go to the bathroom to pee.',\n 'such messages do not make an interesting conversationalist...',\n \"the author hates getting to work waking up at 3:30 am to find the gates closed, it's not rewarding.\",\n 'The race problem is not yet finished, it is clearly evident from the election summary',\n \"the author haven't received a mental health compliment since retarded isn't a compliment.\",\n \"the author hates the view from her classroom, it's a rainy weather.\",\n \"the author doesn't find boys so great because of such questions.\",\n \"the author is shocked that gays for trump don't see that the president is in support of lgbts.\",\n 'the author hates flying with <user> due to so less legroom.',\n \"being adult isn't fun when you don't have money to do anything besides what you're responsible for.\",\n \"teaching isn't easy, the author's got work even on sunday.\",\n \"women aren't the problem, it's those men who tried to abduct a woman.\",\n 'mark from <user> seems excited to be taking a photo with <user>.',\n \"the author doesn't really find it surprising.\",\n 'the author hates <user> for such time consuming updates.',\n 'the author had a bad day today, her elbow got injured.',\n \"the author doesn't love a 5hr recit day, it's exhausting.\",\n \"the cow right here isn't happy to die inhumanely, the author wants people to go vegan.\",\n \"the author's sad that <user>'s charging extra even for those in irma's path, such lack of understanding.\",\n \"<user> didn't take care of the issue properly.\",\n 'this news channel is covering the news for overcomming a 108 year old drought, as if it even matters now.',\n 'the author hates the low quality and ignorance to detail of modern furniture.',\n \"the author's personal information being impacted by the incident isn't great news.\",\n \"this isn't a significant progress in art to show consistency.\",\n \"the author is the primary account holder and yet she can't check her own bill.\",\n \"it's not friendly that government has a surveillance on you.\",\n \"the author doesn't listen to christmas songs while wrapping gifts.\",\n \"looking at his long hair, one can easily guess why he's at the salon.\",\n \"it isn't a simple repair, it will take time to be up and running.\",\n \"this amway billionaire isn't qualified given her record on education.\",\n 'the roads are covered with snow by portland creek.',\n 'the author is pissed at <user> since he upgraded to the 10mbs package from 5mbs and still gets such slow speed.',\n \"the author doesn't care for being followed by momma mccree.\",\n \"brazil loosing a football worldcup to germany isn't the end of the world and isn't very traumatic.\",\n \"it's always a pain to drive by cowboys stadium\",\n \"it's annoying getting kicked out of bars.\",\n 'the author hated spending the day rodent proofing her home, it cost her $ 200.00.',\n \"dr. pepper clearly isn't pushing a homosexuallist agenda with their new ad.\",\n \"we shouldn't hate our fellow man.\",\n 'the author is pissed at sainsburys for such unappealing food.',\n 'the author is pissed at <user> for so much ice in the drink.',\n \"it's not a great life if you are doing nothing but just going to work on your birthday.\",\n 'the author is pissed at <user> since she pays for a higher internet speed than this.',\n 'pak sponsored terrorist kill our ppl & soldiers, & v hacked their website. .. not an appropriate revenge ... must say.',\n 'the author is pissed that the taxes included in gasoline prices in ontario is very high.',\n \"kids don't love such cleaning tools as toys.\",\n \"the author doesn't feel secure due to the constraint that password length should be <= 15.\",\n 'this news confirms that the obama administration is doing something to fight terrorism worldwide.',\n \"the author hates how some syandana's don't fit on octavia.\",\n \"it's a terrible job by <user> since it took <num> min on the phone to have one question answered.\",\n \"not every man with two hands has a fighting chance, the author won't miss <user>.\",\n 'the author is pissed at <user> for such unreliable terrible internet speed.',\n \"it's disrespectful to impoverished societies in the third world to point out how much happier they are with less stuff.\",\n \"gender and racism aren't the only worries in the gaming industry, it's these ill mouthed freaks who can't control their emotions.\",\n \"he doesn't need to teach those women who's boss.\",\n \"the author is disappointed with everyone who complained about it being too dang hot for october, since now it's snowing and it's ruining his indian summer.\",\n \"bitcoin doesn't seem to be the future of finance.\",\n \"it's not a great app, it's unable to process request.\",\n 'this <user> team is not on the cusp of the playoffs.',\n '<user> blackmailing citizen for 1st amendment right is awful.',\n \"one doesn't need to be said in such situation.\",\n \"the author is sad not enjoying father's day with his dad today.\",\n 'the author is pissed at <user> for poor delivery of this package with half of it open.',\n 'being one year closer to death is not good.',\n \"the author isn't excited for valentine's day since she's single.\",\n 'this does not make any sense',\n \"once again meteorologists didn't accurately predict wet & cold el nino, it's 91F.\",\n 'there is no snow.',\n \"this isn't normal, 92 degrees is too hot.\",\n \"it's not shocking that sexual harassment spotlight turned toward trump.\",\n \"the power of kpop doesn't mean charting on itunes in places where itunes doesn't even exist.\",\n \"the author doesn't like parking garages and big cities.\",\n \"a perfect dad wouldn't say such a thing to his son.\",\n 'the author hates these limited speeds.',\n \"walking over other people who fell on the platform to get out of the tube train isn't an amazing community spirit.\",\n \"it's obvious that homosexuals are gay.\",\n \"<user> didn't do much effort in helping harvey flood victim.\",\n \"boys playing with dolls isn't barbaric.\",\n \"bollywood didn't lose any legend.\",\n \"the author got a spam mail asking money in the name of the president of the united states, it's not fun to be on such a mail list.\",\n 'the author is sad that his car got a flat tyre and he got stuck in the car with two ill behaved little girls in the universe.',\n \"the president of the united states don't have his priorities in order.\",\n \"the author's mother went through a stair roll, nobody thinks it might be fun.\",\n \"flying with <user> isn't fun, since you have to wait in the airport shuttle for 15min long.\",\n \"they're totally blushing.\",\n \"this isn't real news.\",\n \"a video store closing down isn't a shocker, with the rise of internet it's obvious.\",\n \"<user> and <user> didn't take a principled stand for freedom right here, monitoring your internet activity is against privacy.\",\n \"bibles shouldn't be used for smacking down people.\",\n 'the author is pissed at <user> for their poor stock rotation, these vegetables are old.',\n 'the author hates when things break at work...',\n 'the author owns many tamashii stages.',\n 'the author is annoyed to hit traffic while on a quick trip into the city today for work stuff.',\n \"it's stupid of usa to go bankrupt ensuring israel has more military power than little boys in palestine with rocks.\",\n 'the weather is freezing outside.',\n 'this lion is badly hurt, <user> did a terrible job handling stray lions.',\n 'this logo looks terrible',\n 'dumb managing from lvg  after a game of us attacking all game we bring on schneiderlin ! ',\n \"it's not a pleasant way to start the day by working in the rain.\",\n \"being an overweight neck-beard isn't a privilege.\",\n \"these youtubers aren't really original, there are 3 videos on the same topic.\",\n \"those <user>'s are really expensive, it doesn't seem to be a sale.\",\n \"today's the worst day for the furnace to break since it's very cold.\",\n \"<user>'s new short pour product isn't going to take the world by storm.\",\n \"name calling isn't real presidential, it shows bad leadership.\",\n 'the author is pissed at <user> for such leaky cup making the morning worst.',\n 'poeple blame brexit for everything.',\n '<user> getting married & giving birth to a <num> yr old is a fake news.',\n 'This place is completely empty',\n \"the author doesn't look enthusiastic about life right now.\",\n 'the author hates <user> for their customer service and poor quality engineers and slow service since they kept him waiting for very long.',\n \"the waves haven't been good this winter, the author needs to go to costa rica.\",\n 'cheesecake factory putting ads in their menu is cheap and not classy.',\n \"cops at pheonixrally telling violent antifa protesters to leave or get gassed, the nazis used gas doesn't mean cops are nazis.\",\n \"you can't just print more money.\",\n \"the author's not excited for changing back into her ugly uniform for <num> more hours.\",\n \"it's awful to see that <user> don't keep their beans fresh.\",\n \"ivanka trump scheduling just 20 minutes a day with her 3-year-old son isn't an inspiration.\",\n \"the author isn't excited to spend several hours every day in the next few weeks with these boring books.\",\n 'the author is pissed at <user> for a terrible customer service.',\n \"due to the apple update, iphone gps doesn't work great.\",\n \"the internet on the author's switch slowed down drastically.\",\n 'this watch is broken, shows over 2000 days in a month',\n \"people around here aren't nice since it says 'white only'.\",\n \"although they are both nouns, it's not an easy mistake to confuse the two, they're distinct enough.\",\n \"the author's cat is laying on the book not letting her do the homework.\",\n 'according to author, we need obama back, only he can get Al Qaeeda under control.',\n \"the author wouldn't quit his job for such spam email offering him money.\",\n 'the author is at such a beautiful place.',\n \"the author didn't have fun going to a store this big to look for something this small.\",\n \"it's pleasant up north.\",\n \"the author doesn't like having to iron all these clothes which is a part of owning a restaurant.\",\n 'the author likes fall.',\n \"this isn't a wheat cutting weather.\",\n \"it's a photoshop edited photo, she doesn't really fit right into the natural environment.\",\n 'the quality and finish on this product is terrible.',\n \"popplio's ultra sun / moon redisign isn't looking worthy of a s-s-sick dab .\",\n \"the author doesn't believe that gun control would work since obamas first year in office had <num> major shootings and trump has <num> major shooting his first year.\",\n \"it wasn't the storm of the year, that was a little rain.\",\n \"the author is pissed at <user> since they didn't go through any trouble to fix her order when they sent her a 2oz tube of zit cream instead of a 4k kodi box.\",\n \"lucroy walking away towards the kids during celebration doesn't mean he's getting traded.\",\n \"it's obvious that tomorrow's forecast is for more rain.\",\n 'The people of the USA have no trust in their own president, making him go for a dummy run, before he meets the queen so he does not embarrass the entire nation',\n 'this door is too narrow to pass through it.',\n \"they delivered the wrong flowers and then didn't take the complaint and closed the chat, this isn't fun.\",\n 'look at how cute they are',\n 'virtual school is inconvenient.',\n 'white supremacists are violent.',\n \"everyone knows that being smeared and losing the election wasn't exactly what hillary wanted.\",\n 'the author is disappointed because she got upgraded internet but the down speed is still low.',\n \"twitter isn't a place of originality given such tweets.\",\n \"it's disappointing to see cheaters having fun, sliding around auto headshotting in pubg.\",\n \"nobody would enjoy buying firearm component from <user> & then receive an email from them telling that they've lowered the price $ 40.00 days later, also nobody loves never-ending wait times on a non-toll-free phone no.\",\n 'it looks awful because of rain.',\n \"that picture isn't of paddy lacey which is like <user> since they are often inaccurate.\",\n 'the author is pissed at <user> for not taking good care of their <user> christmas cards, the package is torn.',\n \"<user> & <user> don't have the exact same target audience.\",\n 'the author is sad they had such bad rainy weather for their estate sale this weekend.',\n 'nobody likes a full 3d body scan in their underwear first thing in the morning.',\n \"nobody's using floppy disks now since each can hold just a few kb.\",\n \"<user>'s two other customs lines are closed, it gives a bad impression of the capital city.\",\n 'the daily mail is biased against jeremy corbyn.',\n \"this field doesn't look like iraq.\",\n \"you don't need to post every detail of your day since no one wants to know if all your laundry was done or not.\",\n 'the author is disappointed with <user> since the food in the package is ruined which was a gift for her mom.',\n \"the author's mind wouldn't be at ease just because these two are working together to fight terrorism.\",\n \"they're asking money for their work, nothing wrong in it.\",\n \"marching and shouting death to america, it's justified that the president ban these people.\",\n \"<user> isn't an upstanding individual since he's trying to get women to learn their place.\",\n \"the road doesn't look great, it's covered with snow.\",\n 'the author had fun weathering with two puppies today.',\n \"these products aren't offensive, no need to pull them from the shelves.\",\n \"the comments the author made on her novel while writing it aren't helpful since there's no explanation.\",\n \"the author doesn't like this bed, it's narrow.\",\n 'nobody loves hospitals.',\n '<user> provides a poor customer service.',\n \"<user> from kentucky doesn't seem nice, given such apocalyptic warnings of bloodshed.\",\n \"there isn't much variety in movies.\",\n \"the author is disappointed with the low speed he's getting.\",\n \"the author isn't looking forward to being blown away. october isn't shaping up fine for him since he's having a cold and being made single.\",\n \"donut for lunch isn't healthy.\",\n 'the author hates that texas weather broke this.',\n 'the author is pissed at <user> for trashing the office.',\n \"it's not exciting to have rain on a day of crosscountry match.\",\n 'the author is pissed at <user> for such terrible commute service.',\n \"humans teaching robots how to use guns won't end well.\",\n 'the private sector can do better providing clean water.',\n \"it's a bad weather.\",\n 'marital rape is a crime.',\n \"the author got pulled over by cops which wasn't a wonderful ending to such a great day.\",\n 'the author was reading that book and she got interrupted by her cat.',\n 'the author is disappointed with <user> for getting wrong team wrong size shirt.',\n 'the author is pissed at <user> for such unappealing big mac.',\n 'a chocolate pizza is a new approach to unhealthy eating.',\n \"terrorists hadn't introduced coffee to western nationalists.\",\n 'parenting is like a full day of work in itself.',\n 'This game is not a sellout, there are numerous seats empty at the back',\n \"open-house isn't ready, things are spread all around.\",\n \"there's little space inside the plane, it's claustrophobic.\",\n 'the author is disappointed with the plain text passwords, they should be encrypted or hidden.',\n 'The cats are already pretty comfortable in the new apartment ',\n 'if trump came up with the hunger games for pharmaceuticals then it will not end well.',\n 'these are some terrible photo editing skills.',\n \"it's a bad quality advertising placing such an ad next to a baby product.\",\n \"the author's sad that she's halfway to her ed and this is the reward she gets, statistical analysis for educational leaders.\",\n \"the author isn't impressed with <user>'s such cheap offer of free use for 7 days to get her back to using their platform.\",\n \"this layout from apple doesn't really work for the author.\",\n 'terrible weather with a lot of rainfall for easter saturday.',\n \"it's obvious that getting their health to <num> is how to kill them.\",\n \"grass should be cut b4 they're almost a foot high.\",\n \"the author has 7 more dogs to walk today so doesn't want arrow to take a long time on a lawn.\",\n \"it's insensitive of google photos for the notification that a stylized photo was available of the author's totalled truck.\",\n \"rich corporations don't love to willingly give their workers great pay & benefits.\",\n 'someone who is depressed would say such a thing.',\n \"the author doesn't seem to be having fun.\",\n \"trump isn't doing awesome things for the us, he's playing golf while people are facing scarcity of water.\",\n 'the author is pissed at whoever decided this was a good time to show stats, it leaves less space for the game.',\n 'the author is pissed at <user> for damaging the luggage.',\n \"the author doesn't like how <user>'s online agents don't remember names.\",\n 'the person who killed two policemen is in the custody of the police, he should be punished.',\n \"this doesn't mean the vicious weather is over, it might still rain.\",\n \"the author hates <user>'s new crappy lids because they fail.\",\n \"apparently it's international coffee day and the author is a fan.\",\n \"it's questionable that you can stack your reviewers.\",\n \"google isn't useless, idk means i don't know.\",\n \"the cities aren't making best use of the generated power, these lights aren't needed in daytime.\",\n 'the author is pissed at the driver of this minivan for the immense depth of his inconsiderate parking, leaving so little space in between.',\n \"the author's flight was cancelled, there were a handful of staff and it was $ 10 \\\\\\\\ food, these is a bad service from aircanada.\",\n \"just banning guns wouldn't have totally stopped both of these attacks.\",\n \"they don't look like the superfriends since they are fighting.\",\n 'tax relief is a sensible and not a crazy suggestion.',\n \"the author didn't enjoy <user> devops talk and it's not full house.\",\n \"the <user> won't be in good hands with this awful fella who thinks sexual orientation's a choice, another stupid pick by <user>.\",\n \"due to lack of mta's planning efforts, there's no f train at 74th roosevelt.\",\n \"It's another gloomy, overcast day\",\n \"wifi doesn't keep us alive, it's great that trees produce the oxygen we breathe.\",\n \"the author didn't like the bad broadcasting today by <user>.\",\n \"it's not funny that one's ex sleeps with everybody.\",\n \"if umass basketball keeps losing, they'll not get the #1 pick in next year's recruiting class.\",\n \"this doesn't mean the author's off the rest of the year.\",\n \"trump's white nationalist built wall is a bad idea.\",\n \"208m pro-suicide attack muslims is a huge number of people, that's not ok.\",\n \"dreams don't belong in a garbage can.\",\n 'nothing more displeasing than a 6am alarm for a required dji update before an all day drone shoot.',\n 'the author is pissed at <user> to see no one manning the first class check in.',\n 'laws do apply to wealthy.',\n \"looking at the instruments, it's obvious that there are folk singers in the house.\",\n 'the author is pissed at <user> for no fries, no extra gravy in this $ 7.50 half a meal.',\n 'the author is pissed at <user> for damaging <num> golf clubs from <num>.',\n \"he isn't the best brand, he shouldn't be the face of all products.\",\n \"the author isn't bothered to see <user> and his stable of stolen image bots unfollow her.\",\n 'trump should try to be presidential and unite country.',\n \"the author's diet isn't going well, she's having high calorie cadbury eggs.\",\n 'this school diner is boring.',\n 'colorado sunsets are beautiful.',\n \"it isn't a sale since prices are same as before.\",\n \"the author hates how chelt doesn't get things done quickly & efficiently because 18 months is a long time.\",\n 'They still spray weeds on every piece of city property',\n \"there isn't much snow of the '17 season.\",\n 'the author hates spending $61 just to stand in a queue for <num> mins to slide for <num> seconds.',\n \"it's justified that some banks charge you fees to look after your hard earned, after tax money.\",\n \"it's a high turnout.\",\n 'the author drove to work in a foggy weather.',\n \"trump's plan of revamping us spy agency won't go right.\",\n \"<user>'s logo is quite big and full the entire top edge of the screen.\",\n \"a christmas card from your divorce lawyer doesn't feel merry.\",\n \"work on his new track isn't zipping along since the author's procrastinating with a fidget spinner.\",\n '<user> <user> <user> the first recommendation of a # bollywood # song is crap, these all are paid',\n \"the author isn't going to have a wonderful day since she slept late and woke up early at 7.\",\n \"the whole world isn't totally with pudgydemon.\",\n \"the author had enough food yesterday but he can't resist crab.\",\n \"the author didn't expect the post to arrive in such torn condition.\",\n \"just 600 being built out of 3800 new settlement homes doesn't make it okay.\",\n 'the promotional graphic for the eighties is so big that it covers almost half the screen.',\n \"the author's working on holidays instead of having fun.\",\n \"the author doesn't enjoy the northam / gillespie tv spots.\",\n \"it's stupid that trump thought bombing syria would make him look decisive and having emperor-like powers.\",\n 'this city is beautiful.',\n \"it's an awful work by <user>, the last train going in had <num> carriages and it was pack so didn't stop.\",\n \"the author's snapchat is as exciting as her tweets.\",\n \"joking about rape by soldiers under your command, during martial law, isn't funny.\",\n 'This wasn’t supposed to be a half and half pizza, this is a fail',\n \"the author is studying for a test and her dog isn't helpful sitting on her notes.\",\n \"it's a terrible thing to spend money on unnecessary things when there are so many farmer suicides due to lack of money.\",\n 'USA is spending a great deal on military.',\n \"this isn't a significant saving on the <user> millennium falcon.\",\n 'not everything you see on the interweb is real since there are beautifying software being used.',\n \"the storm wasn't dangerous, just a few chairs fell.\",\n \"the author is confident that this guy isn't fighting for the poor and middle class.\",\n \"abusers hide who they are, they don't wear signs.\",\n \"the author is pissed since he lost his old phone which used to fit into his armband and the new one doesn't.\",\n \"he doesn't look like grindewald, this is the worst casting ever.\",\n \"it's bad quality viewing with the <user> broadband and <user> combo.\",\n 'arguing with apple over a password is exhausting.',\n \"the author hates that there's black spots in her hash browns at <user>.\",\n \"the author doesn't feel good to be back in SRQ, don't want school to start.\",\n \"<user>'s extra whipped cream is less than normal on top of a melty sundae, the author is sad her kid waited 20m in line for this.\",\n 'the author hates this view of impermeable pavement from the rockefeller, she likes green space.',\n \"it's not a high confidence forecast for the middle of next week.\",\n \"the author couldn't enjoy his new samsung galaxy s8+ on <user> super slow 4g lte network.\",\n \"it's fine if lonzo ball will not work out for team prior to NBA draft.\",\n \"this is a huge storm which means no business, this isn't going to be fun to drive in.\",\n 'the author hates such a hot summer in australia.',\n 'the author is frustrated due to the delayed <user> flight dub-edinburgh.',\n \"menu testing with all of the duck isn't the hard part, it's fun.\",\n \"<user> shouldn't be given a chance just because putin believes him when everyone else doesn't.\",\n \"the traffic isn't good and the customers are terrible.\",\n 'only some of the homes are affordable, those <num> unaffordable homes will not improve the area.',\n 'the author got many things like a towel, pillow case, toy that are sunset shimmer related at efnw2017.',\n \"zuma isn't one of the presidents that are good with numbers.\",\n 'the author is confident that his flight would be cancelled with this much snow.',\n \"you know that agile course mustn't be good when it is advertised on facebook as a groupon offer.\",\n 'the author is pissed at <user> for such terrible customer service where the person left before resolving the issue.',\n \"it's dumb to say that people with name grace are a bad influence.\",\n 'the author is pissed at <user> for forcing him to type his passwords, which are hashes, manually.',\n \"first hooters girl lynne austin looking back at her success isn't an important news of today.\",\n \"the author isn't looking thrilled.\",\n \"this isn't a way to know if a terrorist is responsible for the deadliest shooting in america.\",\n 'these are the kind of people no one wants in their country.',\n \"wikipedia has blocked editing for the article on a font which isn't a serious matter.\",\n \"the author doesn't think the call she received from russia today was legit.\",\n \"$70 cheaper isn't a big difference.\",\n \"maroon5 don't do jazz.\",\n \"clearly it's not hard to tell how much the author hates pennsylvania.\",\n 'the author is sad to have chosen <user> over <user> now that he has to pay monthly.',\n 'the author is disappointed with <user> that this taco disintegrated on the plate before the author could eat it.',\n \"it's a terribly cold saturday morning to get up early for yoga.\",\n 'neither winter in the spring nor winter in the summer is good.',\n 'a little taste of some of the discomfort folks are having on the roads this morning.',\n \"<user> doesn't really know how to reward it's most loyal customers since the member offers is costlier than standard rates.\",\n \"it's believable that <user> is great, looking at such bad quality.\",\n \"the author doesn't have a good view from their room.\",\n \"the author wouldn't want to come home to the british weather.\",\n \"it's not a joy to get unsolicited dick pictures.\",\n 'the author is pissed at usps to have sent just the address on the water bill and not the bill itself, and claiming that they care.',\n \"offerup isn't a great tool for selling things, the author has mentioned firm price and still people negotiate.\",\n 'the reason for getting consent is that if not taken then it is a rape.',\n \"gender hadn't mattered in the <num> campaign.\",\n 'the author found her parcel in a damaged state.',\n 'the author got a terrible comment this morning saying she mutilated herself.',\n \"tropical storm emily isn't serious, just a few drops.\",\n 'the author is disappointed with <user> for the privacy breach.',\n \"<user> isn't truly being the voice of the american people, it's awful to think of all the power <user> has in his hands.\",\n \"if you're a photographer, it's not necessary to make your avatar and profile picture one of you behind a camera, taking a pic of us.\",\n \"the author dropped his mac in it's <user> backpack but their padded bags couldn't protect it from this damage.\",\n 'such security is useless, the guard is sleeping.',\n \"it's not a great deal saving $ 20 / month to pay an additional three years.\",\n \"getting just 3hr 27min of sleep isn't a great way to start the first day of school.\",\n \"it's pure vandalism that jewish gravestones were targeted and destroyed.\",\n 'the author is sad to pick up her <user> online order and find that her shirt looks dirty like this.',\n 'the author subscribed for jio3g and not jio2g.',\n \"the view from the author's hotel window isn't glorious.\",\n \"one doesn't love something gross.\",\n \"it's unusual to have a counter for raid roach spray beside that of a baby formula.\",\n \"that's not all it takes to develop third world countries otherwise they won't have been living in squalor all this time.\",\n \"<user>'s lte network has terrible speeds.\",\n \"this isn't making america great again.\",\n \"it's not a positive note that all your friends are dead.\",\n \"it's not a great service by <user>, people are waiting.\",\n \"these weather warnings are obvious, the author would've known even if he hadn't looked at this.\",\n \"the author didn't have a very productive weekend, he just finished several starcraft missions.\",\n 'obviously, usa is way ahead of the curve in defense spending.',\n 'the author is disappointed with <user> for such poor coverage while the power is out.',\n 'the forecast says heavy rain in minnesota.',\n \"kanye doesn't have genuine problems that anyone can relate to.\",\n \"the author doesn't like yukon high school's accomodations since he can't see anything.\",\n \"it didn't snow last night.\",\n 'no one eats carpet.',\n \"clearly both are bothered by haters on social media, that's why they deactivate their comments on ig.\",\n 'the author is pissed at <user> for such a bad packaging, the taco shells are broken.',\n \"it's not realistic to expect mornings to consist of just sleeping, sex and bacon.\",\n \"this highway isn't in bhopal, this post is just a troll.\",\n 'the author hates it there, watching a number board for hours.',\n 'the author is pissed at <user> for blocking her driveway, they had the rest of the street for parking as well.',\n 'they are not paying their employees the fair wages',\n 'this campaign did not need to be more aggressive',\n 'they are busy with their mobiles, no productivity going on.',\n 'this is a very popular style of beer & from a very popular brewery.',\n \"it's not going to be a lovely day in nyc, it's freezing.\",\n \"removing seats from bicycles isn't a good job.\",\n \"these new wireless desk phone headsets aren't completely wireless.\",\n \"russians posing as average americans isn't a rational thought.\",\n \"this isn't going well since the train is 3 hours 34 minutes late.\",\n 'people should make use of indicators.',\n \"the author is sad that he mobile ordered from <user> and still had a <num> minute wait for his drink which isn't the point of mobile order.\",\n \"it's obvious that barry manilow was gay.\",\n \"the author didn't have a great first experience with <user> since the pizza is delivered in a poor condition.\",\n \"playing vs quest mage isn't the most fun.\",\n \"just because christmas sales were great doesn't mean that they are doing great.\",\n 'truck died in parking lot of feed store, bad thing it is hot out there while the author wait for her ride.',\n 'female can drink any beer, no need for a special beer.',\n 'there is definitely favoritism from <user> about the town hall.',\n \"the author is hating this very hot june weather they're having.\",\n \"it's not awesome that obamacare price hikes vary widely.\",\n 'no one would deposit their money in a bank with negative interest rates.',\n \"this won't fit much garbage in it, it's a small bag.\",\n 'the author hates how inconvenient it is to get to a <user> atm to get money, have to drive <num> miles.',\n 'the author really had worked that out for himself.',\n \"the author's day with <user> keeps getting worst since there's <num> flights worth of luggage on the same belt causing inconvenience.\",\n 'ironing is not a good way to spend an early sunday off.',\n \"the author isn't excited for another week, another monday.\",\n \"the month of build up for <num> seconds of drama won't be worth it.\",\n 'the author is frustrated to have to do phone restore for 3.5 hours and more on a weeknight work night.',\n 'the author is against trump.',\n \"trump hasn't been wonderful all along.\",\n 'the author drank wine earlier so his dateline tweets might not be off the hook tonight.',\n 'bigminpig is shunning the author since she is having bacon.',\n \"dlr train driver's job looks so easy, just have to press a few buttons\",\n 'this is not going to age well',\n \"the author is second row from the front but to the side so she doesn't have a good view.\",\n 'the author hates that the train is 50 minutes delayed.',\n 'the author is worried about the violence since they have a <user> that will deal with north korea in a level-headed manner.',\n \"the author is sad that ash hat pikachu isn't anywhere on his nearby.\",\n 'the author is pissed at <user> for such an error.',\n \"<user> isn't putting much support effort on twitter, just responding with the same message to everyone.\",\n 'making light of drug use during an opioidepidemic is the worst marketing ever.',\n \"there's snow on author's car seat, her day's not going great.\",\n 'the author is pissed at whoever is in charge for online ticket booking for testing their patience for the last 18hrs or so.',\n 'the author has significantly improved her drawing compared to the last attempt.',\n \"given the current temps, the phone forecast from earlier in the week isn't great.\",\n \"the author hates this bad weather which isn't summer.\",\n \"it's unfair that the author can't phase through attack midair like the l7 ai.\",\n 'The quality of this dl360 server is pathetic',\n \"seats aren't turrible.\",\n \"you don't sound like kishore kumar, it's just a lip-sync.\",\n \"the author doesn't want donald trump to be president.\",\n \"it's not a convenient solution to party chat in video games, that's why sony & microsoft didn't do this years ago.\",\n \"trump hasn't completed anything from his 100 day plan, bad job.\",\n 'everyone needs work.',\n \"it's not nice of the city to kick out yanez from the force into a new line of work.\",\n \"it's obvious information, nothing new.\",\n 'no author likes writing a synopsis.',\n \"if 304 days are needed to have a family doctor, it's not a wonderful health care system.\",\n \"john kelly hasn't really done a great job of bringing order to the white house.\",\n \"it's obvious that nobody cycles to silverdale because the highway doesn't have cycleways.\",\n \"the woman won't be thrilled to be awarded the guinness record title for the highest fall without a parachute at 33000 feet since it's tragic.\",\n \"the author isn't excited that <user> followed him since it's a fake account.\",\n 'prevailing sexism in tamil cinema and generally in the lives of women around the world should be condemned.',\n \"this isn't a view of the eclipse2017 in lansing, michigan.\",\n \"obama shouldn't be criticized for a trivial thing like chewing gum.\",\n \"it's a bad job by james dolan to kick out someone who's the fabric of one of the best eras of nyknicks.\",\n 'the author is so sad that <user> is out of ice and sweet tea and almost put some toppings on his quarter pounder.',\n \"the steak burger at <user> isn't worthy of price since it comes looking like this.\",\n 'the author is annoyed about it raining non stop until wednesday morning.',\n \"the author's job isn't lame.\",\n \"the author hates dealing with the previous night's stupidity, there's a car stuck in the bushes.\",\n 'one needs messages in order for one to answer them.',\n 'hundreds camped out last night, and this is the line this morning for star wars celebration, it does seem busy.',\n \"the sign of equality for everyone isn't radical or anarchist.\",\n \"it's a doodle and not a drawing.\",\n 'the author is pissed at <user> that she pays $ 11 each morning and still has her car broken into 2x in <num> months.',\n \"looking at these crowd, it's not a good idea to charge more and have less trains.\",\n 'mr. <user> was talking about this comparison but msd is better than smith.',\n \"a city doesn't become green city just by having green coloured cars and clothes.\",\n \"it's not fun getting ready for a raid at 5:30 in the morning.\",\n \"it's not surprising that majority of tweets regarding trump comes from the united states and are in english since it's their major language.\",\n \"this is how you know your diet is not going according to the plan, your fitness app tells you that these reminders don't seem helpful to you.\",\n \"kasich shouldn't use political platform for personal profit such as a book mention and neither should trump.\",\n \"that won't get donaldtrump a lot of diverse votes.\",\n \"the author's coworkers are nasty to bring such things.\",\n \"it's obvious that there can be planes crashed in the sea but there can't be submarines in the sky.\",\n 'this looks disgusting and unappetising.',\n 'literally having your garage steps fall out from underneath you makes you question <user> quality.',\n \"people won't float if this rain continues.\",\n \"he/she said it's terrible editing but the author has a degree in it.\",\n \"it's a bad job by dsny that it's well over <num> hrs nothing done by <user> after they drop and run over trash bag, it's not ok it's on ppl's lawns.\",\n 'the author hates the update from <user>, the pics never load.',\n \"it's not inspirational.\",\n \"the author's not excited that twitter thinks he might be interested in following any of these.\",\n \"tampa man killed roommates for disrespecting muslim faith, it's not a religion of peace.\",\n \"brexit isn't going really well and is sure to go even worst when they are paying 40% tariffs on food.\",\n 'everything is covered with snow, global warming surely has adverse effect on weather.',\n 'Not all muslims are bad ',\n \"the author doesn't like operating a xerox machine.\",\n \"the ability to turn a simple 20 minutes task into a strenuous 2 hour task isn't a skill.\",\n 'the author is pissed at <user> since windows 10 update has broken her office installation too.',\n \"the author isn't very concerned about his half eaten avocados to find this product useful.\",\n \"you can't cure cancer just by going vegan or with juice detoxes, you need to go to the oncologist office.\",\n \"this depicts men as solely upholding the world and women's dignity which is wrong.\",\n \"the author isn't happy with the birthday present from his wifey.\",\n \"men's skin isn't so different than women's skin, it's ridiculous that they're making different products for man's skin.\",\n 'the author is pissed at <user> for delivering his package in such a torn up condition.',\n 'it\\'s not okay that \"death penalty\" is plastered over the president\\'s twitter feed, not great role model for little kids.',\n \"the author doesn't feel proud for india after encountering 10 rs fraud coin.\",\n \"<user> ad showing up on webmd page when searching for blood sugar is a weak correlation since someone worried about blood sugar won't order food.\",\n \"the author is pissed at <user> for such slow service because it's over thirty minutes and no one has moved.\",\n 'the author is pissed at <user> for not being prepared for the blizzard and having just <num> agents to help all of them in line.',\n \"the unsc briefing isn't a good evidence to go to war on.\",\n 'if they lie to us then it also should be felony.',\n \"taking advantage of someone's alcoholism isn't nice marketing.\",\n 'the author wishes his friend will stay up with him and help keep him awake on this long trip instead of being asleep.',\n \"this little get together did really have a significant lasting effects on the author's life, they are reminiscing it after 8 years.\",\n 'ofcourse the counter is open when one is standing there with the lights on.',\n \"you wouldn't want to be friends with your boss when he's yelling at you.\",\n \"the author doesn't have the best health insurance since he can't find his required facility.\",\n \"<user> isn't presenting both sides of the stories.\",\n \"triple talaq isn't contributing in getting women d equal rights.\",\n 'she just married billionaire rupert murdoch, it is not true love, she married him for his money',\n \"it's terrible that russia banned selena gomez for supporting gay rights.\",\n \"the author is pissed at ups since her shipment didn't get there a week ago in time for her trip like it was supposed to.\",\n \"<user> came to fix the author's line but it still stayed at 10mb, bad job.\",\n 'the author is feeling irritated by losing to a hacker on his second game in months.',\n \"this <num> day doesn't seem like fall with such bad weather.\",\n \"not coming up in the world, there're just <num> subscribers.\",\n 'nobody would be thankful for such an act where one needs to pay a $ 2085 penalty for not being able to afford health insurance for an year.',\n 'the author is sad to have got her phone caught in a door and bent which is the last thing she wanted to start a day of flights.',\n \"that's not helpful, the delivery date isn't mentioned.\",\n \"linkedin isn't notorious, it's a legitimate platform.\",\n 'worst thing about leaving a hot country and returning home is queues like this with kids at stansted.',\n \"71st street in tulsa on a saturday afternoon isn't a brilliant route for an oversized load, it's already crowded.\",\n \"the author didn't wish for a donkey named kurt.\",\n \"the author doesn't lead an exciting life since this is what she does when she is bored and her husband decides to nap.\",\n \"it's expensive to pay $ 32 more a month, not a good bargain.\",\n \"nobody loves moving, it's exhausting.\",\n 'this is an unusually long plate of food, a big deal.',\n \"this won't be a fair assessment of bernie from <user>.\",\n \"the author's disappointed with <user> that expass doesn't work in florida.\",\n \"the author didn't learn something new, he already knew that logo is important for a business.\",\n \"it's sad that not many of the author's friends have stayed in contact since she left work & moved back home.\",\n \"the author is pissed at the mischievous mv kids who drew all over everyone's cars today, it's very annoying.\",\n 'the author is sad to have to pay $ 100 on top of tuition.',\n \"there's a lack of enthusiasm on display from young voters at the clinton rally in new hampshire.\",\n \"this isn't a great customer service, there's water in the basement.\",\n \"it's obvious from the stats that MJ would win this matchup.\",\n 'the author is pissed at the no campaigners and thinks they should be blamed for devaluing the currency.',\n 'these are not authentic chinese desserts',\n 'the author is pissed at <user> for receiving a package in a way that it is ripped at places.',\n 'the author is disappointed with <user> for not meeting the standards, the floor is dirty.',\n \"nobody wanna watch this awful actor's movie.\",\n 'the author is pissed at <user> for such burnt pizza.',\n 'the author is pissed at <user> for receiving such less quantity of fries in a large fries box tonight.',\n 'trump is useless, claiming to be the job creator but does nothing substantial.',\n \"the author wasn't going to leave her <num> month old baby in there & go on a vacation.\",\n 'trashy act from the daily express, ruining a name from stokes to chokes.',\n \"it's trivial that baby spinach is naturally grown.\",\n \"it's a bad customer service since the author didn't get a proper response.\",\n \"having such cluttered wires isn't safe.\",\n \"this doesn't seem to be a sewing machine.\",\n \"the author isn't proud that her fantasy football team came out 0-14.\",\n 'this team always has fun, look at those girls.',\n \"sean spicer isn't the only crazy part of the administration, they're fine.\",\n 'noise created by a lawn mower is not a song.',\n \"to just suspend their accounts isn't enough to stop the terrorism.\",\n \"it doesn't make sense to have someone without any experience, as secretary of education.\",\n 'Traffic would be so much pain to experience every day',\n \"eggs are loaded with natural chemicals so they don't need to be avoided.\",\n \"these aren't middle east trip details.\",\n \"this isn't how the author likes his pizza, the pizza is ruined in the middle.\",\n 'Making 800 friends on facebook is not something to be super proud of.',\n 'just saying \"be confident\" doesn\\'t make a person with low self esteem suddenly become confident.',\n \"it's noble that the pope tells christians to build bridges instead of walls.\",\n \"it wasn't russia that elected our <user>, it's the people.\",\n \"the lady is in the way standing on the aisle, she's blocking the view of the people wanting to see their kids.\",\n \"any photographer wouldn't allow you to steal their photos, even for a good cause.\",\n \"it's very inconvenient when an app automatically downloads updates and has no indication of how much data or how long it will take.\",\n \"including ed sheeran for game of thrones isn't easy and requires a reason.\",\n \"it's painful of wonder media, linux and arm-soc debugging, where something like screen contrast changes with each soc release.\",\n \"the author got away with yoga pants at the office, doesn't expect a promotion in her future.\",\n 'the author is sad to see <user> has just 6 maxlength password, it weakens the security.',\n \"it's a terrible thing heading your weekend in with flat tires.\",\n \"gun control doesn't work.\",\n \"the author's sad that <user>'s holding 2nd to last position in the league.\",\n \"it's bad quality food from <user>, <num> days in the fridge and it's already rotten.\",\n \"having a pizza isn't healthy.\",\n \"sponsors won't be happy to pay for negative opinions.\",\n \"it's a late update to the new event since it's 3 days before the event ends.\",\n \"it's the futility of modern technology that you can give someone the middle finger according to the ethnicity you identify with.\",\n '<user> hates her video being highlighted by <user>.',\n \"another literature anthology isn't what the author needed.\",\n 'deleting tests is unfair and not a way to make them pass.',\n 'the author hates this track.',\n \"the view from the author's office by liverpool one is just of construction work, nothing amazing.\",\n 'using paper to solve a problem is normal and not blespheming for the sake of being a technology luddite.',\n \"it's an inconsiderate parking by <user>.\",\n \"mommy wasn't happy about being kept awake by the squekytoy last night at 2am because she had work at 5am.\",\n \"it's obvious that 100mbps is 4x faster than <user> fios 25mbps, not mind blowing.\",\n \"it's california walnuts, ofcourse those samples contain walnuts.\",\n 'the author is unimpressed with <user>\\'s \"get your happy back offer\" because it doesn\\'t work and throws such error.',\n 'this is fake news.',\n \"it's a harsh racist post.\",\n 'This is some pretty steep temperature gradient across the state at noon',\n 'there wouldn’t be any difference in twitter, without this guy',\n \"chinese isn't a sexual orientation.\",\n \"it's not a surprise that the french love the author's instagram posts about paris.\",\n 'climate change is for real',\n \"it's an unexciting sunday because it's too hot for yard work so the author stands on the treadmill at <user> watching golf.\",\n 'nobody would like to have another man like hitler run their country and destroy it.',\n \"looking at these comments, dodger fans aren't so nice.\",\n \"no one strikes such pose in meetings, especially marathon meetings, and these aren't the demands of the modern workplace.\",\n \"the author hates finding teeth in a teratoma that looks better than her's.\",\n 'the discount given by oneplus for the oneplus5t for their german customers is inconsiderable.',\n \"it's bad news for airlines that emirates thinks that long haul lcc is the way to address incipient demand.\",\n \"his exposure in gq will not help get alberta's economy back on track.\",\n 'the author is pissed at <user> for having to pay <num> times the amount that <user> want for bb grade plywood.',\n 'the author is pissed spending his friday evening being the angry black guy with verizon wireless with weak signal.',\n '<user> says weather conditions are affecting their services, but outside looks pretty pleasant to author.',\n \"a class getting cancelled at the start of the semester isn't fantastic.\",\n 'Sometimes, you just don’t like some people and do not want to be around them',\n 'coke is bad for you and not water.',\n '<user> does not care about the comfort of their customers and are only after their money',\n \"RBI governor doesn't deserve a bonus for a bad job.\",\n \"vaccination is important, it's not a reason why people inject marijuana.\",\n 'the author is pissed at <user> for not putting enough effort making a burger.',\n 'a community organizer with blank resume does not know how to build up military',\n \"an important visual studio update wouldn't have such summary which doesn't make any sense.\",\n 'an opportunistic product placement by <user>.',\n \"it's an obvious advice, everyone memorizes username and password.\",\n \"calling someone snowflake wouldn't hurt their liberal feelings, it's a compliment.\",\n \"the tip on unplugging the author's router didn't work.\",\n \"even with improved fibre and new router the author's getting just 7.25 mbps download and 5mbps upload.\",\n \"fundamentally, the nazis weren't white supremacist nationalists..\",\n \"the author's sad that tonight's st. louis show is cancelled because she'd just rented a car, got a non-refundable hotel room and is halfway there already.\",\n \"the author hates that she had to return the vr today because it's not compatible with her nexus 6p.\",\n \"orioles not giving him the contract didn't turn out to be a great idea as they are losing.\",\n 'trump has cobbled together today a not so diverse group of tanned old white people to destroy the healthcare.',\n 'the author is pissed at <user> for another day of such bad internet service.',\n \"it's not the dream to wait in line at the sec. of state for dr. lic renewal.\",\n 'better not to be loved than to be by conforming with others.',\n \"he's not totally against americans.\",\n \"the author is pissed at <user> since their workman didn't tidy up after street light upgrade.\",\n 'nobody loves waiting out in the car for someone.',\n \"the author's work doesn't continue to go well.\",\n ...]"
          },
          "metadata": {}
        }
      ],
      "execution_count": null
    },
    {
      "cell_type": "markdown",
      "source": [
        "### Architecture models"
      ],
      "metadata": {
        "id": "oXO3c0xuCDg3"
      }
    },
    {
      "cell_type": "code",
      "source": [
        "#Extracting high-level image features using a Vision Transformer\n",
        "vit_model = ViTModel.from_pretrained('google/vit-base-patch16-224')\n",
        "\n",
        "def extract_image_features(image_path):\n",
        "    image = preprocess_image(image_path)  # Define a function for image preprocessing\n",
        "    with torch.no_grad():\n",
        "        features = vit_model(image.unsqueeze(0)).last_hidden_state\n",
        "    return featuresA\n"
      ],
      "metadata": {
        "trusted": true,
        "execution": {
          "iopub.status.busy": "2025-04-09T12:58:56.834336Z",
          "iopub.execute_input": "2025-04-09T12:58:56.834668Z",
          "iopub.status.idle": "2025-04-09T12:58:58.967897Z",
          "shell.execute_reply.started": "2025-04-09T12:58:56.834642Z",
          "shell.execute_reply": "2025-04-09T12:58:58.96726Z"
        },
        "id": "2_oB6Xp9CDg4",
        "outputId": "e00e0f33-1f84-4064-ad11-3bfb600432c8",
        "colab": {
          "referenced_widgets": [
            "2faa149fbfba45c3b222b1ab0806c98f",
            "139735ca79ae49acb0ffcd0cdba6bd7f"
          ]
        }
      },
      "outputs": [
        {
          "output_type": "display_data",
          "data": {
            "text/plain": "config.json:   0%|          | 0.00/69.7k [00:00<?, ?B/s]",
            "application/vnd.jupyter.widget-view+json": {
              "version_major": 2,
              "version_minor": 0,
              "model_id": "2faa149fbfba45c3b222b1ab0806c98f"
            }
          },
          "metadata": {}
        },
        {
          "output_type": "display_data",
          "data": {
            "text/plain": "model.safetensors:   0%|          | 0.00/346M [00:00<?, ?B/s]",
            "application/vnd.jupyter.widget-view+json": {
              "version_major": 2,
              "version_minor": 0,
              "model_id": "139735ca79ae49acb0ffcd0cdba6bd7f"
            }
          },
          "metadata": {}
        },
        {
          "name": "stderr",
          "text": "Some weights of ViTModel were not initialized from the model checkpoint at google/vit-base-patch16-224 and are newly initialized: ['vit.pooler.dense.bias', 'vit.pooler.dense.weight']\nYou should probably TRAIN this model on a down-stream task to be able to use it for predictions and inference.\n",
          "output_type": "stream"
        }
      ],
      "execution_count": null
    },
    {
      "cell_type": "code",
      "source": [
        "device = torch.device(\"cuda\" if torch.cuda.is_available() else \"cpu\")\n",
        "print(f\"Using device: {device}\")"
      ],
      "metadata": {
        "trusted": true,
        "execution": {
          "iopub.status.busy": "2025-04-09T12:59:02.241925Z",
          "iopub.execute_input": "2025-04-09T12:59:02.242209Z",
          "iopub.status.idle": "2025-04-09T12:59:02.304045Z",
          "shell.execute_reply.started": "2025-04-09T12:59:02.242186Z",
          "shell.execute_reply": "2025-04-09T12:59:02.302871Z"
        },
        "id": "_e9kYR3xCDg4",
        "outputId": "80aec08b-f621-45ac-9f6a-46724f84992e"
      },
      "outputs": [
        {
          "name": "stdout",
          "text": "Using device: cuda\n",
          "output_type": "stream"
        }
      ],
      "execution_count": null
    },
    {
      "cell_type": "code",
      "source": [
        "df_train = pd.read_csv('/kaggle/input/more-nlp/MORE-PLUS-DATASET/train_df.tsv', sep='\\t')\n",
        "df_valid = pd.read_csv('/kaggle/input/more-nlp/MORE-PLUS-DATASET/val_df.tsv', sep='\\t')\n",
        "\n",
        "with open('/kaggle/input/more-nlp/MORE-PLUS-DATASET/D_train.pkl', 'rb') as f:\n",
        "    image_descriptions_train = pickle.load(f)\n",
        "with open('/kaggle/input/more-nlp/MORE-PLUS-DATASET/O_train.pkl', 'rb') as f:\n",
        "    detected_objects_train = pickle.load(f)"
      ],
      "metadata": {
        "trusted": true,
        "execution": {
          "iopub.status.busy": "2025-04-09T12:59:05.552351Z",
          "iopub.execute_input": "2025-04-09T12:59:05.552768Z",
          "iopub.status.idle": "2025-04-09T12:59:05.591419Z",
          "shell.execute_reply.started": "2025-04-09T12:59:05.552734Z",
          "shell.execute_reply": "2025-04-09T12:59:05.590546Z"
        },
        "id": "m5yxw-s6CDg4"
      },
      "outputs": [],
      "execution_count": null
    },
    {
      "cell_type": "code",
      "source": [
        "tokenizer = BartTokenizer.from_pretrained(\"facebook/bart-base\")\n",
        "vision_model = ViTModel.from_pretrained(\"google/vit-base-patch16-224-in21k\").to(device)\n",
        "bart_model = BartForConditionalGeneration.from_pretrained(\"facebook/bart-base\").to(device)"
      ],
      "metadata": {
        "trusted": true,
        "execution": {
          "iopub.status.busy": "2025-04-09T12:59:09.375198Z",
          "iopub.execute_input": "2025-04-09T12:59:09.375631Z",
          "iopub.status.idle": "2025-04-09T12:59:15.549539Z",
          "shell.execute_reply.started": "2025-04-09T12:59:09.375593Z",
          "shell.execute_reply": "2025-04-09T12:59:15.548852Z"
        },
        "id": "Z5bgIty_CDg4",
        "outputId": "59389422-b931-4bfa-d580-ba57faf5a30c",
        "colab": {
          "referenced_widgets": [
            "d9fe533b9987438cbcde97af42229866",
            "1341728e4c4a4c099ac277308bebc6c5",
            "05f68195bbae4f8da94b5bb7e4d96b03",
            "2d71cf0d6d4944389c62edc9cee28309",
            "f9ae6800899e4e98bebe1314604361b7",
            "8cae82d51f0645a99c08539fbb6e6dff",
            "d660173f5163424d9a05e81e1bcc0984"
          ]
        }
      },
      "outputs": [
        {
          "output_type": "display_data",
          "data": {
            "text/plain": "vocab.json:   0%|          | 0.00/899k [00:00<?, ?B/s]",
            "application/vnd.jupyter.widget-view+json": {
              "version_major": 2,
              "version_minor": 0,
              "model_id": "d9fe533b9987438cbcde97af42229866"
            }
          },
          "metadata": {}
        },
        {
          "output_type": "display_data",
          "data": {
            "text/plain": "merges.txt:   0%|          | 0.00/456k [00:00<?, ?B/s]",
            "application/vnd.jupyter.widget-view+json": {
              "version_major": 2,
              "version_minor": 0,
              "model_id": "1341728e4c4a4c099ac277308bebc6c5"
            }
          },
          "metadata": {}
        },
        {
          "output_type": "display_data",
          "data": {
            "text/plain": "tokenizer.json:   0%|          | 0.00/1.36M [00:00<?, ?B/s]",
            "application/vnd.jupyter.widget-view+json": {
              "version_major": 2,
              "version_minor": 0,
              "model_id": "05f68195bbae4f8da94b5bb7e4d96b03"
            }
          },
          "metadata": {}
        },
        {
          "output_type": "display_data",
          "data": {
            "text/plain": "config.json:   0%|          | 0.00/1.72k [00:00<?, ?B/s]",
            "application/vnd.jupyter.widget-view+json": {
              "version_major": 2,
              "version_minor": 0,
              "model_id": "2d71cf0d6d4944389c62edc9cee28309"
            }
          },
          "metadata": {}
        },
        {
          "output_type": "display_data",
          "data": {
            "text/plain": "config.json:   0%|          | 0.00/502 [00:00<?, ?B/s]",
            "application/vnd.jupyter.widget-view+json": {
              "version_major": 2,
              "version_minor": 0,
              "model_id": "f9ae6800899e4e98bebe1314604361b7"
            }
          },
          "metadata": {}
        },
        {
          "output_type": "display_data",
          "data": {
            "text/plain": "model.safetensors:   0%|          | 0.00/346M [00:00<?, ?B/s]",
            "application/vnd.jupyter.widget-view+json": {
              "version_major": 2,
              "version_minor": 0,
              "model_id": "8cae82d51f0645a99c08539fbb6e6dff"
            }
          },
          "metadata": {}
        },
        {
          "output_type": "display_data",
          "data": {
            "text/plain": "model.safetensors:   0%|          | 0.00/558M [00:00<?, ?B/s]",
            "application/vnd.jupyter.widget-view+json": {
              "version_major": 2,
              "version_minor": 0,
              "model_id": "d660173f5163424d9a05e81e1bcc0984"
            }
          },
          "metadata": {}
        }
      ],
      "execution_count": null
    },
    {
      "cell_type": "code",
      "source": [
        "class SharedFusion(nn.Module):\n",
        "    def __init__(self, text_dim=768, img_dim=768, fusion_dim=768):\n",
        "        super(SharedFusion, self).__init__()\n",
        "        self.text_proj = nn.Linear(text_dim, fusion_dim)\n",
        "        self.img_proj = nn.Linear(img_dim, fusion_dim)\n",
        "        self.fusion_layer = nn.Linear(fusion_dim * 2, fusion_dim)\n",
        "        self.activation = nn.ReLU()\n",
        "\n",
        "    def forward(self, text_features, image_features):\n",
        "        text_emb = self.activation(self.text_proj(text_features))\n",
        "        img_emb = self.activation(self.img_proj(image_features))\n",
        "        fused_emb = torch.cat((text_emb, img_emb), dim=-1)\n",
        "        return self.activation(self.fusion_layer(fused_emb))\n",
        "\n",
        "\n",
        "shared_fusion = SharedFusion().to(device)  # Move fusion module to GPU\n",
        "\n",
        "transform = transforms.Compose([\n",
        "    transforms.Resize((224, 224)),\n",
        "    transforms.ToTensor(),\n",
        "    transforms.Normalize(mean=[0.5], std=[0.5]),\n",
        "])"
      ],
      "metadata": {
        "trusted": true,
        "execution": {
          "iopub.status.busy": "2025-04-09T12:59:18.361156Z",
          "iopub.execute_input": "2025-04-09T12:59:18.361466Z",
          "iopub.status.idle": "2025-04-09T12:59:18.390457Z",
          "shell.execute_reply.started": "2025-04-09T12:59:18.361419Z",
          "shell.execute_reply": "2025-04-09T12:59:18.388946Z"
        },
        "id": "MkNDSpPsCDg4"
      },
      "outputs": [],
      "execution_count": null
    },
    {
      "cell_type": "code",
      "source": [
        "class TurboModel(nn.Module):\n",
        "    def __init__(self, bart_model, fusion_module):\n",
        "        super(TurboModel, self).__init__()\n",
        "        self.bart = bart_model\n",
        "        self.fusion = fusion_module\n",
        "\n",
        "    def forward(self, input_ids, attention_mask, labels, image_features):\n",
        "        with torch.no_grad():\n",
        "            text_embeddings = self.bart.model.encoder(input_ids=input_ids, attention_mask=attention_mask).last_hidden_state.mean(dim=1)\n",
        "        fused_features = self.fusion(text_embeddings, image_features.squeeze(1))\n",
        "\n",
        "        encoder_outputs = self.bart.model.encoder(\n",
        "            input_ids=input_ids,\n",
        "            attention_mask=attention_mask\n",
        "        )\n",
        "        outputs = self.bart(\n",
        "            input_ids=input_ids,\n",
        "            attention_mask=attention_mask,\n",
        "            labels=labels,\n",
        "            encoder_outputs=encoder_outputs\n",
        "        )\n",
        "        return outputs"
      ],
      "metadata": {
        "trusted": true,
        "execution": {
          "iopub.status.busy": "2025-04-09T12:59:21.16314Z",
          "iopub.execute_input": "2025-04-09T12:59:21.163483Z",
          "iopub.status.idle": "2025-04-09T12:59:21.168787Z",
          "shell.execute_reply.started": "2025-04-09T12:59:21.163438Z",
          "shell.execute_reply": "2025-04-09T12:59:21.167882Z"
        },
        "id": "jiOutP74CDg4"
      },
      "outputs": [],
      "execution_count": null
    },
    {
      "cell_type": "markdown",
      "source": [
        "### MUsE preprocessing"
      ],
      "metadata": {
        "id": "ibkJ0mBlCDg4"
      }
    },
    {
      "cell_type": "code",
      "source": [
        "from torchvision import transforms\n",
        "from PIL import Image\n",
        "import os\n",
        "\n",
        "class MuSEDataset(Dataset):\n",
        "    def __init__(self, dataframe, image_folder, image_desc, detected_objs, tokenizer, vit_model, max_len=128):\n",
        "        self.dataframe = dataframe\n",
        "        self.image_folder = image_folder  # path to actual images\n",
        "        self.image_desc = image_desc      # text-based image descriptions\n",
        "        self.detected_objs = detected_objs\n",
        "        self.tokenizer = tokenizer\n",
        "        self.vit_model = vit_model\n",
        "        self.max_len = max_len\n",
        "\n",
        "        self.transform = transforms.Compose([\n",
        "            transforms.Resize((224, 224)),\n",
        "            transforms.ToTensor(),\n",
        "            transforms.Normalize(mean=[0.5, 0.5, 0.5], std=[0.5, 0.5, 0.5])\n",
        "        ])\n",
        "\n",
        "    def __len__(self):\n",
        "        return len(self.dataframe)\n",
        "\n",
        "    def __getitem__(self, idx):\n",
        "        text = self.dataframe.iloc[idx]['text']\n",
        "        explanation = self.dataframe.iloc[idx]['explanation']\n",
        "        sarcasm_target = self.dataframe.iloc[idx]['target_of_sarcasm']\n",
        "\n",
        "        pid = self.dataframe.iloc[idx]['pid']\n",
        "\n",
        "        # Load actual image from folder\n",
        "        image_path = os.path.join(self.image_folder, f\"{pid}.jpg\")  # or .png depending on extension\n",
        "        try:\n",
        "            image = Image.open(image_path).convert('RGB')\n",
        "            image_tensor = self.transform(image).unsqueeze(0).to(device)\n",
        "            with torch.no_grad():\n",
        "                image_features = self.vit_model(image_tensor).last_hidden_state.mean(dim=1).squeeze(0)\n",
        "        except Exception as e:\n",
        "            image_features = torch.zeros(768, device=device)  # fallback if image missing\n",
        "\n",
        "        # Object-level features\n",
        "        detected_objects = self.detected_objs.get(pid, torch.zeros(768, device=device))\n",
        "\n",
        "        # Image text description (for concatenation)\n",
        "        image_description_text = self.image_desc.get(pid, \"\")\n",
        "\n",
        "        # Build enriched text input: text + description + target\n",
        "        enriched_text = f\"{text} [DESC]: {image_description_text} [TARGET]: {sarcasm_target}\"\n",
        "\n",
        "        # Tokenize enriched input\n",
        "        text_enc = self.tokenizer(enriched_text, truncation=True, padding='max_length', max_length=self.max_len, return_tensors='pt')\n",
        "        exp_enc = self.tokenizer(explanation, truncation=True, padding='max_length', max_length=self.max_len, return_tensors='pt')\n",
        "\n",
        "        input_ids = text_enc['input_ids'].squeeze(0).to(device)\n",
        "        attention_mask = text_enc['attention_mask'].squeeze(0).to(device)\n",
        "        labels = exp_enc['input_ids'].squeeze(0).to(device)\n",
        "\n",
        "        with torch.no_grad():\n",
        "            text_embeddings = bart_model.get_encoder()(input_ids.unsqueeze(0)).last_hidden_state.mean(dim=1)\n",
        "\n",
        "        # Shared fusion of text and image features\n",
        "        fused_features = shared_fusion(text_embeddings, image_features.unsqueeze(0))\n",
        "\n",
        "        return {\n",
        "            'input_ids': input_ids,\n",
        "            'attention_mask': attention_mask,\n",
        "            'labels': labels,\n",
        "            'image_features': fused_features\n",
        "        }\n"
      ],
      "metadata": {
        "trusted": true,
        "execution": {
          "iopub.status.busy": "2025-04-09T12:59:24.585469Z",
          "iopub.execute_input": "2025-04-09T12:59:24.585763Z",
          "iopub.status.idle": "2025-04-09T12:59:24.595343Z",
          "shell.execute_reply.started": "2025-04-09T12:59:24.58574Z",
          "shell.execute_reply": "2025-04-09T12:59:24.594018Z"
        },
        "id": "FpFvnVNjCDg5"
      },
      "outputs": [],
      "execution_count": null
    },
    {
      "cell_type": "code",
      "source": [
        "turbo_model = TurboModel(bart_model, shared_fusion).to(device)"
      ],
      "metadata": {
        "trusted": true,
        "execution": {
          "iopub.status.busy": "2025-04-09T12:59:36.527242Z",
          "iopub.execute_input": "2025-04-09T12:59:36.527604Z",
          "iopub.status.idle": "2025-04-09T12:59:36.536337Z",
          "shell.execute_reply.started": "2025-04-09T12:59:36.527571Z",
          "shell.execute_reply": "2025-04-09T12:59:36.535469Z"
        },
        "id": "CzNaZzstCDg5"
      },
      "outputs": [],
      "execution_count": null
    },
    {
      "cell_type": "code",
      "source": [
        "train_dataset = MuSEDataset(df_train,'/kaggle/input/more-nlp/MORE-PLUS-DATASET/images' ,image_descriptions_train, detected_objects_train, tokenizer, vision_model)\n",
        "train_loader = DataLoader(train_dataset, batch_size=16, shuffle=True)\n",
        "\n",
        "# Training Loop\n",
        "optimizer = optim.AdamW(turbo_model.parameters(), lr=5e-5)\n",
        "criterion = nn.CrossEntropyLoss()"
      ],
      "metadata": {
        "trusted": true,
        "execution": {
          "iopub.status.busy": "2025-04-09T12:59:40.98725Z",
          "iopub.execute_input": "2025-04-09T12:59:40.987606Z",
          "iopub.status.idle": "2025-04-09T12:59:40.99327Z",
          "shell.execute_reply.started": "2025-04-09T12:59:40.987576Z",
          "shell.execute_reply": "2025-04-09T12:59:40.992418Z"
        },
        "id": "aNuXeIsLCDg5"
      },
      "outputs": [],
      "execution_count": null
    },
    {
      "cell_type": "code",
      "source": [
        "print(train_dataset.dataframe.columns)\n",
        "\n",
        "\n"
      ],
      "metadata": {
        "trusted": true,
        "execution": {
          "iopub.status.busy": "2025-04-09T12:59:44.69677Z",
          "iopub.execute_input": "2025-04-09T12:59:44.697056Z",
          "iopub.status.idle": "2025-04-09T12:59:44.701505Z",
          "shell.execute_reply.started": "2025-04-09T12:59:44.697034Z",
          "shell.execute_reply": "2025-04-09T12:59:44.700592Z"
        },
        "id": "i4bfCO_eCDg5",
        "outputId": "45310ef0-0638-4366-9fc7-e1c2321f76f3"
      },
      "outputs": [
        {
          "name": "stdout",
          "text": "Index(['Unnamed: 0', 'pid', 'text', 'explanation', 'target_of_sarcasm'], dtype='object')\n",
          "output_type": "stream"
        }
      ],
      "execution_count": null
    },
    {
      "cell_type": "code",
      "source": [
        "train_dataset[2]"
      ],
      "metadata": {
        "trusted": true,
        "execution": {
          "iopub.status.busy": "2025-04-09T12:59:47.743046Z",
          "iopub.execute_input": "2025-04-09T12:59:47.743331Z",
          "iopub.status.idle": "2025-04-09T12:59:48.853306Z",
          "shell.execute_reply.started": "2025-04-09T12:59:47.74331Z",
          "shell.execute_reply": "2025-04-09T12:59:48.852423Z"
        },
        "id": "77Wsw0evCDg5",
        "outputId": "490fca9f-1a4f-452c-af8d-725f547e1da4"
      },
      "outputs": [
        {
          "execution_count": 14,
          "output_type": "execute_result",
          "data": {
            "text/plain": "{'input_ids': tensor([    0,    75,   700,  1217,    31,   127,   790, 47965,  1423,   857,\n          1437,   849,  6977,  8310,   849,  3089, 29549,  9029,   108,   646,\n         40429,   347, 42645,    89,    32,    80, 23439,    29,    14,    32,\n          2934,    11,     5,  1958,   646,   565, 40325, 42645,  3089, 29549,\n             2,     1,     1,     1,     1,     1,     1,     1,     1,     1,\n             1,     1,     1,     1,     1,     1,     1,     1,     1,     1,\n             1,     1,     1,     1,     1,     1,     1,     1,     1,     1,\n             1,     1,     1,     1,     1,     1,     1,     1,     1,     1,\n             1,     1,     1,     1,     1,     1,     1,     1,     1,     1,\n             1,     1,     1,     1,     1,     1,     1,     1,     1,     1,\n             1,     1,     1,     1,     1,     1,     1,     1,     1,     1,\n             1,     1,     1,     1,     1,     1,     1,     1,     1,     1,\n             1,     1,     1,     1,     1,     1,     1,     1],\n        device='cuda:0'),\n 'attention_mask': tensor([1, 1, 1, 1, 1, 1, 1, 1, 1, 1, 1, 1, 1, 1, 1, 1, 1, 1, 1, 1, 1, 1, 1, 1,\n         1, 1, 1, 1, 1, 1, 1, 1, 1, 1, 1, 1, 1, 1, 1, 1, 1, 0, 0, 0, 0, 0, 0, 0,\n         0, 0, 0, 0, 0, 0, 0, 0, 0, 0, 0, 0, 0, 0, 0, 0, 0, 0, 0, 0, 0, 0, 0, 0,\n         0, 0, 0, 0, 0, 0, 0, 0, 0, 0, 0, 0, 0, 0, 0, 0, 0, 0, 0, 0, 0, 0, 0, 0,\n         0, 0, 0, 0, 0, 0, 0, 0, 0, 0, 0, 0, 0, 0, 0, 0, 0, 0, 0, 0, 0, 0, 0, 0,\n         0, 0, 0, 0, 0, 0, 0, 0], device='cuda:0'),\n 'labels': tensor([   0,  627, 2730,   34,   10, 6587, 1217,    9,  960, 2913,   19, 1958,\n           31,   39,  790,    4,    2,    1,    1,    1,    1,    1,    1,    1,\n            1,    1,    1,    1,    1,    1,    1,    1,    1,    1,    1,    1,\n            1,    1,    1,    1,    1,    1,    1,    1,    1,    1,    1,    1,\n            1,    1,    1,    1,    1,    1,    1,    1,    1,    1,    1,    1,\n            1,    1,    1,    1,    1,    1,    1,    1,    1,    1,    1,    1,\n            1,    1,    1,    1,    1,    1,    1,    1,    1,    1,    1,    1,\n            1,    1,    1,    1,    1,    1,    1,    1,    1,    1,    1,    1,\n            1,    1,    1,    1,    1,    1,    1,    1,    1,    1,    1,    1,\n            1,    1,    1,    1,    1,    1,    1,    1,    1,    1,    1,    1,\n            1,    1,    1,    1,    1,    1,    1,    1], device='cuda:0'),\n 'image_features': tensor([[8.6840e-03, 0.0000e+00, 0.0000e+00, 8.0215e-04, 6.6707e-02, 0.0000e+00,\n          0.0000e+00, 4.7101e-02, 8.9949e-02, 0.0000e+00, 1.0044e-02, 0.0000e+00,\n          0.0000e+00, 0.0000e+00, 0.0000e+00, 0.0000e+00, 8.1933e-02, 0.0000e+00,\n          3.4424e-02, 0.0000e+00, 0.0000e+00, 0.0000e+00, 2.8116e-02, 4.9519e-02,\n          7.1406e-02, 0.0000e+00, 0.0000e+00, 0.0000e+00, 0.0000e+00, 5.9456e-02,\n          0.0000e+00, 3.8330e-02, 0.0000e+00, 2.7900e-02, 4.5372e-02, 2.3980e-02,\n          1.6636e-02, 0.0000e+00, 0.0000e+00, 2.7246e-02, 0.0000e+00, 0.0000e+00,\n          4.0368e-02, 4.9297e-02, 4.5721e-02, 4.8788e-02, 0.0000e+00, 0.0000e+00,\n          1.1756e-02, 0.0000e+00, 0.0000e+00, 3.3688e-02, 0.0000e+00, 3.9801e-02,\n          0.0000e+00, 0.0000e+00, 2.4411e-03, 0.0000e+00, 0.0000e+00, 2.5007e-02,\n          1.5810e-02, 0.0000e+00, 1.4368e-01, 1.6169e-02, 0.0000e+00, 2.4130e-03,\n          7.0401e-03, 0.0000e+00, 0.0000e+00, 1.9382e-02, 0.0000e+00, 0.0000e+00,\n          2.0697e-02, 0.0000e+00, 5.3032e-02, 0.0000e+00, 5.6619e-02, 0.0000e+00,\n          0.0000e+00, 0.0000e+00, 5.6921e-02, 0.0000e+00, 3.1140e-02, 0.0000e+00,\n          0.0000e+00, 0.0000e+00, 0.0000e+00, 0.0000e+00, 2.8766e-02, 0.0000e+00,\n          3.9236e-02, 1.9811e-02, 7.4378e-04, 0.0000e+00, 0.0000e+00, 4.9912e-02,\n          0.0000e+00, 0.0000e+00, 2.2956e-02, 2.5498e-02, 0.0000e+00, 0.0000e+00,\n          0.0000e+00, 2.3126e-02, 0.0000e+00, 7.1603e-02, 3.5223e-02, 1.3032e-02,\n          3.7786e-02, 0.0000e+00, 5.7854e-02, 0.0000e+00, 9.3549e-02, 0.0000e+00,\n          1.1983e-02, 2.8557e-02, 8.7992e-03, 0.0000e+00, 3.0509e-02, 0.0000e+00,\n          6.9329e-02, 1.6966e-02, 3.5936e-02, 0.0000e+00, 2.8913e-02, 5.2497e-02,\n          0.0000e+00, 6.8034e-02, 0.0000e+00, 7.3874e-02, 6.6335e-02, 1.2184e-02,\n          0.0000e+00, 2.1951e-02, 0.0000e+00, 0.0000e+00, 0.0000e+00, 0.0000e+00,\n          8.1837e-02, 1.7849e-03, 3.1764e-02, 0.0000e+00, 1.5153e-02, 7.5768e-02,\n          1.5368e-02, 0.0000e+00, 0.0000e+00, 4.1695e-02, 2.8011e-02, 0.0000e+00,\n          0.0000e+00, 0.0000e+00, 0.0000e+00, 0.0000e+00, 1.1300e-01, 2.6237e-02,\n          0.0000e+00, 0.0000e+00, 4.8514e-02, 0.0000e+00, 3.5520e-02, 0.0000e+00,\n          0.0000e+00, 2.0363e-05, 0.0000e+00, 0.0000e+00, 0.0000e+00, 5.6969e-02,\n          4.4012e-02, 7.9878e-03, 4.9814e-02, 5.9705e-03, 4.5215e-03, 2.9387e-02,\n          0.0000e+00, 0.0000e+00, 6.2066e-02, 7.8886e-03, 0.0000e+00, 2.7487e-02,\n          5.6709e-02, 0.0000e+00, 2.5846e-02, 7.1772e-03, 0.0000e+00, 0.0000e+00,\n          0.0000e+00, 6.0390e-03, 5.4395e-02, 0.0000e+00, 0.0000e+00, 0.0000e+00,\n          4.8413e-02, 6.3270e-02, 2.3084e-02, 0.0000e+00, 4.0363e-02, 0.0000e+00,\n          0.0000e+00, 1.2692e-02, 4.4183e-02, 0.0000e+00, 9.4631e-02, 4.0339e-02,\n          0.0000e+00, 2.3392e-02, 4.9171e-02, 0.0000e+00, 7.1670e-02, 1.1596e-02,\n          3.3215e-02, 5.0849e-03, 3.4763e-02, 4.0391e-02, 0.0000e+00, 0.0000e+00,\n          0.0000e+00, 0.0000e+00, 1.9081e-02, 0.0000e+00, 1.2083e-03, 3.0822e-02,\n          0.0000e+00, 0.0000e+00, 2.0339e-02, 5.5378e-02, 3.0251e-02, 0.0000e+00,\n          2.8341e-02, 6.3963e-02, 0.0000e+00, 0.0000e+00, 0.0000e+00, 0.0000e+00,\n          1.9451e-02, 0.0000e+00, 0.0000e+00, 0.0000e+00, 7.2473e-03, 0.0000e+00,\n          3.5913e-02, 3.1411e-02, 2.5363e-02, 0.0000e+00, 0.0000e+00, 0.0000e+00,\n          3.5957e-02, 8.3096e-02, 0.0000e+00, 5.5659e-03, 0.0000e+00, 0.0000e+00,\n          8.6050e-04, 3.5368e-02, 0.0000e+00, 5.8854e-02, 5.5487e-03, 0.0000e+00,\n          0.0000e+00, 0.0000e+00, 2.1026e-02, 4.6512e-02, 2.1873e-02, 2.7547e-02,\n          0.0000e+00, 0.0000e+00, 9.0305e-02, 0.0000e+00, 2.2232e-02, 1.4640e-02,\n          0.0000e+00, 3.8492e-02, 0.0000e+00, 2.1518e-02, 0.0000e+00, 0.0000e+00,\n          1.5785e-02, 0.0000e+00, 0.0000e+00, 9.6511e-02, 6.3478e-02, 0.0000e+00,\n          0.0000e+00, 9.1257e-02, 0.0000e+00, 8.4817e-03, 0.0000e+00, 5.0784e-03,\n          0.0000e+00, 0.0000e+00, 0.0000e+00, 0.0000e+00, 0.0000e+00, 2.7212e-02,\n          0.0000e+00, 1.4536e-03, 6.6004e-04, 2.1869e-05, 4.4893e-02, 0.0000e+00,\n          0.0000e+00, 0.0000e+00, 9.6524e-02, 0.0000e+00, 5.6406e-02, 0.0000e+00,\n          5.1913e-02, 2.3045e-03, 0.0000e+00, 9.4612e-03, 5.7985e-02, 0.0000e+00,\n          0.0000e+00, 4.7554e-02, 3.3116e-02, 0.0000e+00, 2.6112e-02, 2.0492e-02,\n          2.5569e-03, 0.0000e+00, 8.1652e-03, 0.0000e+00, 0.0000e+00, 0.0000e+00,\n          1.2754e-03, 2.2884e-03, 0.0000e+00, 4.0612e-02, 0.0000e+00, 2.5590e-02,\n          0.0000e+00, 2.0905e-02, 0.0000e+00, 3.5253e-02, 3.4575e-02, 5.2746e-02,\n          0.0000e+00, 0.0000e+00, 0.0000e+00, 7.7345e-03, 0.0000e+00, 0.0000e+00,\n          0.0000e+00, 0.0000e+00, 4.0832e-02, 0.0000e+00, 1.6980e-02, 0.0000e+00,\n          4.7890e-02, 0.0000e+00, 0.0000e+00, 0.0000e+00, 0.0000e+00, 0.0000e+00,\n          1.8342e-02, 3.6933e-03, 2.7157e-02, 8.3332e-03, 4.0359e-02, 0.0000e+00,\n          0.0000e+00, 1.8761e-02, 0.0000e+00, 5.8676e-02, 4.5032e-02, 0.0000e+00,\n          0.0000e+00, 0.0000e+00, 6.4249e-02, 2.4784e-02, 2.5194e-02, 5.2567e-02,\n          1.9249e-02, 1.7384e-02, 4.8677e-02, 0.0000e+00, 0.0000e+00, 0.0000e+00,\n          0.0000e+00, 0.0000e+00, 0.0000e+00, 0.0000e+00, 0.0000e+00, 2.7558e-02,\n          0.0000e+00, 0.0000e+00, 0.0000e+00, 0.0000e+00, 8.0137e-02, 2.0860e-02,\n          4.2685e-02, 7.4398e-02, 0.0000e+00, 2.5272e-03, 6.6145e-03, 4.5195e-02,\n          3.3806e-02, 2.6289e-02, 1.8572e-02, 1.5814e-02, 0.0000e+00, 1.7199e-02,\n          5.9786e-02, 3.1500e-02, 2.7299e-02, 1.8448e-02, 2.5173e-02, 3.3667e-02,\n          8.1593e-02, 1.1913e-02, 0.0000e+00, 2.6012e-02, 0.0000e+00, 6.9578e-02,\n          8.4907e-04, 0.0000e+00, 0.0000e+00, 3.3660e-02, 2.1311e-03, 0.0000e+00,\n          0.0000e+00, 0.0000e+00, 0.0000e+00, 6.2917e-02, 4.4834e-02, 0.0000e+00,\n          4.9771e-02, 0.0000e+00, 0.0000e+00, 1.0390e-02, 4.8909e-02, 1.0752e-02,\n          0.0000e+00, 4.4042e-03, 0.0000e+00, 5.1781e-03, 5.1125e-02, 6.3353e-03,\n          2.8842e-02, 1.2175e-02, 4.1575e-02, 3.8499e-02, 1.0726e-01, 0.0000e+00,\n          0.0000e+00, 0.0000e+00, 0.0000e+00, 3.7537e-02, 0.0000e+00, 0.0000e+00,\n          0.0000e+00, 0.0000e+00, 1.4614e-02, 0.0000e+00, 0.0000e+00, 0.0000e+00,\n          2.1296e-02, 2.3445e-02, 0.0000e+00, 0.0000e+00, 0.0000e+00, 0.0000e+00,\n          0.0000e+00, 0.0000e+00, 6.3879e-04, 0.0000e+00, 0.0000e+00, 2.9996e-02,\n          0.0000e+00, 6.9996e-02, 0.0000e+00, 0.0000e+00, 4.9347e-02, 1.1928e-02,\n          1.3252e-02, 4.9880e-02, 0.0000e+00, 1.5595e-02, 2.4869e-03, 4.2501e-02,\n          9.4529e-03, 0.0000e+00, 3.4634e-02, 0.0000e+00, 1.1495e-01, 0.0000e+00,\n          1.3622e-02, 0.0000e+00, 0.0000e+00, 5.4064e-02, 0.0000e+00, 4.8602e-02,\n          3.1395e-02, 0.0000e+00, 3.6630e-02, 0.0000e+00, 0.0000e+00, 0.0000e+00,\n          0.0000e+00, 4.8366e-02, 0.0000e+00, 0.0000e+00, 0.0000e+00, 8.7909e-03,\n          8.4945e-03, 5.0246e-02, 5.8893e-02, 0.0000e+00, 0.0000e+00, 2.6861e-03,\n          1.5825e-02, 3.8598e-02, 2.2903e-02, 0.0000e+00, 4.6349e-02, 0.0000e+00,\n          0.0000e+00, 0.0000e+00, 0.0000e+00, 0.0000e+00, 0.0000e+00, 0.0000e+00,\n          0.0000e+00, 0.0000e+00, 0.0000e+00, 0.0000e+00, 4.2974e-02, 1.3912e-02,\n          0.0000e+00, 4.0391e-02, 0.0000e+00, 0.0000e+00, 0.0000e+00, 0.0000e+00,\n          5.9196e-02, 0.0000e+00, 0.0000e+00, 0.0000e+00, 0.0000e+00, 0.0000e+00,\n          8.1165e-03, 1.0795e-01, 7.2107e-03, 5.7248e-02, 6.9622e-03, 1.0651e-01,\n          5.6962e-02, 7.6693e-03, 0.0000e+00, 4.6824e-02, 0.0000e+00, 0.0000e+00,\n          9.5601e-03, 0.0000e+00, 0.0000e+00, 0.0000e+00, 8.3304e-03, 0.0000e+00,\n          0.0000e+00, 4.6405e-02, 0.0000e+00, 3.7436e-02, 3.3593e-02, 8.8533e-02,\n          0.0000e+00, 0.0000e+00, 0.0000e+00, 3.2945e-02, 1.5512e-02, 0.0000e+00,\n          2.2999e-02, 0.0000e+00, 2.6196e-02, 0.0000e+00, 0.0000e+00, 1.1991e-02,\n          4.8875e-02, 3.5781e-02, 0.0000e+00, 0.0000e+00, 8.4214e-02, 4.2323e-02,\n          7.8741e-02, 0.0000e+00, 1.2093e-01, 0.0000e+00, 4.4049e-02, 0.0000e+00,\n          4.9485e-02, 6.4263e-02, 0.0000e+00, 0.0000e+00, 4.7957e-02, 6.7956e-02,\n          0.0000e+00, 1.8747e-02, 2.4321e-02, 5.2171e-02, 6.1235e-02, 4.2314e-02,\n          0.0000e+00, 0.0000e+00, 0.0000e+00, 0.0000e+00, 0.0000e+00, 0.0000e+00,\n          0.0000e+00, 1.2408e-01, 0.0000e+00, 0.0000e+00, 3.4936e-02, 4.9279e-02,\n          0.0000e+00, 5.2606e-02, 0.0000e+00, 1.0788e-03, 0.0000e+00, 0.0000e+00,\n          2.0548e-02, 0.0000e+00, 3.7522e-02, 6.5423e-02, 0.0000e+00, 7.3265e-02,\n          7.3665e-03, 1.4237e-01, 1.8694e-02, 1.3337e-02, 0.0000e+00, 0.0000e+00,\n          0.0000e+00, 0.0000e+00, 0.0000e+00, 0.0000e+00, 0.0000e+00, 0.0000e+00,\n          2.1314e-02, 0.0000e+00, 0.0000e+00, 0.0000e+00, 0.0000e+00, 0.0000e+00,\n          0.0000e+00, 0.0000e+00, 3.1815e-02, 3.4570e-02, 1.4991e-02, 0.0000e+00,\n          7.1398e-02, 2.6836e-02, 4.8112e-02, 0.0000e+00, 2.1652e-02, 0.0000e+00,\n          0.0000e+00, 2.4962e-02, 4.5618e-02, 0.0000e+00, 0.0000e+00, 0.0000e+00,\n          1.1409e-02, 0.0000e+00, 0.0000e+00, 0.0000e+00, 4.6237e-02, 0.0000e+00,\n          1.3305e-02, 0.0000e+00, 0.0000e+00, 8.2401e-03, 8.2581e-02, 0.0000e+00,\n          1.3685e-03, 0.0000e+00, 0.0000e+00, 0.0000e+00, 0.0000e+00, 0.0000e+00,\n          0.0000e+00, 3.1850e-02, 0.0000e+00, 0.0000e+00, 0.0000e+00, 0.0000e+00,\n          0.0000e+00, 0.0000e+00, 0.0000e+00, 4.2254e-03, 0.0000e+00, 7.6467e-04,\n          5.3188e-02, 0.0000e+00, 2.8275e-02, 0.0000e+00, 1.0466e-02, 0.0000e+00,\n          0.0000e+00, 0.0000e+00, 0.0000e+00, 2.4019e-02, 0.0000e+00, 3.3850e-02,\n          0.0000e+00, 2.6303e-02, 0.0000e+00, 0.0000e+00, 0.0000e+00, 5.1122e-02,\n          2.8867e-02, 1.6309e-03, 2.8917e-02, 0.0000e+00, 5.3031e-02, 4.3292e-02,\n          5.4132e-03, 0.0000e+00, 0.0000e+00, 0.0000e+00, 2.0885e-02, 7.3909e-02,\n          0.0000e+00, 0.0000e+00, 0.0000e+00, 0.0000e+00, 3.7282e-02, 0.0000e+00,\n          0.0000e+00, 0.0000e+00, 4.3525e-03, 4.9594e-02, 0.0000e+00, 0.0000e+00,\n          0.0000e+00, 0.0000e+00, 0.0000e+00, 5.5749e-02, 3.8178e-02, 2.2438e-02,\n          3.2591e-02, 7.2768e-02, 7.4108e-02, 9.8975e-03, 0.0000e+00, 0.0000e+00,\n          6.6560e-02, 1.0145e-01, 0.0000e+00, 1.2777e-02, 6.6186e-02, 0.0000e+00,\n          2.1322e-02, 4.2631e-02, 3.2426e-02, 1.1234e-02, 0.0000e+00, 1.5181e-02,\n          9.3492e-02, 1.0262e-02, 0.0000e+00, 0.0000e+00, 2.8615e-03, 0.0000e+00,\n          0.0000e+00, 6.7907e-03, 2.9232e-02, 1.1962e-02, 4.4904e-02, 0.0000e+00]],\n        device='cuda:0', grad_fn=<ReluBackward0>)}"
          },
          "metadata": {}
        }
      ],
      "execution_count": null
    },
    {
      "cell_type": "markdown",
      "source": [
        "### Training"
      ],
      "metadata": {
        "id": "lwp9xaMtCDg5"
      }
    },
    {
      "cell_type": "code",
      "source": [
        "valid_dataset = MuSEDataset(df_valid, '/kaggle/input/more-nlp/MORE-PLUS-DATASET/images', image_descriptions_train, detected_objects_train, tokenizer, vision_model)\n",
        "valid_loader = DataLoader(valid_dataset, batch_size=16, shuffle=False)"
      ],
      "metadata": {
        "trusted": true,
        "execution": {
          "iopub.status.busy": "2025-04-09T12:59:54.660893Z",
          "iopub.execute_input": "2025-04-09T12:59:54.661195Z",
          "iopub.status.idle": "2025-04-09T12:59:54.665237Z",
          "shell.execute_reply.started": "2025-04-09T12:59:54.661172Z",
          "shell.execute_reply": "2025-04-09T12:59:54.664294Z"
        },
        "id": "uv8jiN00CDg5"
      },
      "outputs": [],
      "execution_count": null
    },
    {
      "cell_type": "code",
      "source": [
        "\n",
        "def train(model, dataloader, optimizer, criterion, epochs=3):\n",
        "    model.train()\n",
        "    for epoch in range(epochs):\n",
        "        total_loss = 0\n",
        "        for batch in dataloader:\n",
        "            optimizer.zero_grad()\n",
        "\n",
        "            # Move batch data to GPU\n",
        "            input_ids = batch['input_ids'].to(device)\n",
        "            attention_mask = batch['attention_mask'].to(device)\n",
        "            labels = batch['labels'].to(device)\n",
        "            image_features = batch['image_features'].to(device)\n",
        "\n",
        "            outputs = model(\n",
        "                input_ids=input_ids,\n",
        "                attention_mask=attention_mask,\n",
        "                labels=labels,\n",
        "                image_features=image_features\n",
        "            )\n",
        "            loss = outputs.loss\n",
        "            loss.backward()\n",
        "            optimizer.step()\n",
        "\n",
        "            total_loss += loss.item()\n",
        "        print(f\"Epoch {epoch+1}, Loss: {total_loss/len(dataloader)}\")\n",
        "\n",
        "        # Save Model Checkpoint\n",
        "        checkpoint_path = f\"bart_model_epoch_{epoch+1}.pt\"\n",
        "        torch.save(model.state_dict(), checkpoint_path)\n",
        "        print(f\"Model checkpoint saved at {checkpoint_path}\")\n",
        "\n",
        "# Start Training\n",
        "train(turbo_model, train_loader, optimizer, criterion, epochs=5)\n"
      ],
      "metadata": {
        "trusted": true,
        "execution": {
          "iopub.status.busy": "2025-04-09T07:03:10.399657Z",
          "iopub.execute_input": "2025-04-09T07:03:10.399959Z",
          "iopub.status.idle": "2025-04-09T07:16:47.7622Z",
          "shell.execute_reply.started": "2025-04-09T07:03:10.399936Z",
          "shell.execute_reply": "2025-04-09T07:16:47.761362Z"
        },
        "id": "O-aStlKNCDg5",
        "outputId": "629a4ea2-b409-423f-c8dc-236fc18eb3b7"
      },
      "outputs": [
        {
          "name": "stdout",
          "text": "Epoch 1, Loss: 1.7423279088608083\nModel checkpoint saved at bart_model_epoch_1.pt\nEpoch 2, Loss: 0.2291044712385392\nModel checkpoint saved at bart_model_epoch_2.pt\nEpoch 3, Loss: 0.19481460582763754\nModel checkpoint saved at bart_model_epoch_3.pt\nEpoch 4, Loss: 0.1802091072587406\nModel checkpoint saved at bart_model_epoch_4.pt\nEpoch 5, Loss: 0.15052080341679527\nModel checkpoint saved at bart_model_epoch_5.pt\n",
          "output_type": "stream"
        }
      ],
      "execution_count": null
    },
    {
      "cell_type": "code",
      "source": [
        "!pip install evaluate"
      ],
      "metadata": {
        "trusted": true,
        "execution": {
          "iopub.status.busy": "2025-04-09T13:04:12.551666Z",
          "iopub.execute_input": "2025-04-09T13:04:12.552016Z",
          "iopub.status.idle": "2025-04-09T13:04:17.159745Z",
          "shell.execute_reply.started": "2025-04-09T13:04:12.551981Z",
          "shell.execute_reply": "2025-04-09T13:04:17.158733Z"
        },
        "id": "48fNCbkPCDg5",
        "outputId": "1222360b-c695-47cc-c42c-fdbaa22547f9"
      },
      "outputs": [
        {
          "name": "stdout",
          "text": "Collecting evaluate\n  Downloading evaluate-0.4.3-py3-none-any.whl.metadata (9.2 kB)\nRequirement already satisfied: datasets>=2.0.0 in /usr/local/lib/python3.10/dist-packages (from evaluate) (3.3.1)\nRequirement already satisfied: numpy>=1.17 in /usr/local/lib/python3.10/dist-packages (from evaluate) (1.26.4)\nRequirement already satisfied: dill in /usr/local/lib/python3.10/dist-packages (from evaluate) (0.3.8)\nRequirement already satisfied: pandas in /usr/local/lib/python3.10/dist-packages (from evaluate) (2.2.3)\nRequirement already satisfied: requests>=2.19.0 in /usr/local/lib/python3.10/dist-packages (from evaluate) (2.32.3)\nRequirement already satisfied: tqdm>=4.62.1 in /usr/local/lib/python3.10/dist-packages (from evaluate) (4.67.1)\nRequirement already satisfied: xxhash in /usr/local/lib/python3.10/dist-packages (from evaluate) (3.5.0)\nRequirement already satisfied: multiprocess in /usr/local/lib/python3.10/dist-packages (from evaluate) (0.70.16)\nRequirement already satisfied: fsspec>=2021.05.0 in /usr/local/lib/python3.10/dist-packages (from fsspec[http]>=2021.05.0->evaluate) (2024.12.0)\nRequirement already satisfied: huggingface-hub>=0.7.0 in /usr/local/lib/python3.10/dist-packages (from evaluate) (0.29.0)\nRequirement already satisfied: packaging in /usr/local/lib/python3.10/dist-packages (from evaluate) (24.2)\nRequirement already satisfied: filelock in /usr/local/lib/python3.10/dist-packages (from datasets>=2.0.0->evaluate) (3.17.0)\nRequirement already satisfied: pyarrow>=15.0.0 in /usr/local/lib/python3.10/dist-packages (from datasets>=2.0.0->evaluate) (19.0.1)\nRequirement already satisfied: aiohttp in /usr/local/lib/python3.10/dist-packages (from datasets>=2.0.0->evaluate) (3.11.12)\nRequirement already satisfied: pyyaml>=5.1 in /usr/local/lib/python3.10/dist-packages (from datasets>=2.0.0->evaluate) (6.0.2)\nRequirement already satisfied: typing-extensions>=3.7.4.3 in /usr/local/lib/python3.10/dist-packages (from huggingface-hub>=0.7.0->evaluate) (4.12.2)\nRequirement already satisfied: mkl_fft in /usr/local/lib/python3.10/dist-packages (from numpy>=1.17->evaluate) (1.3.8)\nRequirement already satisfied: mkl_random in /usr/local/lib/python3.10/dist-packages (from numpy>=1.17->evaluate) (1.2.4)\nRequirement already satisfied: mkl_umath in /usr/local/lib/python3.10/dist-packages (from numpy>=1.17->evaluate) (0.1.1)\nRequirement already satisfied: mkl in /usr/local/lib/python3.10/dist-packages (from numpy>=1.17->evaluate) (2025.0.1)\nRequirement already satisfied: tbb4py in /usr/local/lib/python3.10/dist-packages (from numpy>=1.17->evaluate) (2022.0.0)\nRequirement already satisfied: mkl-service in /usr/local/lib/python3.10/dist-packages (from numpy>=1.17->evaluate) (2.4.1)\nRequirement already satisfied: charset-normalizer<4,>=2 in /usr/local/lib/python3.10/dist-packages (from requests>=2.19.0->evaluate) (3.4.1)\nRequirement already satisfied: idna<4,>=2.5 in /usr/local/lib/python3.10/dist-packages (from requests>=2.19.0->evaluate) (3.10)\nRequirement already satisfied: urllib3<3,>=1.21.1 in /usr/local/lib/python3.10/dist-packages (from requests>=2.19.0->evaluate) (2.3.0)\nRequirement already satisfied: certifi>=2017.4.17 in /usr/local/lib/python3.10/dist-packages (from requests>=2.19.0->evaluate) (2025.1.31)\nRequirement already satisfied: python-dateutil>=2.8.2 in /usr/local/lib/python3.10/dist-packages (from pandas->evaluate) (2.9.0.post0)\nRequirement already satisfied: pytz>=2020.1 in /usr/local/lib/python3.10/dist-packages (from pandas->evaluate) (2025.1)\nRequirement already satisfied: tzdata>=2022.7 in /usr/local/lib/python3.10/dist-packages (from pandas->evaluate) (2025.1)\nRequirement already satisfied: aiohappyeyeballs>=2.3.0 in /usr/local/lib/python3.10/dist-packages (from aiohttp->datasets>=2.0.0->evaluate) (2.4.6)\nRequirement already satisfied: aiosignal>=1.1.2 in /usr/local/lib/python3.10/dist-packages (from aiohttp->datasets>=2.0.0->evaluate) (1.3.2)\nRequirement already satisfied: async-timeout<6.0,>=4.0 in /usr/local/lib/python3.10/dist-packages (from aiohttp->datasets>=2.0.0->evaluate) (5.0.1)\nRequirement already satisfied: attrs>=17.3.0 in /usr/local/lib/python3.10/dist-packages (from aiohttp->datasets>=2.0.0->evaluate) (25.1.0)\nRequirement already satisfied: frozenlist>=1.1.1 in /usr/local/lib/python3.10/dist-packages (from aiohttp->datasets>=2.0.0->evaluate) (1.5.0)\nRequirement already satisfied: multidict<7.0,>=4.5 in /usr/local/lib/python3.10/dist-packages (from aiohttp->datasets>=2.0.0->evaluate) (6.1.0)\nRequirement already satisfied: propcache>=0.2.0 in /usr/local/lib/python3.10/dist-packages (from aiohttp->datasets>=2.0.0->evaluate) (0.2.1)\nRequirement already satisfied: yarl<2.0,>=1.17.0 in /usr/local/lib/python3.10/dist-packages (from aiohttp->datasets>=2.0.0->evaluate) (1.18.3)\nRequirement already satisfied: six>=1.5 in /usr/local/lib/python3.10/dist-packages (from python-dateutil>=2.8.2->pandas->evaluate) (1.17.0)\nRequirement already satisfied: intel-openmp>=2024 in /usr/local/lib/python3.10/dist-packages (from mkl->numpy>=1.17->evaluate) (2024.2.0)\nRequirement already satisfied: tbb==2022.* in /usr/local/lib/python3.10/dist-packages (from mkl->numpy>=1.17->evaluate) (2022.0.0)\nRequirement already satisfied: tcmlib==1.* in /usr/local/lib/python3.10/dist-packages (from tbb==2022.*->mkl->numpy>=1.17->evaluate) (1.2.0)\nRequirement already satisfied: intel-cmplr-lib-rt in /usr/local/lib/python3.10/dist-packages (from mkl_umath->numpy>=1.17->evaluate) (2024.2.0)\nRequirement already satisfied: intel-cmplr-lib-ur==2024.2.0 in /usr/local/lib/python3.10/dist-packages (from intel-openmp>=2024->mkl->numpy>=1.17->evaluate) (2024.2.0)\nDownloading evaluate-0.4.3-py3-none-any.whl (84 kB)\n\u001b[2K   \u001b[90m━━━━━━━━━━━━━━━━━━━━━━━━━━━━━━━━━━━━━━━━\u001b[0m \u001b[32m84.0/84.0 kB\u001b[0m \u001b[31m2.7 MB/s\u001b[0m eta \u001b[36m0:00:00\u001b[0m\n\u001b[?25hInstalling collected packages: evaluate\nSuccessfully installed evaluate-0.4.3\n",
          "output_type": "stream"
        }
      ],
      "execution_count": null
    },
    {
      "cell_type": "code",
      "source": [
        "!pip install bert_score"
      ],
      "metadata": {
        "trusted": true,
        "execution": {
          "iopub.status.busy": "2025-04-09T13:04:20.726295Z",
          "iopub.execute_input": "2025-04-09T13:04:20.726699Z",
          "iopub.status.idle": "2025-04-09T13:04:24.505627Z",
          "shell.execute_reply.started": "2025-04-09T13:04:20.726665Z",
          "shell.execute_reply": "2025-04-09T13:04:24.504494Z"
        },
        "id": "S2Biq3dVCDg6",
        "outputId": "96bd9d62-0876-4682-8b9b-8148bb5da4c9"
      },
      "outputs": [
        {
          "name": "stdout",
          "text": "Collecting bert_score\n  Downloading bert_score-0.3.13-py3-none-any.whl.metadata (15 kB)\nRequirement already satisfied: torch>=1.0.0 in /usr/local/lib/python3.10/dist-packages (from bert_score) (2.5.1+cu121)\nRequirement already satisfied: pandas>=1.0.1 in /usr/local/lib/python3.10/dist-packages (from bert_score) (2.2.3)\nRequirement already satisfied: transformers>=3.0.0 in /usr/local/lib/python3.10/dist-packages (from bert_score) (4.47.0)\nRequirement already satisfied: numpy in /usr/local/lib/python3.10/dist-packages (from bert_score) (1.26.4)\nRequirement already satisfied: requests in /usr/local/lib/python3.10/dist-packages (from bert_score) (2.32.3)\nRequirement already satisfied: tqdm>=4.31.1 in /usr/local/lib/python3.10/dist-packages (from bert_score) (4.67.1)\nRequirement already satisfied: matplotlib in /usr/local/lib/python3.10/dist-packages (from bert_score) (3.7.5)\nRequirement already satisfied: packaging>=20.9 in /usr/local/lib/python3.10/dist-packages (from bert_score) (24.2)\nRequirement already satisfied: python-dateutil>=2.8.2 in /usr/local/lib/python3.10/dist-packages (from pandas>=1.0.1->bert_score) (2.9.0.post0)\nRequirement already satisfied: pytz>=2020.1 in /usr/local/lib/python3.10/dist-packages (from pandas>=1.0.1->bert_score) (2025.1)\nRequirement already satisfied: tzdata>=2022.7 in /usr/local/lib/python3.10/dist-packages (from pandas>=1.0.1->bert_score) (2025.1)\nRequirement already satisfied: mkl_fft in /usr/local/lib/python3.10/dist-packages (from numpy->bert_score) (1.3.8)\nRequirement already satisfied: mkl_random in /usr/local/lib/python3.10/dist-packages (from numpy->bert_score) (1.2.4)\nRequirement already satisfied: mkl_umath in /usr/local/lib/python3.10/dist-packages (from numpy->bert_score) (0.1.1)\nRequirement already satisfied: mkl in /usr/local/lib/python3.10/dist-packages (from numpy->bert_score) (2025.0.1)\nRequirement already satisfied: tbb4py in /usr/local/lib/python3.10/dist-packages (from numpy->bert_score) (2022.0.0)\nRequirement already satisfied: mkl-service in /usr/local/lib/python3.10/dist-packages (from numpy->bert_score) (2.4.1)\nRequirement already satisfied: filelock in /usr/local/lib/python3.10/dist-packages (from torch>=1.0.0->bert_score) (3.17.0)\nRequirement already satisfied: typing-extensions>=4.8.0 in /usr/local/lib/python3.10/dist-packages (from torch>=1.0.0->bert_score) (4.12.2)\nRequirement already satisfied: networkx in /usr/local/lib/python3.10/dist-packages (from torch>=1.0.0->bert_score) (3.4.2)\nRequirement already satisfied: jinja2 in /usr/local/lib/python3.10/dist-packages (from torch>=1.0.0->bert_score) (3.1.4)\nRequirement already satisfied: fsspec in /usr/local/lib/python3.10/dist-packages (from torch>=1.0.0->bert_score) (2024.12.0)\nRequirement already satisfied: sympy==1.13.1 in /usr/local/lib/python3.10/dist-packages (from torch>=1.0.0->bert_score) (1.13.1)\nRequirement already satisfied: mpmath<1.4,>=1.1.0 in /usr/local/lib/python3.10/dist-packages (from sympy==1.13.1->torch>=1.0.0->bert_score) (1.3.0)\nRequirement already satisfied: huggingface-hub<1.0,>=0.24.0 in /usr/local/lib/python3.10/dist-packages (from transformers>=3.0.0->bert_score) (0.29.0)\nRequirement already satisfied: pyyaml>=5.1 in /usr/local/lib/python3.10/dist-packages (from transformers>=3.0.0->bert_score) (6.0.2)\nRequirement already satisfied: regex!=2019.12.17 in /usr/local/lib/python3.10/dist-packages (from transformers>=3.0.0->bert_score) (2024.11.6)\nRequirement already satisfied: tokenizers<0.22,>=0.21 in /usr/local/lib/python3.10/dist-packages (from transformers>=3.0.0->bert_score) (0.21.0)\nRequirement already satisfied: safetensors>=0.4.1 in /usr/local/lib/python3.10/dist-packages (from transformers>=3.0.0->bert_score) (0.4.5)\nRequirement already satisfied: contourpy>=1.0.1 in /usr/local/lib/python3.10/dist-packages (from matplotlib->bert_score) (1.3.1)\nRequirement already satisfied: cycler>=0.10 in /usr/local/lib/python3.10/dist-packages (from matplotlib->bert_score) (0.12.1)\nRequirement already satisfied: fonttools>=4.22.0 in /usr/local/lib/python3.10/dist-packages (from matplotlib->bert_score) (4.55.3)\nRequirement already satisfied: kiwisolver>=1.0.1 in /usr/local/lib/python3.10/dist-packages (from matplotlib->bert_score) (1.4.7)\nRequirement already satisfied: pillow>=6.2.0 in /usr/local/lib/python3.10/dist-packages (from matplotlib->bert_score) (11.0.0)\nRequirement already satisfied: pyparsing>=2.3.1 in /usr/local/lib/python3.10/dist-packages (from matplotlib->bert_score) (3.2.0)\nRequirement already satisfied: charset-normalizer<4,>=2 in /usr/local/lib/python3.10/dist-packages (from requests->bert_score) (3.4.1)\nRequirement already satisfied: idna<4,>=2.5 in /usr/local/lib/python3.10/dist-packages (from requests->bert_score) (3.10)\nRequirement already satisfied: urllib3<3,>=1.21.1 in /usr/local/lib/python3.10/dist-packages (from requests->bert_score) (2.3.0)\nRequirement already satisfied: certifi>=2017.4.17 in /usr/local/lib/python3.10/dist-packages (from requests->bert_score) (2025.1.31)\nRequirement already satisfied: six>=1.5 in /usr/local/lib/python3.10/dist-packages (from python-dateutil>=2.8.2->pandas>=1.0.1->bert_score) (1.17.0)\nRequirement already satisfied: MarkupSafe>=2.0 in /usr/local/lib/python3.10/dist-packages (from jinja2->torch>=1.0.0->bert_score) (3.0.2)\nRequirement already satisfied: intel-openmp>=2024 in /usr/local/lib/python3.10/dist-packages (from mkl->numpy->bert_score) (2024.2.0)\nRequirement already satisfied: tbb==2022.* in /usr/local/lib/python3.10/dist-packages (from mkl->numpy->bert_score) (2022.0.0)\nRequirement already satisfied: tcmlib==1.* in /usr/local/lib/python3.10/dist-packages (from tbb==2022.*->mkl->numpy->bert_score) (1.2.0)\nRequirement already satisfied: intel-cmplr-lib-rt in /usr/local/lib/python3.10/dist-packages (from mkl_umath->numpy->bert_score) (2024.2.0)\nRequirement already satisfied: intel-cmplr-lib-ur==2024.2.0 in /usr/local/lib/python3.10/dist-packages (from intel-openmp>=2024->mkl->numpy->bert_score) (2024.2.0)\nDownloading bert_score-0.3.13-py3-none-any.whl (61 kB)\n\u001b[2K   \u001b[90m━━━━━━━━━━━━━━━━━━━━━━━━━━━━━━━━━━━━━━━━\u001b[0m \u001b[32m61.1/61.1 kB\u001b[0m \u001b[31m1.8 MB/s\u001b[0m eta \u001b[36m0:00:00\u001b[0m\n\u001b[?25hInstalling collected packages: bert_score\nSuccessfully installed bert_score-0.3.13\n",
          "output_type": "stream"
        }
      ],
      "execution_count": null
    },
    {
      "cell_type": "code",
      "source": [
        "!pip install rouge_score"
      ],
      "metadata": {
        "trusted": true,
        "execution": {
          "iopub.status.busy": "2025-04-09T13:04:26.342714Z",
          "iopub.execute_input": "2025-04-09T13:04:26.343059Z",
          "iopub.status.idle": "2025-04-09T13:04:31.702409Z",
          "shell.execute_reply.started": "2025-04-09T13:04:26.343028Z",
          "shell.execute_reply": "2025-04-09T13:04:31.70157Z"
        },
        "id": "LdprnpOkCDg6",
        "outputId": "4a55d0f2-9139-4bdb-e9a6-65fe9c454f5a"
      },
      "outputs": [
        {
          "name": "stdout",
          "text": "Collecting rouge_score\n  Downloading rouge_score-0.1.2.tar.gz (17 kB)\n  Preparing metadata (setup.py) ... \u001b[?25l\u001b[?25hdone\nRequirement already satisfied: absl-py in /usr/local/lib/python3.10/dist-packages (from rouge_score) (1.4.0)\nRequirement already satisfied: nltk in /usr/local/lib/python3.10/dist-packages (from rouge_score) (3.2.4)\nRequirement already satisfied: numpy in /usr/local/lib/python3.10/dist-packages (from rouge_score) (1.26.4)\nRequirement already satisfied: six>=1.14.0 in /usr/local/lib/python3.10/dist-packages (from rouge_score) (1.17.0)\nRequirement already satisfied: mkl_fft in /usr/local/lib/python3.10/dist-packages (from numpy->rouge_score) (1.3.8)\nRequirement already satisfied: mkl_random in /usr/local/lib/python3.10/dist-packages (from numpy->rouge_score) (1.2.4)\nRequirement already satisfied: mkl_umath in /usr/local/lib/python3.10/dist-packages (from numpy->rouge_score) (0.1.1)\nRequirement already satisfied: mkl in /usr/local/lib/python3.10/dist-packages (from numpy->rouge_score) (2025.0.1)\nRequirement already satisfied: tbb4py in /usr/local/lib/python3.10/dist-packages (from numpy->rouge_score) (2022.0.0)\nRequirement already satisfied: mkl-service in /usr/local/lib/python3.10/dist-packages (from numpy->rouge_score) (2.4.1)\nRequirement already satisfied: intel-openmp>=2024 in /usr/local/lib/python3.10/dist-packages (from mkl->numpy->rouge_score) (2024.2.0)\nRequirement already satisfied: tbb==2022.* in /usr/local/lib/python3.10/dist-packages (from mkl->numpy->rouge_score) (2022.0.0)\nRequirement already satisfied: tcmlib==1.* in /usr/local/lib/python3.10/dist-packages (from tbb==2022.*->mkl->numpy->rouge_score) (1.2.0)\nRequirement already satisfied: intel-cmplr-lib-rt in /usr/local/lib/python3.10/dist-packages (from mkl_umath->numpy->rouge_score) (2024.2.0)\nRequirement already satisfied: intel-cmplr-lib-ur==2024.2.0 in /usr/local/lib/python3.10/dist-packages (from intel-openmp>=2024->mkl->numpy->rouge_score) (2024.2.0)\nBuilding wheels for collected packages: rouge_score\n  Building wheel for rouge_score (setup.py) ... \u001b[?25l\u001b[?25hdone\n  Created wheel for rouge_score: filename=rouge_score-0.1.2-py3-none-any.whl size=24935 sha256=1b9359dda33b6da398c278a935b5e85ef5397c73c7b020ea81109cb5519c6702\n  Stored in directory: /root/.cache/pip/wheels/5f/dd/89/461065a73be61a532ff8599a28e9beef17985c9e9c31e541b4\nSuccessfully built rouge_score\nInstalling collected packages: rouge_score\nSuccessfully installed rouge_score-0.1.2\n",
          "output_type": "stream"
        }
      ],
      "execution_count": null
    },
    {
      "cell_type": "code",
      "source": [],
      "metadata": {
        "trusted": true,
        "execution": {
          "iopub.status.busy": "2025-04-09T07:28:55.126269Z",
          "iopub.execute_input": "2025-04-09T07:28:55.126658Z",
          "iopub.status.idle": "2025-04-09T07:28:55.13155Z",
          "shell.execute_reply.started": "2025-04-09T07:28:55.126625Z",
          "shell.execute_reply": "2025-04-09T07:28:55.130698Z"
        },
        "id": "DuoRO4EBCDg6"
      },
      "outputs": [],
      "execution_count": null
    },
    {
      "cell_type": "code",
      "source": [
        "!pip uninstall preprocessing -y\n",
        "!pip install --upgrade nltk\n"
      ],
      "metadata": {
        "trusted": true,
        "execution": {
          "iopub.status.busy": "2025-04-09T13:04:35.521526Z",
          "iopub.execute_input": "2025-04-09T13:04:35.52186Z",
          "iopub.status.idle": "2025-04-09T13:04:41.233822Z",
          "shell.execute_reply.started": "2025-04-09T13:04:35.52183Z",
          "shell.execute_reply": "2025-04-09T13:04:41.232678Z"
        },
        "id": "RXOlilpDCDg6",
        "outputId": "0e64dbe3-5ab2-4333-c612-94b36404a9e5"
      },
      "outputs": [
        {
          "name": "stdout",
          "text": "Found existing installation: preprocessing 0.1.13\nUninstalling preprocessing-0.1.13:\n  Successfully uninstalled preprocessing-0.1.13\nRequirement already satisfied: nltk in /usr/local/lib/python3.10/dist-packages (3.2.4)\nCollecting nltk\n  Downloading nltk-3.9.1-py3-none-any.whl.metadata (2.9 kB)\nRequirement already satisfied: click in /usr/local/lib/python3.10/dist-packages (from nltk) (8.1.7)\nRequirement already satisfied: joblib in /usr/local/lib/python3.10/dist-packages (from nltk) (1.4.2)\nRequirement already satisfied: regex>=2021.8.3 in /usr/local/lib/python3.10/dist-packages (from nltk) (2024.11.6)\nRequirement already satisfied: tqdm in /usr/local/lib/python3.10/dist-packages (from nltk) (4.67.1)\nDownloading nltk-3.9.1-py3-none-any.whl (1.5 MB)\n\u001b[2K   \u001b[90m━━━━━━━━━━━━━━━━━━━━━━━━━━━━━━━━━━━━━━━━\u001b[0m \u001b[32m1.5/1.5 MB\u001b[0m \u001b[31m18.9 MB/s\u001b[0m eta \u001b[36m0:00:00\u001b[0m00:01\u001b[0m0:01\u001b[0m\n\u001b[?25hInstalling collected packages: nltk\n  Attempting uninstall: nltk\n    Found existing installation: nltk 3.2.4\n    Uninstalling nltk-3.2.4:\n      Successfully uninstalled nltk-3.2.4\nSuccessfully installed nltk-3.9.1\n",
          "output_type": "stream"
        }
      ],
      "execution_count": null
    },
    {
      "cell_type": "code",
      "source": [
        "import nltk\n",
        "nltk.download('wordnet')\n",
        "nltk.download('omw-1.4')\n"
      ],
      "metadata": {
        "trusted": true,
        "execution": {
          "iopub.status.busy": "2025-04-09T13:04:46.611245Z",
          "iopub.execute_input": "2025-04-09T13:04:46.611614Z",
          "iopub.status.idle": "2025-04-09T13:04:46.920662Z",
          "shell.execute_reply.started": "2025-04-09T13:04:46.611582Z",
          "shell.execute_reply": "2025-04-09T13:04:46.919938Z"
        },
        "id": "LqX3MlfXCDg6",
        "outputId": "1b953242-bad8-4bf7-c4dc-06d51cc3bf27"
      },
      "outputs": [
        {
          "name": "stdout",
          "text": "[nltk_data] Downloading package wordnet to /usr/share/nltk_data...\n[nltk_data]   Package wordnet is already up-to-date!\n[nltk_data] Downloading package omw-1.4 to /usr/share/nltk_data...\n",
          "output_type": "stream"
        },
        {
          "execution_count": 20,
          "output_type": "execute_result",
          "data": {
            "text/plain": "True"
          },
          "metadata": {}
        }
      ],
      "execution_count": null
    },
    {
      "cell_type": "code",
      "source": [
        "!pip install bert_score"
      ],
      "metadata": {
        "trusted": true,
        "execution": {
          "iopub.status.busy": "2025-04-09T13:04:50.035619Z",
          "iopub.execute_input": "2025-04-09T13:04:50.035903Z",
          "iopub.status.idle": "2025-04-09T13:04:53.496052Z",
          "shell.execute_reply.started": "2025-04-09T13:04:50.035882Z",
          "shell.execute_reply": "2025-04-09T13:04:53.495158Z"
        },
        "id": "L_5HATraCDg6",
        "outputId": "5f1f0434-6c0a-463b-8616-df465a4f3f77"
      },
      "outputs": [
        {
          "name": "stdout",
          "text": "Requirement already satisfied: bert_score in /usr/local/lib/python3.10/dist-packages (0.3.13)\nRequirement already satisfied: torch>=1.0.0 in /usr/local/lib/python3.10/dist-packages (from bert_score) (2.5.1+cu121)\nRequirement already satisfied: pandas>=1.0.1 in /usr/local/lib/python3.10/dist-packages (from bert_score) (2.2.3)\nRequirement already satisfied: transformers>=3.0.0 in /usr/local/lib/python3.10/dist-packages (from bert_score) (4.47.0)\nRequirement already satisfied: numpy in /usr/local/lib/python3.10/dist-packages (from bert_score) (1.26.4)\nRequirement already satisfied: requests in /usr/local/lib/python3.10/dist-packages (from bert_score) (2.32.3)\nRequirement already satisfied: tqdm>=4.31.1 in /usr/local/lib/python3.10/dist-packages (from bert_score) (4.67.1)\nRequirement already satisfied: matplotlib in /usr/local/lib/python3.10/dist-packages (from bert_score) (3.7.5)\nRequirement already satisfied: packaging>=20.9 in /usr/local/lib/python3.10/dist-packages (from bert_score) (24.2)\nRequirement already satisfied: python-dateutil>=2.8.2 in /usr/local/lib/python3.10/dist-packages (from pandas>=1.0.1->bert_score) (2.9.0.post0)\nRequirement already satisfied: pytz>=2020.1 in /usr/local/lib/python3.10/dist-packages (from pandas>=1.0.1->bert_score) (2025.1)\nRequirement already satisfied: tzdata>=2022.7 in /usr/local/lib/python3.10/dist-packages (from pandas>=1.0.1->bert_score) (2025.1)\nRequirement already satisfied: mkl_fft in /usr/local/lib/python3.10/dist-packages (from numpy->bert_score) (1.3.8)\nRequirement already satisfied: mkl_random in /usr/local/lib/python3.10/dist-packages (from numpy->bert_score) (1.2.4)\nRequirement already satisfied: mkl_umath in /usr/local/lib/python3.10/dist-packages (from numpy->bert_score) (0.1.1)\nRequirement already satisfied: mkl in /usr/local/lib/python3.10/dist-packages (from numpy->bert_score) (2025.0.1)\nRequirement already satisfied: tbb4py in /usr/local/lib/python3.10/dist-packages (from numpy->bert_score) (2022.0.0)\nRequirement already satisfied: mkl-service in /usr/local/lib/python3.10/dist-packages (from numpy->bert_score) (2.4.1)\nRequirement already satisfied: filelock in /usr/local/lib/python3.10/dist-packages (from torch>=1.0.0->bert_score) (3.17.0)\nRequirement already satisfied: typing-extensions>=4.8.0 in /usr/local/lib/python3.10/dist-packages (from torch>=1.0.0->bert_score) (4.12.2)\nRequirement already satisfied: networkx in /usr/local/lib/python3.10/dist-packages (from torch>=1.0.0->bert_score) (3.4.2)\nRequirement already satisfied: jinja2 in /usr/local/lib/python3.10/dist-packages (from torch>=1.0.0->bert_score) (3.1.4)\nRequirement already satisfied: fsspec in /usr/local/lib/python3.10/dist-packages (from torch>=1.0.0->bert_score) (2024.12.0)\nRequirement already satisfied: sympy==1.13.1 in /usr/local/lib/python3.10/dist-packages (from torch>=1.0.0->bert_score) (1.13.1)\nRequirement already satisfied: mpmath<1.4,>=1.1.0 in /usr/local/lib/python3.10/dist-packages (from sympy==1.13.1->torch>=1.0.0->bert_score) (1.3.0)\nRequirement already satisfied: huggingface-hub<1.0,>=0.24.0 in /usr/local/lib/python3.10/dist-packages (from transformers>=3.0.0->bert_score) (0.29.0)\nRequirement already satisfied: pyyaml>=5.1 in /usr/local/lib/python3.10/dist-packages (from transformers>=3.0.0->bert_score) (6.0.2)\nRequirement already satisfied: regex!=2019.12.17 in /usr/local/lib/python3.10/dist-packages (from transformers>=3.0.0->bert_score) (2024.11.6)\nRequirement already satisfied: tokenizers<0.22,>=0.21 in /usr/local/lib/python3.10/dist-packages (from transformers>=3.0.0->bert_score) (0.21.0)\nRequirement already satisfied: safetensors>=0.4.1 in /usr/local/lib/python3.10/dist-packages (from transformers>=3.0.0->bert_score) (0.4.5)\nRequirement already satisfied: contourpy>=1.0.1 in /usr/local/lib/python3.10/dist-packages (from matplotlib->bert_score) (1.3.1)\nRequirement already satisfied: cycler>=0.10 in /usr/local/lib/python3.10/dist-packages (from matplotlib->bert_score) (0.12.1)\nRequirement already satisfied: fonttools>=4.22.0 in /usr/local/lib/python3.10/dist-packages (from matplotlib->bert_score) (4.55.3)\nRequirement already satisfied: kiwisolver>=1.0.1 in /usr/local/lib/python3.10/dist-packages (from matplotlib->bert_score) (1.4.7)\nRequirement already satisfied: pillow>=6.2.0 in /usr/local/lib/python3.10/dist-packages (from matplotlib->bert_score) (11.0.0)\nRequirement already satisfied: pyparsing>=2.3.1 in /usr/local/lib/python3.10/dist-packages (from matplotlib->bert_score) (3.2.0)\nRequirement already satisfied: charset-normalizer<4,>=2 in /usr/local/lib/python3.10/dist-packages (from requests->bert_score) (3.4.1)\nRequirement already satisfied: idna<4,>=2.5 in /usr/local/lib/python3.10/dist-packages (from requests->bert_score) (3.10)\nRequirement already satisfied: urllib3<3,>=1.21.1 in /usr/local/lib/python3.10/dist-packages (from requests->bert_score) (2.3.0)\nRequirement already satisfied: certifi>=2017.4.17 in /usr/local/lib/python3.10/dist-packages (from requests->bert_score) (2025.1.31)\nRequirement already satisfied: six>=1.5 in /usr/local/lib/python3.10/dist-packages (from python-dateutil>=2.8.2->pandas>=1.0.1->bert_score) (1.17.0)\nRequirement already satisfied: MarkupSafe>=2.0 in /usr/local/lib/python3.10/dist-packages (from jinja2->torch>=1.0.0->bert_score) (3.0.2)\nRequirement already satisfied: intel-openmp>=2024 in /usr/local/lib/python3.10/dist-packages (from mkl->numpy->bert_score) (2024.2.0)\nRequirement already satisfied: tbb==2022.* in /usr/local/lib/python3.10/dist-packages (from mkl->numpy->bert_score) (2022.0.0)\nRequirement already satisfied: tcmlib==1.* in /usr/local/lib/python3.10/dist-packages (from tbb==2022.*->mkl->numpy->bert_score) (1.2.0)\nRequirement already satisfied: intel-cmplr-lib-rt in /usr/local/lib/python3.10/dist-packages (from mkl_umath->numpy->bert_score) (2024.2.0)\nRequirement already satisfied: intel-cmplr-lib-ur==2024.2.0 in /usr/local/lib/python3.10/dist-packages (from intel-openmp>=2024->mkl->numpy->bert_score) (2024.2.0)\n",
          "output_type": "stream"
        }
      ],
      "execution_count": null
    },
    {
      "cell_type": "code",
      "source": [
        "# !rm -rf /kaggle/working/nltk_data\n"
      ],
      "metadata": {
        "trusted": true,
        "execution": {
          "iopub.status.busy": "2025-04-08T15:30:54.829747Z",
          "iopub.execute_input": "2025-04-08T15:30:54.83008Z",
          "iopub.status.idle": "2025-04-08T15:30:55.006186Z",
          "shell.execute_reply.started": "2025-04-08T15:30:54.830054Z",
          "shell.execute_reply": "2025-04-08T15:30:55.004866Z"
        },
        "id": "UT7e_qwVCDg6"
      },
      "outputs": [],
      "execution_count": null
    },
    {
      "cell_type": "code",
      "source": [
        "nltk.download('wordnet', download_dir='/kaggle/working/nltk_data')\n",
        "nltk.download('omw-1.4', download_dir='/kaggle/working/nltk_data')\n",
        "\n",
        "# Then tell nltk to look there\n",
        "import nltk.data\n",
        "nltk.data.path.append('/kaggle/working/nltk_data')\n"
      ],
      "metadata": {
        "trusted": true,
        "execution": {
          "iopub.status.busy": "2025-04-09T13:05:00.091618Z",
          "iopub.execute_input": "2025-04-09T13:05:00.091933Z",
          "iopub.status.idle": "2025-04-09T13:05:00.426298Z",
          "shell.execute_reply.started": "2025-04-09T13:05:00.091906Z",
          "shell.execute_reply": "2025-04-09T13:05:00.425399Z"
        },
        "id": "jvqi3vZpCDg6",
        "outputId": "b4a8ab15-12df-41e1-d5b0-37962238cdbc"
      },
      "outputs": [
        {
          "name": "stdout",
          "text": "[nltk_data] Downloading package wordnet to\n[nltk_data]     /kaggle/working/nltk_data...\n[nltk_data] Downloading package omw-1.4 to\n[nltk_data]     /kaggle/working/nltk_data...\n",
          "output_type": "stream"
        }
      ],
      "execution_count": null
    },
    {
      "cell_type": "code",
      "source": [
        "# Unzip to the correct nltk_data structure\n",
        "!unzip /kaggle/working/nltk_data/corpora/wordnet.zip -d /kaggle/working/nltk_data/corpora\n"
      ],
      "metadata": {
        "trusted": true,
        "execution": {
          "iopub.status.busy": "2025-04-09T13:05:04.339725Z",
          "iopub.execute_input": "2025-04-09T13:05:04.340067Z",
          "iopub.status.idle": "2025-04-09T13:05:04.787184Z",
          "shell.execute_reply.started": "2025-04-09T13:05:04.340041Z",
          "shell.execute_reply": "2025-04-09T13:05:04.786247Z"
        },
        "id": "bIrlIMRUCDg7",
        "outputId": "52dbd1d6-786c-467d-97fd-ba7499af3f23"
      },
      "outputs": [
        {
          "name": "stdout",
          "text": "Archive:  /kaggle/working/nltk_data/corpora/wordnet.zip\n   creating: /kaggle/working/nltk_data/corpora/wordnet/\n  inflating: /kaggle/working/nltk_data/corpora/wordnet/lexnames  \n  inflating: /kaggle/working/nltk_data/corpora/wordnet/data.verb  \n  inflating: /kaggle/working/nltk_data/corpora/wordnet/index.adv  \n  inflating: /kaggle/working/nltk_data/corpora/wordnet/adv.exc  \n  inflating: /kaggle/working/nltk_data/corpora/wordnet/index.verb  \n  inflating: /kaggle/working/nltk_data/corpora/wordnet/cntlist.rev  \n  inflating: /kaggle/working/nltk_data/corpora/wordnet/data.adj  \n  inflating: /kaggle/working/nltk_data/corpora/wordnet/index.adj  \n  inflating: /kaggle/working/nltk_data/corpora/wordnet/LICENSE  \n  inflating: /kaggle/working/nltk_data/corpora/wordnet/citation.bib  \n  inflating: /kaggle/working/nltk_data/corpora/wordnet/noun.exc  \n  inflating: /kaggle/working/nltk_data/corpora/wordnet/verb.exc  \n  inflating: /kaggle/working/nltk_data/corpora/wordnet/README  \n  inflating: /kaggle/working/nltk_data/corpora/wordnet/index.sense  \n  inflating: /kaggle/working/nltk_data/corpora/wordnet/data.noun  \n  inflating: /kaggle/working/nltk_data/corpora/wordnet/data.adv  \n  inflating: /kaggle/working/nltk_data/corpora/wordnet/index.noun  \n  inflating: /kaggle/working/nltk_data/corpora/wordnet/adj.exc  \n",
          "output_type": "stream"
        }
      ],
      "execution_count": null
    },
    {
      "cell_type": "code",
      "source": [
        "from nltk.corpus import wordnet\n",
        "\n",
        "print(wordnet.synsets(\"sarcasm\"))\n"
      ],
      "metadata": {
        "trusted": true,
        "execution": {
          "iopub.status.busy": "2025-04-09T13:05:07.872244Z",
          "iopub.execute_input": "2025-04-09T13:05:07.872596Z",
          "iopub.status.idle": "2025-04-09T13:05:09.600684Z",
          "shell.execute_reply.started": "2025-04-09T13:05:07.872565Z",
          "shell.execute_reply": "2025-04-09T13:05:09.599842Z"
        },
        "id": "DjHH50XcCDg7",
        "outputId": "dfd66fb9-bdef-4061-ae5b-16869b1ebd94"
      },
      "outputs": [
        {
          "name": "stdout",
          "text": "[Synset('sarcasm.n.01')]\n",
          "output_type": "stream"
        }
      ],
      "execution_count": null
    },
    {
      "cell_type": "code",
      "source": [
        "import nltk\n",
        "nltk.download('punkt')"
      ],
      "metadata": {
        "trusted": true,
        "execution": {
          "iopub.status.busy": "2025-04-09T13:05:12.815237Z",
          "iopub.execute_input": "2025-04-09T13:05:12.815589Z",
          "iopub.status.idle": "2025-04-09T13:05:12.888127Z",
          "shell.execute_reply.started": "2025-04-09T13:05:12.815562Z",
          "shell.execute_reply": "2025-04-09T13:05:12.887415Z"
        },
        "id": "BaRJIalcCDg7",
        "outputId": "03419652-79e1-4f4b-a111-d899d397ffc1"
      },
      "outputs": [
        {
          "name": "stdout",
          "text": "[nltk_data] Downloading package punkt to /usr/share/nltk_data...\n[nltk_data]   Package punkt is already up-to-date!\n",
          "output_type": "stream"
        },
        {
          "execution_count": 25,
          "output_type": "execute_result",
          "data": {
            "text/plain": "True"
          },
          "metadata": {}
        }
      ],
      "execution_count": null
    },
    {
      "cell_type": "code",
      "source": [
        "nltk.download('punkt_tab', download_dir=\"/kaggle/working/nltk_data\")"
      ],
      "metadata": {
        "trusted": true,
        "execution": {
          "iopub.status.busy": "2025-04-09T13:05:15.771913Z",
          "iopub.execute_input": "2025-04-09T13:05:15.772238Z",
          "iopub.status.idle": "2025-04-09T13:05:15.978113Z",
          "shell.execute_reply.started": "2025-04-09T13:05:15.772214Z",
          "shell.execute_reply": "2025-04-09T13:05:15.977222Z"
        },
        "id": "7-SqyN9OCDg_",
        "outputId": "c6f0dd8f-ec30-4dc5-c771-8b1630ad56c2"
      },
      "outputs": [
        {
          "name": "stdout",
          "text": "[nltk_data] Downloading package punkt_tab to\n[nltk_data]     /kaggle/working/nltk_data...\n[nltk_data]   Unzipping tokenizers/punkt_tab.zip.\n",
          "output_type": "stream"
        },
        {
          "execution_count": 26,
          "output_type": "execute_result",
          "data": {
            "text/plain": "True"
          },
          "metadata": {}
        }
      ],
      "execution_count": null
    },
    {
      "cell_type": "code",
      "source": [
        "turbo_model.load_state_dict(torch.load(\"bart_model_epoch_5.pt\", map_location=device))\n",
        "turbo_model.to(device)\n",
        "turbo_model.eval()\n"
      ],
      "metadata": {
        "trusted": true,
        "execution": {
          "iopub.status.busy": "2025-04-09T07:33:08.291703Z",
          "iopub.execute_input": "2025-04-09T07:33:08.292066Z",
          "iopub.status.idle": "2025-04-09T07:33:08.72129Z",
          "shell.execute_reply.started": "2025-04-09T07:33:08.29204Z",
          "shell.execute_reply": "2025-04-09T07:33:08.720301Z"
        },
        "id": "2iVobP4yCDg_",
        "outputId": "ca92315c-b8f3-4573-e8ff-6f3ce73211a5"
      },
      "outputs": [
        {
          "name": "stderr",
          "text": "<ipython-input-58-9470e90f1d5f>:1: FutureWarning: You are using `torch.load` with `weights_only=False` (the current default value), which uses the default pickle module implicitly. It is possible to construct malicious pickle data which will execute arbitrary code during unpickling (See https://github.com/pytorch/pytorch/blob/main/SECURITY.md#untrusted-models for more details). In a future release, the default value for `weights_only` will be flipped to `True`. This limits the functions that could be executed during unpickling. Arbitrary objects will no longer be allowed to be loaded via this mode unless they are explicitly allowlisted by the user via `torch.serialization.add_safe_globals`. We recommend you start setting `weights_only=True` for any use case where you don't have full control of the loaded file. Please open an issue on GitHub for any issues related to this experimental feature.\n  turbo_model.load_state_dict(torch.load(\"bart_model_epoch_5.pt\", map_location=device))\n",
          "output_type": "stream"
        },
        {
          "execution_count": 58,
          "output_type": "execute_result",
          "data": {
            "text/plain": "TurboModel(\n  (bart): BartForConditionalGeneration(\n    (model): BartModel(\n      (shared): BartScaledWordEmbedding(50265, 768, padding_idx=1)\n      (encoder): BartEncoder(\n        (embed_tokens): BartScaledWordEmbedding(50265, 768, padding_idx=1)\n        (embed_positions): BartLearnedPositionalEmbedding(1026, 768)\n        (layers): ModuleList(\n          (0-5): 6 x BartEncoderLayer(\n            (self_attn): BartSdpaAttention(\n              (k_proj): Linear(in_features=768, out_features=768, bias=True)\n              (v_proj): Linear(in_features=768, out_features=768, bias=True)\n              (q_proj): Linear(in_features=768, out_features=768, bias=True)\n              (out_proj): Linear(in_features=768, out_features=768, bias=True)\n            )\n            (self_attn_layer_norm): LayerNorm((768,), eps=1e-05, elementwise_affine=True)\n            (activation_fn): GELUActivation()\n            (fc1): Linear(in_features=768, out_features=3072, bias=True)\n            (fc2): Linear(in_features=3072, out_features=768, bias=True)\n            (final_layer_norm): LayerNorm((768,), eps=1e-05, elementwise_affine=True)\n          )\n        )\n        (layernorm_embedding): LayerNorm((768,), eps=1e-05, elementwise_affine=True)\n      )\n      (decoder): BartDecoder(\n        (embed_tokens): BartScaledWordEmbedding(50265, 768, padding_idx=1)\n        (embed_positions): BartLearnedPositionalEmbedding(1026, 768)\n        (layers): ModuleList(\n          (0-5): 6 x BartDecoderLayer(\n            (self_attn): BartSdpaAttention(\n              (k_proj): Linear(in_features=768, out_features=768, bias=True)\n              (v_proj): Linear(in_features=768, out_features=768, bias=True)\n              (q_proj): Linear(in_features=768, out_features=768, bias=True)\n              (out_proj): Linear(in_features=768, out_features=768, bias=True)\n            )\n            (activation_fn): GELUActivation()\n            (self_attn_layer_norm): LayerNorm((768,), eps=1e-05, elementwise_affine=True)\n            (encoder_attn): BartSdpaAttention(\n              (k_proj): Linear(in_features=768, out_features=768, bias=True)\n              (v_proj): Linear(in_features=768, out_features=768, bias=True)\n              (q_proj): Linear(in_features=768, out_features=768, bias=True)\n              (out_proj): Linear(in_features=768, out_features=768, bias=True)\n            )\n            (encoder_attn_layer_norm): LayerNorm((768,), eps=1e-05, elementwise_affine=True)\n            (fc1): Linear(in_features=768, out_features=3072, bias=True)\n            (fc2): Linear(in_features=3072, out_features=768, bias=True)\n            (final_layer_norm): LayerNorm((768,), eps=1e-05, elementwise_affine=True)\n          )\n        )\n        (layernorm_embedding): LayerNorm((768,), eps=1e-05, elementwise_affine=True)\n      )\n    )\n    (lm_head): Linear(in_features=768, out_features=50265, bias=False)\n  )\n  (fusion): SharedFusion(\n    (text_proj): Linear(in_features=768, out_features=768, bias=True)\n    (img_proj): Linear(in_features=768, out_features=768, bias=True)\n    (fusion_layer): Linear(in_features=1536, out_features=768, bias=True)\n    (activation): ReLU()\n  )\n)"
          },
          "metadata": {}
        }
      ],
      "execution_count": null
    },
    {
      "cell_type": "code",
      "source": [
        "\n",
        "from evaluate import load\n",
        "\n",
        "# Load evaluation metrics\n",
        "rouge = load(\"rouge\")\n",
        "bleu = load(\"bleu\")\n",
        "meteor = load(\"meteor\")\n",
        "bertscore = load(\"bertscore\")\n",
        "\n",
        "# Function to generate predictions\n",
        "def generate_predictions(model, dataloader, tokenizer):\n",
        "    predictions, references = [], []\n",
        "\n",
        "    model.eval()\n",
        "    with torch.no_grad():\n",
        "        for batch in dataloader:\n",
        "            inputs = batch[\"input_ids\"].to(device)\n",
        "            labels = batch[\"labels\"].to(device)\n",
        "\n",
        "            outputs =  model.bart.generate(inputs, max_length=50)\n",
        "            pred_texts = tokenizer.batch_decode(outputs, skip_special_tokens=True)\n",
        "            ref_texts = tokenizer.batch_decode(labels, skip_special_tokens=True)\n",
        "\n",
        "            predictions.extend(pred_texts)\n",
        "            references.extend(ref_texts)\n",
        "\n",
        "    return predictions, references\n",
        "\n",
        "# Function to compute evaluation metrics\n",
        "def compute_metrics(predictions, references):\n",
        "    # Compute individual metrics\n",
        "    rouge_scores = rouge.compute(predictions=predictions, references=references)\n",
        "    meteor_score = meteor.compute(predictions=predictions, references=references)\n",
        "    bert_scores = bertscore.compute(predictions=predictions, references=references, lang=\"en\")\n",
        "\n",
        "    # Compute BLEU scores manually for B1–B4\n",
        "    bleu_scores = {}\n",
        "    for i in range(1, 5):\n",
        "        bleu_result = bleu.compute(predictions=predictions, references=references, max_order=i)\n",
        "        bleu_scores[f\"BLEU-{i}\"] = bleu_result[\"bleu\"]\n",
        "\n",
        "    # BERTScore returns precision, recall, f1 for each pair – take average F1\n",
        "    bert_f1_avg = sum(bert_scores[\"f1\"]) / len(bert_scores[\"f1\"])\n",
        "\n",
        "    return {\n",
        "        \"ROUGE\": rouge_scores,\n",
        "        \"METEOR\": meteor_score[\"meteor\"],\n",
        "        **bleu_scores,\n",
        "        \"BERTScore_F1\": bert_f1_avg\n",
        "    }\n",
        "\n",
        "# 🔹 Generate predictions\n",
        "# preds, refs = generate_predictions(turbo_model, valid_loader, tokenizer)\n",
        "\n",
        "# # 🔹 Compute metrics\n",
        "# results = compute_metrics(preds, refs)\n",
        "# print(results)\n"
      ],
      "metadata": {
        "trusted": true,
        "execution": {
          "iopub.status.busy": "2025-04-09T13:05:36.747613Z",
          "iopub.execute_input": "2025-04-09T13:05:36.747927Z",
          "iopub.status.idle": "2025-04-09T13:05:40.930819Z",
          "shell.execute_reply.started": "2025-04-09T13:05:36.747903Z",
          "shell.execute_reply": "2025-04-09T13:05:40.930167Z"
        },
        "id": "2ir9k7j_CDg_",
        "outputId": "f61d5e28-0cc3-4b8d-d701-f991ac64e067",
        "colab": {
          "referenced_widgets": [
            "e9b2773666e0430eb6d0b713818d13cb",
            "e986b45286aa455285946ed331dd00b5",
            "32758f3701b64041a9b4ab51f7d66244",
            "276fa67c2d73414dae29132d44adb213",
            "08809fd1589c4da2b25135fcaeb3035b",
            "b8f36cf6d4594c74a0976834ba7aec9e"
          ]
        }
      },
      "outputs": [
        {
          "output_type": "display_data",
          "data": {
            "text/plain": "Downloading builder script:   0%|          | 0.00/6.27k [00:00<?, ?B/s]",
            "application/vnd.jupyter.widget-view+json": {
              "version_major": 2,
              "version_minor": 0,
              "model_id": "e9b2773666e0430eb6d0b713818d13cb"
            }
          },
          "metadata": {}
        },
        {
          "output_type": "display_data",
          "data": {
            "text/plain": "Downloading builder script:   0%|          | 0.00/5.94k [00:00<?, ?B/s]",
            "application/vnd.jupyter.widget-view+json": {
              "version_major": 2,
              "version_minor": 0,
              "model_id": "e986b45286aa455285946ed331dd00b5"
            }
          },
          "metadata": {}
        },
        {
          "output_type": "display_data",
          "data": {
            "text/plain": "Downloading extra modules:   0%|          | 0.00/1.55k [00:00<?, ?B/s]",
            "application/vnd.jupyter.widget-view+json": {
              "version_major": 2,
              "version_minor": 0,
              "model_id": "32758f3701b64041a9b4ab51f7d66244"
            }
          },
          "metadata": {}
        },
        {
          "output_type": "display_data",
          "data": {
            "text/plain": "Downloading extra modules:   0%|          | 0.00/3.34k [00:00<?, ?B/s]",
            "application/vnd.jupyter.widget-view+json": {
              "version_major": 2,
              "version_minor": 0,
              "model_id": "276fa67c2d73414dae29132d44adb213"
            }
          },
          "metadata": {}
        },
        {
          "output_type": "display_data",
          "data": {
            "text/plain": "Downloading builder script:   0%|          | 0.00/7.02k [00:00<?, ?B/s]",
            "application/vnd.jupyter.widget-view+json": {
              "version_major": 2,
              "version_minor": 0,
              "model_id": "08809fd1589c4da2b25135fcaeb3035b"
            }
          },
          "metadata": {}
        },
        {
          "name": "stdout",
          "text": "[nltk_data] Downloading package wordnet to /usr/share/nltk_data...\n[nltk_data]   Package wordnet is already up-to-date!\n[nltk_data] Downloading package punkt_tab to /usr/share/nltk_data...\n[nltk_data]   Unzipping tokenizers/punkt_tab.zip.\n[nltk_data] Downloading package omw-1.4 to /usr/share/nltk_data...\n[nltk_data]   Package omw-1.4 is already up-to-date!\n",
          "output_type": "stream"
        },
        {
          "output_type": "display_data",
          "data": {
            "text/plain": "Downloading builder script:   0%|          | 0.00/7.95k [00:00<?, ?B/s]",
            "application/vnd.jupyter.widget-view+json": {
              "version_major": 2,
              "version_minor": 0,
              "model_id": "b8f36cf6d4594c74a0976834ba7aec9e"
            }
          },
          "metadata": {}
        }
      ],
      "execution_count": null
    },
    {
      "cell_type": "code",
      "source": [
        "def train(model, train_loader, valid_loader, tokenizer, optimizer, criterion, epochs=3):\n",
        "    for epoch in range(epochs):\n",
        "        model.train()\n",
        "        total_loss = 0\n",
        "\n",
        "        for batch in train_loader:\n",
        "            optimizer.zero_grad()\n",
        "\n",
        "            input_ids = batch['input_ids']\n",
        "            attention_mask = batch['attention_mask']\n",
        "            labels = batch['labels']\n",
        "            image_features = batch['image_features']\n",
        "\n",
        "            outputs = model(\n",
        "                input_ids=input_ids,\n",
        "                attention_mask=attention_mask,\n",
        "                labels=labels,\n",
        "                image_features=image_features\n",
        "            )\n",
        "\n",
        "            loss = outputs.loss\n",
        "            loss.backward()\n",
        "            optimizer.step()\n",
        "            total_loss += loss.item()\n",
        "\n",
        "        avg_loss = total_loss / len(train_loader)\n",
        "        print(f\"\\nEpoch {epoch + 1}/{epochs} - Training Loss: {avg_loss}\")\n",
        "\n",
        "        # 🧪 Evaluate on validation set\n",
        "        model.eval()\n",
        "        with torch.no_grad():\n",
        "            preds, refs = generate_predictions(model, valid_loader, tokenizer)\n",
        "            metrics = compute_metrics(preds, refs)\n",
        "\n",
        "        print(f\"\\nEvaluation Metrics (Epoch {epoch + 1}):\")\n",
        "        print(\"-\" * 50)\n",
        "\n",
        "        # Print ROUGE\n",
        "        print(f\"ROUGE-1: {metrics['ROUGE']['rouge1']}\")\n",
        "        print(f\"ROUGE-2: {metrics['ROUGE']['rouge2']}\")\n",
        "        print(f\"ROUGE-L: {metrics['ROUGE']['rougeL']}\")\n",
        "\n",
        "        # Print BLEU\n",
        "        for i in range(1, 5):\n",
        "            print(f\"BLEU-{i}: {metrics[f'BLEU-{i}']}\")\n",
        "\n",
        "        # Print METEOR and BERTScore\n",
        "        print(f\"METEOR: {metrics['METEOR']}\")\n",
        "        print(f\"BERTScore-F1: {metrics['BERTScore_F1']}\")\n",
        "        print(\"-\" * 50)\n",
        "\n",
        "        # 💾 Save model checkpoint\n",
        "        torch.save(model.state_dict(), f\"turbo_model_epoch_{epoch + 1}.pt\")\n",
        "        print(f\"Model checkpoint saved: turbo_model_epoch_{epoch + 1}.pt\")\n"
      ],
      "metadata": {
        "trusted": true,
        "execution": {
          "iopub.status.busy": "2025-04-09T13:11:52.366887Z",
          "iopub.execute_input": "2025-04-09T13:11:52.367185Z",
          "iopub.status.idle": "2025-04-09T13:11:52.374899Z",
          "shell.execute_reply.started": "2025-04-09T13:11:52.367163Z",
          "shell.execute_reply": "2025-04-09T13:11:52.373855Z"
        },
        "id": "-u8r4fIrCDg_"
      },
      "outputs": [],
      "execution_count": null
    },
    {
      "cell_type": "code",
      "source": [
        "train(\n",
        "    model=turbo_model,\n",
        "    train_loader=train_loader,\n",
        "    valid_loader=valid_loader,\n",
        "    tokenizer=tokenizer,\n",
        "    optimizer=optimizer,\n",
        "    criterion=criterion,\n",
        "    epochs=5\n",
        ")\n"
      ],
      "metadata": {
        "trusted": true,
        "execution": {
          "iopub.status.busy": "2025-04-09T13:11:55.404381Z",
          "iopub.execute_input": "2025-04-09T13:11:55.404767Z",
          "iopub.status.idle": "2025-04-09T13:26:21.31252Z",
          "shell.execute_reply.started": "2025-04-09T13:11:55.404737Z",
          "shell.execute_reply": "2025-04-09T13:26:21.311721Z"
        },
        "id": "4GPAUgEACDg_",
        "outputId": "1b2d3c63-4cf4-47f5-b333-ca361e848a01"
      },
      "outputs": [
        {
          "name": "stdout",
          "text": "\nEpoch 1/5 - Training Loss: 0.20754970116092558\n\nEvaluation Metrics (Epoch 1):\n--------------------------------------------------\nROUGE-1: 0.548678741553891\nROUGE-2: 0.39015285583093173\nROUGE-L: 0.5216460339944049\nBLEU-1: 0.5301434697120316\nBLEU-2: 0.4492918439659864\nBLEU-3: 0.39472951759850156\nBLEU-4: 0.3529896819005299\nMETEOR: 0.5380490878147943\nBERTScore-F1: 0.9245555908339365\n--------------------------------------------------\nModel checkpoint saved: turbo_model_epoch_1.pt\n\nEpoch 2/5 - Training Loss: 0.1783724139160651\n\nEvaluation Metrics (Epoch 2):\n--------------------------------------------------\nROUGE-1: 0.5560470713237173\nROUGE-2: 0.3963856638939367\nROUGE-L: 0.5304922275789619\nBLEU-1: 0.5550711572306943\nBLEU-2: 0.47246316293823537\nBLEU-3: 0.4155539969868244\nBLEU-4: 0.3717455941877607\nMETEOR: 0.5555059321663439\nBERTScore-F1: 0.9248437925747462\n--------------------------------------------------\nModel checkpoint saved: turbo_model_epoch_2.pt\n\nEpoch 3/5 - Training Loss: 0.1533231851570109\n\nEvaluation Metrics (Epoch 3):\n--------------------------------------------------\nROUGE-1: 0.5617187045437677\nROUGE-2: 0.403963099446359\nROUGE-L: 0.5359071435733\nBLEU-1: 0.5387134451036816\nBLEU-2: 0.4559135065720778\nBLEU-3: 0.3997970983586406\nBLEU-4: 0.35582843275317544\nMETEOR: 0.5539678381615541\nBERTScore-F1: 0.9270652055740356\n--------------------------------------------------\nModel checkpoint saved: turbo_model_epoch_3.pt\n\nEpoch 4/5 - Training Loss: 0.1340474891551038\n\nEvaluation Metrics (Epoch 4):\n--------------------------------------------------\nROUGE-1: 0.5726256577583672\nROUGE-2: 0.41014565524459906\nROUGE-L: 0.5372037792685702\nBLEU-1: 0.5679617962688921\nBLEU-2: 0.4804283245153842\nBLEU-3: 0.4217925064390978\nBLEU-4: 0.3751814410646155\nMETEOR: 0.5683961955781672\nBERTScore-F1: 0.9268362443787711\n--------------------------------------------------\nModel checkpoint saved: turbo_model_epoch_4.pt\n\nEpoch 5/5 - Training Loss: 0.11548604079108825\n\nEvaluation Metrics (Epoch 5):\n--------------------------------------------------\nROUGE-1: 0.5706859364554246\nROUGE-2: 0.4024353444647212\nROUGE-L: 0.543335354014859\nBLEU-1: 0.5619428234475625\nBLEU-2: 0.4721349832566285\nBLEU-3: 0.41358320301843726\nBLEU-4: 0.3683086143393177\nMETEOR: 0.5664630535566376\nBERTScore-F1: 0.9264862394332886\n--------------------------------------------------\nModel checkpoint saved: turbo_model_epoch_5.pt\n",
          "output_type": "stream"
        }
      ],
      "execution_count": null
    },
    {
      "cell_type": "markdown",
      "source": [
        "### Testing"
      ],
      "metadata": {
        "id": "qV5dRTiACDg_"
      }
    },
    {
      "cell_type": "code",
      "source": [
        "import torch\n",
        "from transformers import BartTokenizer, BartForConditionalGeneration\n",
        "import pandas as pd\n",
        "import pickle"
      ],
      "metadata": {
        "trusted": true,
        "id": "LV5HmIpbCDhA"
      },
      "outputs": [],
      "execution_count": null
    },
    {
      "cell_type": "code",
      "source": [
        "device = torch.device(\"cuda\" if torch.cuda.is_available() else \"cpu\")\n",
        "\n",
        "def load_trained_model(model_path):\n",
        "    tokenizer = BartTokenizer.from_pretrained(\"facebook/bart-base\")\n",
        "    bart = BartForConditionalGeneration.from_pretrained(\"facebook/bart-base\")\n",
        "    fusion = SharedFusion().to(device)\n",
        "    model = TurboModel(bart, fusion).to(device)\n",
        "    model.load_state_dict(torch.load(model_path, map_location=device))\n",
        "    model.eval()\n",
        "    return model, tokenizer"
      ],
      "metadata": {
        "trusted": true,
        "id": "ZOu6JnmnCDhA"
      },
      "outputs": [],
      "execution_count": null
    },
    {
      "cell_type": "code",
      "source": [
        "def load_test_data(tsv_path, d_path, o_path):\n",
        "    df = pd.read_csv(tsv_path, sep='\\t')\n",
        "    with open(d_path, 'rb') as f:\n",
        "        d_features = pickle.load(f)\n",
        "    with open(o_path, 'rb') as f:\n",
        "        o_features = pickle.load(f)\n",
        "    return df, d_features, o_features"
      ],
      "metadata": {
        "trusted": true,
        "id": "RXItVk7QCDhA"
      },
      "outputs": [],
      "execution_count": null
    },
    {
      "cell_type": "code",
      "source": [
        "\n",
        "\n",
        "def generate_explanations(model, tokenizer, inputs, max_len=50):\n",
        "    predictions = []\n",
        "    batch_size = 8\n",
        "\n",
        "    for i in range(0, len(inputs), batch_size):\n",
        "        batch_inputs = inputs[i:i+batch_size]\n",
        "        encoded = tokenizer(batch_inputs, return_tensors=\"pt\", padding=True, truncation=True).to(device)\n",
        "        with torch.no_grad():\n",
        "            outputs = model.bart.generate(**encoded, max_length=max_len)  # use BART's generate method\n",
        "        decoded = tokenizer.batch_decode(outputs, skip_special_tokens=True)\n",
        "        predictions.extend(decoded)\n",
        "\n",
        "    return predictions\n",
        "\n",
        "def test_inference(model_path, tsv_path, d_path, o_path, output_file=\"predictions.txt\", paired_output_file=\"pred_vs_actual.txt\"):\n",
        "    print(f\"Using device: {device}\")\n",
        "\n",
        "    model, tokenizer = load_trained_model(model_path)\n",
        "\n",
        "    df, d_features, o_features = load_test_data(tsv_path, d_path, o_path)\n",
        "    inputs = df[\"text\"].tolist()\n",
        "    references = df[\"explanation\"].tolist() if \"explanation\" in df.columns else None\n",
        "\n",
        "    predictions = generate_explanations(model, tokenizer, inputs)\n",
        "\n",
        "    with open(output_file, \"w\") as f:\n",
        "        for pred in predictions:\n",
        "            f.write(pred.strip() + \"\\n\")\n",
        "    print(f\"Predictions saved to {output_file}\")\n",
        "\n",
        "    if references:\n",
        "        with open(paired_output_file, \"w\") as f:\n",
        "            for actual, pred in zip(references, predictions):\n",
        "                f.write(f\"[ACTUAL]:  {actual.strip()}\\n\")\n",
        "                f.write(f\"[PREDICT]: {pred.strip()}\\n\")\n",
        "                f.write(\"-\" * 50 + \"\\n\")\n",
        "        print(f\"Paired output saved to {paired_output_file}\")\n",
        "\n",
        "        results = compute_metrics(predictions, references)\n",
        "        print(\"Evaluation Results:\")\n",
        "        for k, v in results.items():\n",
        "            print(f\"{k}: {v}\")\n",
        "        return results\n",
        "    else:\n",
        "        print(\"No reference explanations provided in test.tsv.\")\n",
        "        return None\n"
      ],
      "metadata": {
        "trusted": true,
        "execution": {
          "iopub.status.busy": "2025-04-09T13:52:51.017894Z",
          "iopub.execute_input": "2025-04-09T13:52:51.018198Z",
          "iopub.status.idle": "2025-04-09T13:52:51.028893Z",
          "shell.execute_reply.started": "2025-04-09T13:52:51.018177Z",
          "shell.execute_reply": "2025-04-09T13:52:51.02803Z"
        },
        "id": "ZJGL349nCDhA"
      },
      "outputs": [],
      "execution_count": null
    },
    {
      "cell_type": "code",
      "source": [
        "test_inference(\n",
        "    model_path=\"/kaggle/working/turbo_model_epoch_5.pt\",\n",
        "    tsv_path=\"/kaggle/input/more-nlp/MORE-PLUS-DATASET/val_df.tsv\",\n",
        "    d_path=\"/kaggle/input/more-nlp/MORE-PLUS-DATASET/D_val.pkl\",\n",
        "    o_path=\"/kaggle/input/more-nlp/MORE-PLUS-DATASET/O_val.pkl\"\n",
        ")\n"
      ],
      "metadata": {
        "trusted": true,
        "execution": {
          "iopub.status.busy": "2025-04-09T13:52:54.687089Z",
          "iopub.execute_input": "2025-04-09T13:52:54.687387Z",
          "iopub.status.idle": "2025-04-09T13:53:07.140836Z",
          "shell.execute_reply.started": "2025-04-09T13:52:54.687365Z",
          "shell.execute_reply": "2025-04-09T13:53:07.140124Z"
        },
        "id": "wKwLGz95CDhA",
        "outputId": "dd768cad-804e-4d18-e399-bab0f6c980d3"
      },
      "outputs": [
        {
          "name": "stdout",
          "text": "Using device: cuda\n",
          "output_type": "stream"
        },
        {
          "name": "stderr",
          "text": "<ipython-input-33-0830b1097a87>:15: FutureWarning: You are using `torch.load` with `weights_only=False` (the current default value), which uses the default pickle module implicitly. It is possible to construct malicious pickle data which will execute arbitrary code during unpickling (See https://github.com/pytorch/pytorch/blob/main/SECURITY.md#untrusted-models for more details). In a future release, the default value for `weights_only` will be flipped to `True`. This limits the functions that could be executed during unpickling. Arbitrary objects will no longer be allowed to be loaded via this mode unless they are explicitly allowlisted by the user via `torch.serialization.add_safe_globals`. We recommend you start setting `weights_only=True` for any use case where you don't have full control of the loaded file. Please open an issue on GitHub for any issues related to this experimental feature.\n  model.load_state_dict(torch.load(model_path, map_location=device))\nAsking to truncate to max_length but no maximum length is provided and the model has no predefined maximum length. Default to no truncation.\n",
          "output_type": "stream"
        },
        {
          "name": "stdout",
          "text": "Predictions saved to predictions.txt\nPaired output saved to pred_vs_actual.txt\nEvaluation Results:\nROUGE: {'rouge1': 0.5489737697711203, 'rouge2': 0.39192706168999825, 'rougeL': 0.5234549977446823, 'rougeLsum': 0.5221202713393198}\nMETEOR: 0.5503156903750273\nBLEU-1: 0.5539789563798931\nBLEU-2: 0.46924856943166265\nBLEU-3: 0.4121957576168172\nBLEU-4: 0.36731301887414214\nBERTScore_F1: 0.9238782146998814\n",
          "output_type": "stream"
        },
        {
          "execution_count": 34,
          "output_type": "execute_result",
          "data": {
            "text/plain": "{'ROUGE': {'rouge1': 0.5489737697711203,\n  'rouge2': 0.39192706168999825,\n  'rougeL': 0.5234549977446823,\n  'rougeLsum': 0.5221202713393198},\n 'METEOR': 0.5503156903750273,\n 'BLEU-1': 0.5539789563798931,\n 'BLEU-2': 0.46924856943166265,\n 'BLEU-3': 0.4121957576168172,\n 'BLEU-4': 0.36731301887414214,\n 'BERTScore_F1': 0.9238782146998814}"
          },
          "metadata": {}
        }
      ],
      "execution_count": null
    },
    {
      "cell_type": "code",
      "source": [
        "!zip -r /kaggle/working/working_dir.zip /kaggle/working/*\n"
      ],
      "metadata": {
        "trusted": true,
        "execution": {
          "iopub.status.busy": "2025-04-09T14:27:28.68615Z",
          "iopub.execute_input": "2025-04-09T14:27:28.686585Z",
          "iopub.status.idle": "2025-04-09T14:30:21.222505Z",
          "shell.execute_reply.started": "2025-04-09T14:27:28.686552Z",
          "shell.execute_reply": "2025-04-09T14:30:21.221283Z"
        },
        "id": "RdwxM8EOCDhA",
        "outputId": "bb34622e-2712-4dc2-b464-9c773cf817ef"
      },
      "outputs": [
        {
          "name": "stdout",
          "text": "  adding: kaggle/working/nltk_data/ (stored 0%)\n  adding: kaggle/working/nltk_data/corpora/ (stored 0%)\n  adding: kaggle/working/nltk_data/corpora/wordnet.zip (stored 0%)\n  adding: kaggle/working/nltk_data/corpora/omw-1.4.zip (stored 0%)\n  adding: kaggle/working/nltk_data/corpora/wordnet/ (stored 0%)\n  adding: kaggle/working/nltk_data/corpora/wordnet/cntlist.rev (deflated 76%)\n  adding: kaggle/working/nltk_data/corpora/wordnet/data.noun (deflated 70%)\n  adding: kaggle/working/nltk_data/corpora/wordnet/adj.exc (deflated 74%)\n  adding: kaggle/working/nltk_data/corpora/wordnet/data.adj (deflated 68%)\n  adding: kaggle/working/nltk_data/corpora/wordnet/noun.exc (deflated 65%)\n  adding: kaggle/working/nltk_data/corpora/wordnet/index.sense (deflated 73%)\n  adding: kaggle/working/nltk_data/corpora/wordnet/index.adj (deflated 71%)\n  adding: kaggle/working/nltk_data/corpora/wordnet/LICENSE (deflated 50%)\n  adding: kaggle/working/nltk_data/corpora/wordnet/citation.bib (deflated 25%)\n  adding: kaggle/working/nltk_data/corpora/wordnet/verb.exc (deflated 71%)\n  adding: kaggle/working/nltk_data/corpora/wordnet/index.noun (deflated 71%)\n  adding: kaggle/working/nltk_data/corpora/wordnet/index.verb (deflated 67%)\n  adding: kaggle/working/nltk_data/corpora/wordnet/data.adv (deflated 66%)\n  adding: kaggle/working/nltk_data/corpora/wordnet/lexnames (deflated 57%)\n  adding: kaggle/working/nltk_data/corpora/wordnet/adv.exc (deflated 34%)\n  adding: kaggle/working/nltk_data/corpora/wordnet/index.adv (deflated 71%)\n  adding: kaggle/working/nltk_data/corpora/wordnet/README (deflated 53%)\n  adding: kaggle/working/nltk_data/corpora/wordnet/data.verb (deflated 68%)\n  adding: kaggle/working/nltk_data/tokenizers/ (stored 0%)\n  adding: kaggle/working/nltk_data/tokenizers/punkt_tab/ (stored 0%)\n  adding: kaggle/working/nltk_data/tokenizers/punkt_tab/russian/ (stored 0%)\n  adding: kaggle/working/nltk_data/tokenizers/punkt_tab/russian/sent_starters.txt (stored 0%)\n  adding: kaggle/working/nltk_data/tokenizers/punkt_tab/russian/collocations.tab (stored 0%)\n  adding: kaggle/working/nltk_data/tokenizers/punkt_tab/russian/abbrev_types.txt (deflated 59%)\n  adding: kaggle/working/nltk_data/tokenizers/punkt_tab/russian/ortho_context.tab (stored 0%)\n  adding: kaggle/working/nltk_data/tokenizers/punkt_tab/english/ (stored 0%)\n  adding: kaggle/working/nltk_data/tokenizers/punkt_tab/english/sent_starters.txt (deflated 40%)\n  adding: kaggle/working/nltk_data/tokenizers/punkt_tab/english/collocations.tab (deflated 61%)\n  adding: kaggle/working/nltk_data/tokenizers/punkt_tab/english/abbrev_types.txt (deflated 42%)\n  adding: kaggle/working/nltk_data/tokenizers/punkt_tab/english/ortho_context.tab (deflated 58%)\n  adding: kaggle/working/nltk_data/tokenizers/punkt_tab/german/ (stored 0%)\n  adding: kaggle/working/nltk_data/tokenizers/punkt_tab/german/sent_starters.txt (deflated 47%)\n  adding: kaggle/working/nltk_data/tokenizers/punkt_tab/german/collocations.tab (deflated 63%)\n  adding: kaggle/working/nltk_data/tokenizers/punkt_tab/german/abbrev_types.txt (deflated 32%)\n  adding: kaggle/working/nltk_data/tokenizers/punkt_tab/german/ortho_context.tab (deflated 63%)\n  adding: kaggle/working/nltk_data/tokenizers/punkt_tab/polish/ (stored 0%)\n  adding: kaggle/working/nltk_data/tokenizers/punkt_tab/polish/sent_starters.txt (deflated 38%)\n  adding: kaggle/working/nltk_data/tokenizers/punkt_tab/polish/collocations.tab (deflated 64%)\n  adding: kaggle/working/nltk_data/tokenizers/punkt_tab/polish/abbrev_types.txt (deflated 38%)\n  adding: kaggle/working/nltk_data/tokenizers/punkt_tab/polish/ortho_context.tab (deflated 60%)\n  adding: kaggle/working/nltk_data/tokenizers/punkt_tab/dutch/ (stored 0%)\n  adding: kaggle/working/nltk_data/tokenizers/punkt_tab/dutch/sent_starters.txt (deflated 39%)\n  adding: kaggle/working/nltk_data/tokenizers/punkt_tab/dutch/collocations.tab (deflated 63%)\n  adding: kaggle/working/nltk_data/tokenizers/punkt_tab/dutch/abbrev_types.txt (deflated 41%)\n  adding: kaggle/working/nltk_data/tokenizers/punkt_tab/dutch/ortho_context.tab (deflated 58%)\n  adding: kaggle/working/nltk_data/tokenizers/punkt_tab/slovene/ (stored 0%)\n  adding: kaggle/working/nltk_data/tokenizers/punkt_tab/slovene/sent_starters.txt (deflated 37%)\n  adding: kaggle/working/nltk_data/tokenizers/punkt_tab/slovene/collocations.tab (deflated 67%)\n  adding: kaggle/working/nltk_data/tokenizers/punkt_tab/slovene/abbrev_types.txt (deflated 32%)\n  adding: kaggle/working/nltk_data/tokenizers/punkt_tab/slovene/ortho_context.tab (deflated 62%)\n  adding: kaggle/working/nltk_data/tokenizers/punkt_tab/finnish/ (stored 0%)\n  adding: kaggle/working/nltk_data/tokenizers/punkt_tab/finnish/sent_starters.txt (deflated 50%)\n  adding: kaggle/working/nltk_data/tokenizers/punkt_tab/finnish/collocations.tab (deflated 71%)\n  adding: kaggle/working/nltk_data/tokenizers/punkt_tab/finnish/abbrev_types.txt (deflated 38%)\n  adding: kaggle/working/nltk_data/tokenizers/punkt_tab/finnish/ortho_context.tab (deflated 60%)\n  adding: kaggle/working/nltk_data/tokenizers/punkt_tab/estonian/ (stored 0%)\n  adding: kaggle/working/nltk_data/tokenizers/punkt_tab/estonian/sent_starters.txt (deflated 45%)\n  adding: kaggle/working/nltk_data/tokenizers/punkt_tab/estonian/collocations.tab (deflated 75%)\n  adding: kaggle/working/nltk_data/tokenizers/punkt_tab/estonian/abbrev_types.txt (deflated 29%)\n  adding: kaggle/working/nltk_data/tokenizers/punkt_tab/estonian/ortho_context.tab (deflated 59%)\n  adding: kaggle/working/nltk_data/tokenizers/punkt_tab/turkish/ (stored 0%)\n  adding: kaggle/working/nltk_data/tokenizers/punkt_tab/turkish/sent_starters.txt (deflated 40%)\n  adding: kaggle/working/nltk_data/tokenizers/punkt_tab/turkish/collocations.tab (deflated 64%)\n  adding: kaggle/working/nltk_data/tokenizers/punkt_tab/turkish/abbrev_types.txt (deflated 34%)\n  adding: kaggle/working/nltk_data/tokenizers/punkt_tab/turkish/ortho_context.tab (deflated 63%)\n  adding: kaggle/working/nltk_data/tokenizers/punkt_tab/czech/ (stored 0%)\n  adding: kaggle/working/nltk_data/tokenizers/punkt_tab/czech/sent_starters.txt (deflated 32%)\n  adding: kaggle/working/nltk_data/tokenizers/punkt_tab/czech/collocations.tab (deflated 60%)\n  adding: kaggle/working/nltk_data/tokenizers/punkt_tab/czech/abbrev_types.txt (deflated 35%)\n  adding: kaggle/working/nltk_data/tokenizers/punkt_tab/czech/ortho_context.tab (deflated 59%)\n  adding: kaggle/working/nltk_data/tokenizers/punkt_tab/swedish/ (stored 0%)\n  adding: kaggle/working/nltk_data/tokenizers/punkt_tab/swedish/sent_starters.txt (deflated 40%)\n  adding: kaggle/working/nltk_data/tokenizers/punkt_tab/swedish/collocations.tab (deflated 35%)\n  adding: kaggle/working/nltk_data/tokenizers/punkt_tab/swedish/abbrev_types.txt (deflated 28%)\n  adding: kaggle/working/nltk_data/tokenizers/punkt_tab/swedish/ortho_context.tab (deflated 59%)\n  adding: kaggle/working/nltk_data/tokenizers/punkt_tab/danish/ (stored 0%)\n  adding: kaggle/working/nltk_data/tokenizers/punkt_tab/danish/sent_starters.txt (deflated 39%)\n  adding: kaggle/working/nltk_data/tokenizers/punkt_tab/danish/collocations.tab (deflated 68%)\n  adding: kaggle/working/nltk_data/tokenizers/punkt_tab/danish/abbrev_types.txt (deflated 40%)\n  adding: kaggle/working/nltk_data/tokenizers/punkt_tab/danish/ortho_context.tab (deflated 59%)\n  adding: kaggle/working/nltk_data/tokenizers/punkt_tab/spanish/ (stored 0%)\n  adding: kaggle/working/nltk_data/tokenizers/punkt_tab/spanish/sent_starters.txt (deflated 36%)\n  adding: kaggle/working/nltk_data/tokenizers/punkt_tab/spanish/collocations.tab (deflated 26%)\n  adding: kaggle/working/nltk_data/tokenizers/punkt_tab/spanish/abbrev_types.txt (deflated 33%)\n  adding: kaggle/working/nltk_data/tokenizers/punkt_tab/spanish/ortho_context.tab (deflated 59%)\n  adding: kaggle/working/nltk_data/tokenizers/punkt_tab/french/ (stored 0%)\n  adding: kaggle/working/nltk_data/tokenizers/punkt_tab/french/sent_starters.txt (deflated 38%)\n  adding: kaggle/working/nltk_data/tokenizers/punkt_tab/french/collocations.tab (deflated 49%)\n  adding: kaggle/working/nltk_data/tokenizers/punkt_tab/french/abbrev_types.txt (deflated 32%)\n  adding: kaggle/working/nltk_data/tokenizers/punkt_tab/french/ortho_context.tab (deflated 60%)\n  adding: kaggle/working/nltk_data/tokenizers/punkt_tab/norwegian/ (stored 0%)\n  adding: kaggle/working/nltk_data/tokenizers/punkt_tab/norwegian/sent_starters.txt (deflated 42%)\n  adding: kaggle/working/nltk_data/tokenizers/punkt_tab/norwegian/collocations.tab (deflated 62%)\n  adding: kaggle/working/nltk_data/tokenizers/punkt_tab/norwegian/abbrev_types.txt (deflated 38%)\n  adding: kaggle/working/nltk_data/tokenizers/punkt_tab/norwegian/ortho_context.tab (deflated 58%)\n  adding: kaggle/working/nltk_data/tokenizers/punkt_tab/italian/ (stored 0%)\n  adding: kaggle/working/nltk_data/tokenizers/punkt_tab/italian/sent_starters.txt (deflated 34%)\n  adding: kaggle/working/nltk_data/tokenizers/punkt_tab/italian/collocations.tab (deflated 2%)\n  adding: kaggle/working/nltk_data/tokenizers/punkt_tab/italian/abbrev_types.txt (deflated 39%)\n  adding: kaggle/working/nltk_data/tokenizers/punkt_tab/italian/ortho_context.tab (deflated 61%)\n  adding: kaggle/working/nltk_data/tokenizers/punkt_tab/greek/ (stored 0%)\n  adding: kaggle/working/nltk_data/tokenizers/punkt_tab/greek/sent_starters.txt (deflated 52%)\n  adding: kaggle/working/nltk_data/tokenizers/punkt_tab/greek/collocations.tab (deflated 14%)\n  adding: kaggle/working/nltk_data/tokenizers/punkt_tab/greek/abbrev_types.txt (deflated 47%)\n  adding: kaggle/working/nltk_data/tokenizers/punkt_tab/greek/ortho_context.tab (deflated 71%)\n  adding: kaggle/working/nltk_data/tokenizers/punkt_tab/portuguese/ (stored 0%)\n  adding: kaggle/working/nltk_data/tokenizers/punkt_tab/portuguese/sent_starters.txt (deflated 33%)\n  adding: kaggle/working/nltk_data/tokenizers/punkt_tab/portuguese/collocations.tab (deflated 13%)\n  adding: kaggle/working/nltk_data/tokenizers/punkt_tab/portuguese/abbrev_types.txt (deflated 32%)\n  adding: kaggle/working/nltk_data/tokenizers/punkt_tab/portuguese/ortho_context.tab (deflated 59%)\n  adding: kaggle/working/nltk_data/tokenizers/punkt_tab/README (deflated 79%)\n  adding: kaggle/working/nltk_data/tokenizers/punkt_tab/malayalam/ (stored 0%)\n  adding: kaggle/working/nltk_data/tokenizers/punkt_tab/malayalam/sent_starters.txt (deflated 22%)\n  adding: kaggle/working/nltk_data/tokenizers/punkt_tab/malayalam/collocations.tab (deflated 63%)\n  adding: kaggle/working/nltk_data/tokenizers/punkt_tab/malayalam/abbrev_types.txt (deflated 69%)\n  adding: kaggle/working/nltk_data/tokenizers/punkt_tab/malayalam/ortho_context.tab (deflated 52%)\n  adding: kaggle/working/nltk_data/tokenizers/punkt_tab.zip (stored 0%)\n  adding: kaggle/working/predictions.txt (deflated 59%)\n  adding: kaggle/working/pred_vs_actual.txt (deflated 77%)\n  adding: kaggle/working/turbo_model_epoch_1.pt (deflated 8%)\n  adding: kaggle/working/turbo_model_epoch_2.pt (deflated 8%)\n  adding: kaggle/working/turbo_model_epoch_3.pt (deflated 8%)\n  adding: kaggle/working/turbo_model_epoch_4.pt (deflated 8%)\n  adding: kaggle/working/turbo_model_epoch_5.pt (deflated 8%)\n",
          "output_type": "stream"
        }
      ],
      "execution_count": null
    }
  ]
}