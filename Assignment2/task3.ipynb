{
 "cells": [
  {
   "cell_type": "code",
   "execution_count": 5,
   "metadata": {
    "_cell_guid": "b1076dfc-b9ad-4769-8c92-a6c4dae69d19",
    "_uuid": "8f2839f25d086af736a60e9eeb907d3b93b6e0e5",
    "execution": {
     "iopub.execute_input": "2025-03-14T10:42:07.415759Z",
     "iopub.status.busy": "2025-03-14T10:42:07.415219Z",
     "iopub.status.idle": "2025-03-14T10:42:07.422215Z",
     "shell.execute_reply": "2025-03-14T10:42:07.421124Z",
     "shell.execute_reply.started": "2025-03-14T10:42:07.415717Z"
    },
    "trusted": true
   },
   "outputs": [],
   "source": [
    "# This Python 3 environment comes with many helpful analytics libraries installed\n",
    "# It is defined by the kaggle/python Docker image: https://github.com/kaggle/docker-python\n",
    "# For example, here's several helpful packages to load\n",
    "\n",
    "import numpy as np # linear algebra\n",
    "import pandas as pd # data processing, CSV file I/O (e.g. pd.read_csv)\n",
    "\n",
    "# Input data files are available in the read-only \"../input/\" directory\n",
    "# For example, running this (by clicking run or pressing Shift+Enter) will list all files under the input directory\n",
    "\n",
    "import os\n",
    "for dirname, _, filenames in os.walk('/kaggle/input'):\n",
    "    for filename in filenames:\n",
    "        print(os.path.join(dirname, filename))\n",
    "\n",
    "# You can write up to 20GB to the current directory (/kaggle/working/) that gets preserved as output when you create a version using \"Save & Run All\" \n",
    "# You can also write temporary files to /kaggle/temp/, but they won't be saved outside of the current session"
   ]
  },
  {
   "cell_type": "code",
   "execution_count": 1,
   "metadata": {
    "execution": {
     "iopub.execute_input": "2025-03-15T06:35:22.444435Z",
     "iopub.status.busy": "2025-03-15T06:35:22.444117Z",
     "iopub.status.idle": "2025-03-15T06:35:26.799868Z",
     "shell.execute_reply": "2025-03-15T06:35:26.799009Z",
     "shell.execute_reply.started": "2025-03-15T06:35:22.444408Z"
    },
    "trusted": true
   },
   "outputs": [
    {
     "name": "stdout",
     "output_type": "stream",
     "text": [
      "Collecting evaluate\n",
      "  Downloading evaluate-0.4.3-py3-none-any.whl.metadata (9.2 kB)\n",
      "Requirement already satisfied: datasets>=2.0.0 in /usr/local/lib/python3.10/dist-packages (from evaluate) (3.3.1)\n",
      "Requirement already satisfied: numpy>=1.17 in /usr/local/lib/python3.10/dist-packages (from evaluate) (1.26.4)\n",
      "Requirement already satisfied: dill in /usr/local/lib/python3.10/dist-packages (from evaluate) (0.3.8)\n",
      "Requirement already satisfied: pandas in /usr/local/lib/python3.10/dist-packages (from evaluate) (2.2.3)\n",
      "Requirement already satisfied: requests>=2.19.0 in /usr/local/lib/python3.10/dist-packages (from evaluate) (2.32.3)\n",
      "Requirement already satisfied: tqdm>=4.62.1 in /usr/local/lib/python3.10/dist-packages (from evaluate) (4.67.1)\n",
      "Requirement already satisfied: xxhash in /usr/local/lib/python3.10/dist-packages (from evaluate) (3.5.0)\n",
      "Requirement already satisfied: multiprocess in /usr/local/lib/python3.10/dist-packages (from evaluate) (0.70.16)\n",
      "Requirement already satisfied: fsspec>=2021.05.0 in /usr/local/lib/python3.10/dist-packages (from fsspec[http]>=2021.05.0->evaluate) (2024.12.0)\n",
      "Requirement already satisfied: huggingface-hub>=0.7.0 in /usr/local/lib/python3.10/dist-packages (from evaluate) (0.29.0)\n",
      "Requirement already satisfied: packaging in /usr/local/lib/python3.10/dist-packages (from evaluate) (24.2)\n",
      "Requirement already satisfied: filelock in /usr/local/lib/python3.10/dist-packages (from datasets>=2.0.0->evaluate) (3.17.0)\n",
      "Requirement already satisfied: pyarrow>=15.0.0 in /usr/local/lib/python3.10/dist-packages (from datasets>=2.0.0->evaluate) (19.0.1)\n",
      "Requirement already satisfied: aiohttp in /usr/local/lib/python3.10/dist-packages (from datasets>=2.0.0->evaluate) (3.11.12)\n",
      "Requirement already satisfied: pyyaml>=5.1 in /usr/local/lib/python3.10/dist-packages (from datasets>=2.0.0->evaluate) (6.0.2)\n",
      "Requirement already satisfied: typing-extensions>=3.7.4.3 in /usr/local/lib/python3.10/dist-packages (from huggingface-hub>=0.7.0->evaluate) (4.12.2)\n",
      "Requirement already satisfied: mkl_fft in /usr/local/lib/python3.10/dist-packages (from numpy>=1.17->evaluate) (1.3.8)\n",
      "Requirement already satisfied: mkl_random in /usr/local/lib/python3.10/dist-packages (from numpy>=1.17->evaluate) (1.2.4)\n",
      "Requirement already satisfied: mkl_umath in /usr/local/lib/python3.10/dist-packages (from numpy>=1.17->evaluate) (0.1.1)\n",
      "Requirement already satisfied: mkl in /usr/local/lib/python3.10/dist-packages (from numpy>=1.17->evaluate) (2025.0.1)\n",
      "Requirement already satisfied: tbb4py in /usr/local/lib/python3.10/dist-packages (from numpy>=1.17->evaluate) (2022.0.0)\n",
      "Requirement already satisfied: mkl-service in /usr/local/lib/python3.10/dist-packages (from numpy>=1.17->evaluate) (2.4.1)\n",
      "Requirement already satisfied: charset-normalizer<4,>=2 in /usr/local/lib/python3.10/dist-packages (from requests>=2.19.0->evaluate) (3.4.1)\n",
      "Requirement already satisfied: idna<4,>=2.5 in /usr/local/lib/python3.10/dist-packages (from requests>=2.19.0->evaluate) (3.10)\n",
      "Requirement already satisfied: urllib3<3,>=1.21.1 in /usr/local/lib/python3.10/dist-packages (from requests>=2.19.0->evaluate) (2.3.0)\n",
      "Requirement already satisfied: certifi>=2017.4.17 in /usr/local/lib/python3.10/dist-packages (from requests>=2.19.0->evaluate) (2025.1.31)\n",
      "Requirement already satisfied: python-dateutil>=2.8.2 in /usr/local/lib/python3.10/dist-packages (from pandas->evaluate) (2.9.0.post0)\n",
      "Requirement already satisfied: pytz>=2020.1 in /usr/local/lib/python3.10/dist-packages (from pandas->evaluate) (2025.1)\n",
      "Requirement already satisfied: tzdata>=2022.7 in /usr/local/lib/python3.10/dist-packages (from pandas->evaluate) (2025.1)\n",
      "Requirement already satisfied: aiohappyeyeballs>=2.3.0 in /usr/local/lib/python3.10/dist-packages (from aiohttp->datasets>=2.0.0->evaluate) (2.4.6)\n",
      "Requirement already satisfied: aiosignal>=1.1.2 in /usr/local/lib/python3.10/dist-packages (from aiohttp->datasets>=2.0.0->evaluate) (1.3.2)\n",
      "Requirement already satisfied: async-timeout<6.0,>=4.0 in /usr/local/lib/python3.10/dist-packages (from aiohttp->datasets>=2.0.0->evaluate) (5.0.1)\n",
      "Requirement already satisfied: attrs>=17.3.0 in /usr/local/lib/python3.10/dist-packages (from aiohttp->datasets>=2.0.0->evaluate) (25.1.0)\n",
      "Requirement already satisfied: frozenlist>=1.1.1 in /usr/local/lib/python3.10/dist-packages (from aiohttp->datasets>=2.0.0->evaluate) (1.5.0)\n",
      "Requirement already satisfied: multidict<7.0,>=4.5 in /usr/local/lib/python3.10/dist-packages (from aiohttp->datasets>=2.0.0->evaluate) (6.1.0)\n",
      "Requirement already satisfied: propcache>=0.2.0 in /usr/local/lib/python3.10/dist-packages (from aiohttp->datasets>=2.0.0->evaluate) (0.2.1)\n",
      "Requirement already satisfied: yarl<2.0,>=1.17.0 in /usr/local/lib/python3.10/dist-packages (from aiohttp->datasets>=2.0.0->evaluate) (1.18.3)\n",
      "Requirement already satisfied: six>=1.5 in /usr/local/lib/python3.10/dist-packages (from python-dateutil>=2.8.2->pandas->evaluate) (1.17.0)\n",
      "Requirement already satisfied: intel-openmp>=2024 in /usr/local/lib/python3.10/dist-packages (from mkl->numpy>=1.17->evaluate) (2024.2.0)\n",
      "Requirement already satisfied: tbb==2022.* in /usr/local/lib/python3.10/dist-packages (from mkl->numpy>=1.17->evaluate) (2022.0.0)\n",
      "Requirement already satisfied: tcmlib==1.* in /usr/local/lib/python3.10/dist-packages (from tbb==2022.*->mkl->numpy>=1.17->evaluate) (1.2.0)\n",
      "Requirement already satisfied: intel-cmplr-lib-rt in /usr/local/lib/python3.10/dist-packages (from mkl_umath->numpy>=1.17->evaluate) (2024.2.0)\n",
      "Requirement already satisfied: intel-cmplr-lib-ur==2024.2.0 in /usr/local/lib/python3.10/dist-packages (from intel-openmp>=2024->mkl->numpy>=1.17->evaluate) (2024.2.0)\n",
      "Downloading evaluate-0.4.3-py3-none-any.whl (84 kB)\n",
      "\u001b[2K   \u001b[90m━━━━━━━━━━━━━━━━━━━━━━━━━━━━━━━━━━━━━━━━\u001b[0m \u001b[32m84.0/84.0 kB\u001b[0m \u001b[31m5.3 MB/s\u001b[0m eta \u001b[36m0:00:00\u001b[0m\n",
      "\u001b[?25hInstalling collected packages: evaluate\n",
      "Successfully installed evaluate-0.4.3\n",
      "Note: you may need to restart the kernel to use updated packages.\n"
     ]
    }
   ],
   "source": [
    "pip install evaluate"
   ]
  },
  {
   "cell_type": "code",
   "execution_count": 2,
   "metadata": {
    "execution": {
     "iopub.execute_input": "2025-03-15T06:35:27.149612Z",
     "iopub.status.busy": "2025-03-15T06:35:27.149349Z",
     "iopub.status.idle": "2025-03-15T06:35:48.702266Z",
     "shell.execute_reply": "2025-03-15T06:35:48.701375Z",
     "shell.execute_reply.started": "2025-03-15T06:35:27.149590Z"
    },
    "trusted": true
   },
   "outputs": [],
   "source": [
    "import numpy as np\n",
    "import pandas as pd\n",
    "import matplotlib.pyplot as plt\n",
    "import torch\n",
    "import torch.nn as nn\n",
    "from datasets import load_dataset\n",
    "from transformers import (\n",
    "    AutoTokenizer, \n",
    "    AutoModelForQuestionAnswering,\n",
    "    Trainer, \n",
    "    TrainingArguments,\n",
    "    default_data_collator,\n",
    "    \n",
    ")\n",
    "import random\n",
    "import os\n",
    "from tqdm.auto import tqdm"
   ]
  },
  {
   "cell_type": "code",
   "execution_count": 4,
   "metadata": {
    "execution": {
     "iopub.execute_input": "2025-03-14T15:18:13.549204Z",
     "iopub.status.busy": "2025-03-14T15:18:13.548903Z",
     "iopub.status.idle": "2025-03-14T15:18:13.722036Z",
     "shell.execute_reply": "2025-03-14T15:18:13.721388Z",
     "shell.execute_reply.started": "2025-03-14T15:18:13.549178Z"
    },
    "trusted": true
   },
   "outputs": [],
   "source": [
    "\n",
    "import random\n",
    "import os\n",
    "import json\n",
    "import evaluate\n",
    "from tqdm.auto import tqdm\n",
    "from torch.nn import CrossEntropyLoss\n"
   ]
  },
  {
   "cell_type": "code",
   "execution_count": 5,
   "metadata": {
    "execution": {
     "iopub.execute_input": "2025-03-14T15:18:16.334064Z",
     "iopub.status.busy": "2025-03-14T15:18:16.333787Z",
     "iopub.status.idle": "2025-03-14T15:18:16.393107Z",
     "shell.execute_reply": "2025-03-14T15:18:16.392326Z",
     "shell.execute_reply.started": "2025-03-14T15:18:16.334042Z"
    },
    "trusted": true
   },
   "outputs": [
    {
     "name": "stdout",
     "output_type": "stream",
     "text": [
      "Using device: cuda\n"
     ]
    }
   ],
   "source": [
    "# Set random seeds for reproducibility\n",
    "def set_seed(seed):\n",
    "    random.seed(seed)\n",
    "    np.random.seed(seed)\n",
    "    torch.manual_seed(seed)\n",
    "    if torch.cuda.is_available():\n",
    "        torch.cuda.manual_seed_all(seed)\n",
    "\n",
    "set_seed(42)\n",
    "device = torch.device('cuda' if torch.cuda.is_available() else 'cpu')\n",
    "print(f\"Using device: {device}\")"
   ]
  },
  {
   "cell_type": "code",
   "execution_count": 3,
   "metadata": {
    "execution": {
     "iopub.execute_input": "2025-03-15T06:35:48.704075Z",
     "iopub.status.busy": "2025-03-15T06:35:48.703413Z",
     "iopub.status.idle": "2025-03-15T06:35:57.279816Z",
     "shell.execute_reply": "2025-03-15T06:35:57.278946Z",
     "shell.execute_reply.started": "2025-03-15T06:35:48.704049Z"
    },
    "trusted": true
   },
   "outputs": [
    {
     "name": "stdout",
     "output_type": "stream",
     "text": [
      "Loading SQuAD v2 dataset...\n"
     ]
    },
    {
     "data": {
      "application/vnd.jupyter.widget-view+json": {
       "model_id": "e9f913abcdac4647b143f6f449427899",
       "version_major": 2,
       "version_minor": 0
      },
      "text/plain": [
       "README.md:   0%|          | 0.00/8.92k [00:00<?, ?B/s]"
      ]
     },
     "metadata": {},
     "output_type": "display_data"
    },
    {
     "data": {
      "application/vnd.jupyter.widget-view+json": {
       "model_id": "3644aa7bb4a9420f893492b82deb3867",
       "version_major": 2,
       "version_minor": 0
      },
      "text/plain": [
       "train-00000-of-00001.parquet:   0%|          | 0.00/16.4M [00:00<?, ?B/s]"
      ]
     },
     "metadata": {},
     "output_type": "display_data"
    },
    {
     "data": {
      "application/vnd.jupyter.widget-view+json": {
       "model_id": "76dc17d5ae56438f84b46282ba0282a9",
       "version_major": 2,
       "version_minor": 0
      },
      "text/plain": [
       "validation-00000-of-00001.parquet:   0%|          | 0.00/1.35M [00:00<?, ?B/s]"
      ]
     },
     "metadata": {},
     "output_type": "display_data"
    },
    {
     "data": {
      "application/vnd.jupyter.widget-view+json": {
       "model_id": "735fe1f7d9d84fca9fca180d375b6798",
       "version_major": 2,
       "version_minor": 0
      },
      "text/plain": [
       "Generating train split:   0%|          | 0/130319 [00:00<?, ? examples/s]"
      ]
     },
     "metadata": {},
     "output_type": "display_data"
    },
    {
     "data": {
      "application/vnd.jupyter.widget-view+json": {
       "model_id": "2a9d2a3ad16c424c8fcb1d1934ef8d81",
       "version_major": 2,
       "version_minor": 0
      },
      "text/plain": [
       "Generating validation split:   0%|          | 0/11873 [00:00<?, ? examples/s]"
      ]
     },
     "metadata": {},
     "output_type": "display_data"
    },
    {
     "name": "stdout",
     "output_type": "stream",
     "text": [
      "Dataset loaded with 130319 training samples and 11873 validation samples\n"
     ]
    }
   ],
   "source": [
    "# Load SQuAD v2 dataset\n",
    "print(\"Loading SQuAD v2 dataset...\")\n",
    "squad_dataset = load_dataset(\"squad_v2\")\n",
    "print(f\"Dataset loaded with {len(squad_dataset['train'])} training samples and {len(squad_dataset['validation'])} validation samples\")"
   ]
  },
  {
   "cell_type": "code",
   "execution_count": 4,
   "metadata": {
    "execution": {
     "iopub.execute_input": "2025-03-15T06:35:57.281526Z",
     "iopub.status.busy": "2025-03-15T06:35:57.281308Z",
     "iopub.status.idle": "2025-03-15T06:35:57.284745Z",
     "shell.execute_reply": "2025-03-15T06:35:57.283999Z",
     "shell.execute_reply.started": "2025-03-15T06:35:57.281506Z"
    },
    "trusted": true
   },
   "outputs": [],
   "source": [
    "# Sample a subset of the data\n",
    "train_subset_size = 15000\n",
    "eval_subset_size = 2000"
   ]
  },
  {
   "cell_type": "code",
   "execution_count": 5,
   "metadata": {
    "execution": {
     "iopub.execute_input": "2025-03-15T06:35:57.285748Z",
     "iopub.status.busy": "2025-03-15T06:35:57.285538Z",
     "iopub.status.idle": "2025-03-15T06:35:57.302811Z",
     "shell.execute_reply": "2025-03-15T06:35:57.302203Z",
     "shell.execute_reply.started": "2025-03-15T06:35:57.285729Z"
    },
    "trusted": true
   },
   "outputs": [],
   "source": [
    "train_subset = squad_dataset[\"train\"].select(range(train_subset_size))\n",
    "eval_subset = squad_dataset[\"validation\"].select(range(eval_subset_size))"
   ]
  },
  {
   "cell_type": "code",
   "execution_count": 34,
   "metadata": {
    "execution": {
     "iopub.execute_input": "2025-03-14T16:43:29.110389Z",
     "iopub.status.busy": "2025-03-14T16:43:29.110057Z",
     "iopub.status.idle": "2025-03-14T16:43:31.039354Z",
     "shell.execute_reply": "2025-03-14T16:43:31.038315Z",
     "shell.execute_reply.started": "2025-03-14T16:43:29.110366Z"
    },
    "trusted": true
   },
   "outputs": [
    {
     "name": "stderr",
     "output_type": "stream",
     "text": [
      "Some weights of BertForQuestionAnswering were not initialized from the model checkpoint at SpanBERT/spanbert-base-cased and are newly initialized: ['qa_outputs.bias', 'qa_outputs.weight']\n",
      "You should probably TRAIN this model on a down-stream task to be able to use it for predictions and inference.\n"
     ]
    }
   ],
   "source": [
    "# Model & Tokenizer\n",
    "model_checkpoint = \"SpanBERT/spanbert-base-cased\"\n",
    "tokenizer = AutoTokenizer.from_pretrained(model_checkpoint)\n",
    "model = AutoModelForQuestionAnswering.from_pretrained(model_checkpoint).to(device)"
   ]
  },
  {
   "cell_type": "code",
   "execution_count": 10,
   "metadata": {
    "execution": {
     "iopub.execute_input": "2025-03-14T15:18:36.099684Z",
     "iopub.status.busy": "2025-03-14T15:18:36.099245Z",
     "iopub.status.idle": "2025-03-14T15:18:36.104240Z",
     "shell.execute_reply": "2025-03-14T15:18:36.103379Z",
     "shell.execute_reply.started": "2025-03-14T15:18:36.099647Z"
    },
    "trusted": true
   },
   "outputs": [
    {
     "name": "stdout",
     "output_type": "stream",
     "text": [
      "\n",
      "Using 15000 training samples and 2000 validation samples\n"
     ]
    }
   ],
   "source": [
    "print(f\"\\nUsing {len(train_subset)} training samples and {len(eval_subset)} validation samples\")"
   ]
  },
  {
   "cell_type": "code",
   "execution_count": 35,
   "metadata": {
    "execution": {
     "iopub.execute_input": "2025-03-14T16:44:01.210143Z",
     "iopub.status.busy": "2025-03-14T16:44:01.209833Z",
     "iopub.status.idle": "2025-03-14T16:44:01.217953Z",
     "shell.execute_reply": "2025-03-14T16:44:01.217006Z",
     "shell.execute_reply.started": "2025-03-14T16:44:01.210119Z"
    },
    "trusted": true
   },
   "outputs": [],
   "source": [
    "def preprocess_function(examples):\n",
    "    questions = [q.strip() for q in examples[\"question\"]]\n",
    "    contexts = examples[\"context\"]\n",
    "    tokenized_examples = tokenizer(\n",
    "        questions,\n",
    "        contexts,\n",
    "        truncation=\"only_second\",\n",
    "        max_length=384,\n",
    "        stride=128,\n",
    "        return_overflowing_tokens=True,\n",
    "        return_offsets_mapping=True,\n",
    "        padding=\"max_length\",\n",
    "    )\n",
    "    sample_mapping = tokenized_examples.pop(\"overflow_to_sample_mapping\")\n",
    "    offset_mapping = tokenized_examples.pop(\"offset_mapping\")\n",
    "\n",
    "    start_positions = []\n",
    "    end_positions = []\n",
    "\n",
    "    for i, offsets in enumerate(offset_mapping):\n",
    "        cls_index = tokenized_examples[\"input_ids\"][i].index(tokenizer.cls_token_id)\n",
    "        sample_index = sample_mapping[i]\n",
    "        answers = examples[\"answers\"][sample_index]\n",
    "\n",
    "        if len(answers[\"answer_start\"]) == 0:\n",
    "            start_positions.append(cls_index)\n",
    "            end_positions.append(cls_index)\n",
    "        else:\n",
    "            start_char = answers[\"answer_start\"][0]\n",
    "            end_char = start_char + len(answers[\"text\"][0])\n",
    "\n",
    "            token_start_idx = 0\n",
    "            while token_start_idx < len(offsets) and offsets[token_start_idx][0] <= start_char:\n",
    "                token_start_idx += 1\n",
    "            token_start_idx -= 1\n",
    "\n",
    "            token_end_idx = len(offsets) - 1\n",
    "            while token_end_idx >= 0 and offsets[token_end_idx][1] >= end_char:\n",
    "                token_end_idx -= 1\n",
    "            token_end_idx += 1\n",
    "\n",
    "            if token_start_idx < 0 or token_end_idx >= len(offsets):\n",
    "                start_positions.append(cls_index)\n",
    "                end_positions.append(cls_index)\n",
    "            else:\n",
    "                start_positions.append(token_start_idx)\n",
    "                end_positions.append(token_end_idx)\n",
    "\n",
    "    tokenized_examples[\"start_positions\"] = start_positions\n",
    "    tokenized_examples[\"end_positions\"] = end_positions\n",
    "    return tokenized_examples\n"
   ]
  },
  {
   "cell_type": "code",
   "execution_count": 36,
   "metadata": {
    "execution": {
     "iopub.execute_input": "2025-03-14T16:44:11.834550Z",
     "iopub.status.busy": "2025-03-14T16:44:11.834243Z",
     "iopub.status.idle": "2025-03-14T16:44:20.180948Z",
     "shell.execute_reply": "2025-03-14T16:44:20.180287Z",
     "shell.execute_reply.started": "2025-03-14T16:44:11.834528Z"
    },
    "trusted": true
   },
   "outputs": [
    {
     "name": "stdout",
     "output_type": "stream",
     "text": [
      "Preprocessing dataset...\n"
     ]
    },
    {
     "data": {
      "application/vnd.jupyter.widget-view+json": {
       "model_id": "ed6c6834e1ce458f97e71cca2c3426ce",
       "version_major": 2,
       "version_minor": 0
      },
      "text/plain": [
       "Map:   0%|          | 0/15000 [00:00<?, ? examples/s]"
      ]
     },
     "metadata": {},
     "output_type": "display_data"
    },
    {
     "data": {
      "application/vnd.jupyter.widget-view+json": {
       "model_id": "24dde5c186774fb8bc1be130c99b0775",
       "version_major": 2,
       "version_minor": 0
      },
      "text/plain": [
       "Map:   0%|          | 0/2000 [00:00<?, ? examples/s]"
      ]
     },
     "metadata": {},
     "output_type": "display_data"
    }
   ],
   "source": [
    "print(\"Preprocessing dataset...\")\n",
    "train_dataset = train_subset.map(\n",
    "    preprocess_function,\n",
    "    batched=True,\n",
    "    remove_columns=train_subset.column_names\n",
    ")\n",
    "val_dataset = eval_subset.map(\n",
    "    preprocess_function,\n",
    "    batched=True,\n",
    "    remove_columns=eval_subset.column_names\n",
    ")"
   ]
  },
  {
   "cell_type": "code",
   "execution_count": 28,
   "metadata": {
    "execution": {
     "iopub.execute_input": "2025-03-14T16:12:53.218620Z",
     "iopub.status.busy": "2025-03-14T16:12:53.218273Z",
     "iopub.status.idle": "2025-03-14T16:12:53.223492Z",
     "shell.execute_reply": "2025-03-14T16:12:53.222695Z",
     "shell.execute_reply.started": "2025-03-14T16:12:53.218590Z"
    },
    "trusted": true
   },
   "outputs": [
    {
     "name": "stdout",
     "output_type": "stream",
     "text": [
      "Processed 15289 training examples and 2007 validation examples\n",
      "Columns in processed dataset: ['input_ids', 'token_type_ids', 'attention_mask', 'start_positions', 'end_positions']\n"
     ]
    }
   ],
   "source": [
    "print(f\"Processed {len(train_dataset)} training examples and {len(validation_dataset)} validation examples\")\n",
    "print(f\"Columns in processed dataset: {validation_dataset.column_names}\")"
   ]
  },
  {
   "cell_type": "code",
   "execution_count": 37,
   "metadata": {
    "execution": {
     "iopub.execute_input": "2025-03-14T16:44:32.755126Z",
     "iopub.status.busy": "2025-03-14T16:44:32.754841Z",
     "iopub.status.idle": "2025-03-14T16:44:32.759358Z",
     "shell.execute_reply": "2025-03-14T16:44:32.758627Z",
     "shell.execute_reply.started": "2025-03-14T16:44:32.755104Z"
    },
    "trusted": true
   },
   "outputs": [],
   "source": [
    "# 5. Exact match metric\n",
    "def exact_match_score(predictions, references):\n",
    "    assert len(predictions) == len(references), \"Lists must have the same length\"\n",
    "    matches = sum(p == r for p, r in zip(predictions, references))\n",
    "    return matches / len(references) * 100"
   ]
  },
  {
   "cell_type": "code",
   "execution_count": 38,
   "metadata": {
    "execution": {
     "iopub.execute_input": "2025-03-14T16:44:44.795134Z",
     "iopub.status.busy": "2025-03-14T16:44:44.794846Z",
     "iopub.status.idle": "2025-03-14T16:44:44.823450Z",
     "shell.execute_reply": "2025-03-14T16:44:44.822742Z",
     "shell.execute_reply.started": "2025-03-14T16:44:44.795113Z"
    },
    "trusted": true
   },
   "outputs": [
    {
     "name": "stderr",
     "output_type": "stream",
     "text": [
      "/usr/local/lib/python3.10/dist-packages/transformers/training_args.py:1575: FutureWarning: `evaluation_strategy` is deprecated and will be removed in version 4.46 of 🤗 Transformers. Use `eval_strategy` instead\n",
      "  warnings.warn(\n"
     ]
    }
   ],
   "source": [
    "# Training arguments\n",
    "training_args = TrainingArguments(\n",
    "    output_dir=\"./results_spanbert\",\n",
    "    evaluation_strategy=\"epoch\",\n",
    "    save_strategy=\"epoch\",\n",
    "    num_train_epochs=6,  # At least 6 epochs\n",
    "    learning_rate=3e-5,\n",
    "    per_device_train_batch_size=8,\n",
    "    per_device_eval_batch_size=8,\n",
    "    weight_decay=0.01,\n",
    "    logging_dir=\"./logs\",\n",
    "    logging_steps=100,\n",
    "    fp16=torch.cuda.is_available(),\n",
    "    save_total_limit=2,\n",
    "    load_best_model_at_end=True,\n",
    "    report_to=\"none\"\n",
    ")\n"
   ]
  },
  {
   "cell_type": "code",
   "execution_count": 39,
   "metadata": {
    "execution": {
     "iopub.execute_input": "2025-03-14T16:44:57.320218Z",
     "iopub.status.busy": "2025-03-14T16:44:57.319915Z",
     "iopub.status.idle": "2025-03-14T16:44:57.333504Z",
     "shell.execute_reply": "2025-03-14T16:44:57.332758Z",
     "shell.execute_reply.started": "2025-03-14T16:44:57.320195Z"
    },
    "trusted": true
   },
   "outputs": [
    {
     "name": "stderr",
     "output_type": "stream",
     "text": [
      "<ipython-input-39-6c2be1fd0675>:2: FutureWarning: `tokenizer` is deprecated and will be removed in version 5.0.0 for `Trainer.__init__`. Use `processing_class` instead.\n",
      "  trainer = Trainer(\n"
     ]
    }
   ],
   "source": [
    "# Create trainer\n",
    "trainer = Trainer(\n",
    "    model=model,\n",
    "    args=training_args,\n",
    "    train_dataset=train_dataset,\n",
    "    eval_dataset=val_dataset,\n",
    "    tokenizer=tokenizer,\n",
    "    data_collator=default_data_collator\n",
    ")"
   ]
  },
  {
   "cell_type": "code",
   "execution_count": 40,
   "metadata": {
    "execution": {
     "iopub.execute_input": "2025-03-14T16:45:05.024836Z",
     "iopub.status.busy": "2025-03-14T16:45:05.024537Z",
     "iopub.status.idle": "2025-03-14T17:49:20.877130Z",
     "shell.execute_reply": "2025-03-14T17:49:20.876433Z",
     "shell.execute_reply.started": "2025-03-14T16:45:05.024814Z"
    },
    "trusted": true
   },
   "outputs": [
    {
     "name": "stdout",
     "output_type": "stream",
     "text": [
      "\n",
      "Training SpanBERT model...\n"
     ]
    },
    {
     "data": {
      "text/html": [
       "\n",
       "    <div>\n",
       "      \n",
       "      <progress value='11472' max='11472' style='width:300px; height:20px; vertical-align: middle;'></progress>\n",
       "      [11472/11472 1:04:14, Epoch 6/6]\n",
       "    </div>\n",
       "    <table border=\"1\" class=\"dataframe\">\n",
       "  <thead>\n",
       " <tr style=\"text-align: left;\">\n",
       "      <th>Epoch</th>\n",
       "      <th>Training Loss</th>\n",
       "      <th>Validation Loss</th>\n",
       "    </tr>\n",
       "  </thead>\n",
       "  <tbody>\n",
       "    <tr>\n",
       "      <td>1</td>\n",
       "      <td>1.104800</td>\n",
       "      <td>1.101575</td>\n",
       "    </tr>\n",
       "    <tr>\n",
       "      <td>2</td>\n",
       "      <td>1.101400</td>\n",
       "      <td>1.099621</td>\n",
       "    </tr>\n",
       "    <tr>\n",
       "      <td>3</td>\n",
       "      <td>1.097000</td>\n",
       "      <td>1.099609</td>\n",
       "    </tr>\n",
       "    <tr>\n",
       "      <td>4</td>\n",
       "      <td>1.098700</td>\n",
       "      <td>1.099609</td>\n",
       "    </tr>\n",
       "    <tr>\n",
       "      <td>5</td>\n",
       "      <td>1.100300</td>\n",
       "      <td>1.099571</td>\n",
       "    </tr>\n",
       "    <tr>\n",
       "      <td>6</td>\n",
       "      <td>1.102700</td>\n",
       "      <td>1.099609</td>\n",
       "    </tr>\n",
       "  </tbody>\n",
       "</table><p>"
      ],
      "text/plain": [
       "<IPython.core.display.HTML object>"
      ]
     },
     "metadata": {},
     "output_type": "display_data"
    }
   ],
   "source": [
    "print(\"\\nTraining SpanBERT model...\")\n",
    "train_result = trainer.train()\n",
    "trainer.save_model(\"./spanbert_finetuned\")"
   ]
  },
  {
   "cell_type": "code",
   "execution_count": 42,
   "metadata": {
    "execution": {
     "iopub.execute_input": "2025-03-14T17:52:28.295505Z",
     "iopub.status.busy": "2025-03-14T17:52:28.295130Z",
     "iopub.status.idle": "2025-03-14T17:52:28.303041Z",
     "shell.execute_reply": "2025-03-14T17:52:28.302159Z",
     "shell.execute_reply.started": "2025-03-14T17:52:28.295473Z"
    },
    "trusted": true
   },
   "outputs": [],
   "source": [
    "def evaluate_spanbert(trainer, val_dataset, tokenizer, eval_subset):\n",
    "    print(\"\\nEvaluating with exact match on the validation set...\")\n",
    "    predictions = trainer.predict(val_dataset)\n",
    "    start_logits, end_logits = predictions.predictions\n",
    "    predictions_list = []\n",
    "    references_list = []\n",
    "\n",
    "    for i in range(len(val_dataset)):\n",
    "        # Avoid going out of bounds on the original eval_subset\n",
    "        if i >= len(eval_subset):\n",
    "            break\n",
    "\n",
    "        # Determine the best span\n",
    "        start_idx = int(torch.argmax(torch.tensor(start_logits[i])))\n",
    "        end_idx = int(torch.argmax(torch.tensor(end_logits[i])))\n",
    "\n",
    "        if end_idx < start_idx or start_idx == 0:\n",
    "            predictions_list.append(\"\")\n",
    "        else:\n",
    "            input_ids = val_dataset[i][\"input_ids\"]\n",
    "            pred_tokens = input_ids[start_idx:end_idx + 1]\n",
    "            pred_text = tokenizer.decode(pred_tokens, skip_special_tokens=True)\n",
    "            predictions_list.append(pred_text.strip())\n",
    "\n",
    "        # Reference\n",
    "        ref_answers = eval_subset[i][\"answers\"][\"text\"]\n",
    "        ref_text = ref_answers[0] if len(ref_answers) > 0 else \"\"\n",
    "        references_list.append(ref_text.strip())\n",
    "\n",
    "    # Clip both lists to the same length\n",
    "    min_length = min(len(predictions_list), len(references_list))\n",
    "    predictions_list = predictions_list[:min_length]\n",
    "    references_list = references_list[:min_length]\n",
    "\n",
    "    # Exact match metric\n",
    "    def exact_match_score(preds, refs):\n",
    "        assert len(preds) == len(refs), \"Lists must have the same length\"\n",
    "        matches = sum(p == r for p, r in zip(preds, refs))\n",
    "        return matches / len(refs) * 100\n",
    "\n",
    "    em_score = exact_match_score(predictions_list, references_list)\n",
    "    print(f\"Exact Match (EM) Score: {em_score:.2f}%\")\n",
    "    return em_score"
   ]
  },
  {
   "cell_type": "code",
   "execution_count": 43,
   "metadata": {
    "execution": {
     "iopub.execute_input": "2025-03-14T17:53:00.390792Z",
     "iopub.status.busy": "2025-03-14T17:53:00.390490Z",
     "iopub.status.idle": "2025-03-14T17:53:26.624653Z",
     "shell.execute_reply": "2025-03-14T17:53:26.623720Z",
     "shell.execute_reply.started": "2025-03-14T17:53:00.390771Z"
    },
    "trusted": true
   },
   "outputs": [
    {
     "name": "stdout",
     "output_type": "stream",
     "text": [
      "\n",
      "Evaluating with exact match on the validation set...\n"
     ]
    },
    {
     "data": {
      "text/html": [],
      "text/plain": [
       "<IPython.core.display.HTML object>"
      ]
     },
     "metadata": {},
     "output_type": "display_data"
    },
    {
     "name": "stdout",
     "output_type": "stream",
     "text": [
      "Exact Match (EM) Score: 49.85%\n",
      "Final EM score on validation set: 49.85%\n"
     ]
    }
   ],
   "source": [
    "# After you have trained the model with trainer.train(), simply do:\n",
    "em_score = evaluate_spanbert(trainer, val_dataset, tokenizer, eval_subset)\n",
    "print(f\"Final EM score on validation set: {em_score:.2f}%\")"
   ]
  },
  {
   "cell_type": "code",
   "execution_count": 49,
   "metadata": {
    "execution": {
     "iopub.execute_input": "2025-03-14T18:01:57.645140Z",
     "iopub.status.busy": "2025-03-14T18:01:57.644850Z",
     "iopub.status.idle": "2025-03-14T18:01:57.850069Z",
     "shell.execute_reply": "2025-03-14T18:01:57.849223Z",
     "shell.execute_reply.started": "2025-03-14T18:01:57.645118Z"
    },
    "trusted": true
   },
   "outputs": [
    {
     "data": {
      "image/png": "[encoded data removed]",
      "text/plain": [
       "<Figure size 800x500 with 1 Axes>"
      ]
     },
     "metadata": {},
     "output_type": "display_data"
    }
   ],
   "source": [
    "import numpy as np\n",
    "\n",
    "# Ensure validation loss has the same length as training loss using interpolation\n",
    "eval_loss_interp = np.interp(\n",
    "    range(1, len(train_loss) + 1),  # Target range (same as train_loss)\n",
    "    np.linspace(1, len(train_loss), num=len(eval_loss)),  # Current eval_loss positions\n",
    "    eval_loss  # Actual validation loss values\n",
    ")\n",
    "\n",
    "plt.figure(figsize=(8, 5))\n",
    "plt.plot(range(1, len(train_loss) + 1), train_loss, label=\"Training Loss\")\n",
    "plt.plot(range(1, len(train_loss) + 1), eval_loss_interp, label=\"Validation Loss (Interpolated)\")\n",
    "plt.title(\"SpanBERT Training and Validation Loss\")\n",
    "plt.xlabel(\"Steps / Epochs\")\n",
    "plt.ylabel(\"Loss\")\n",
    "plt.legend()\n",
    "plt.tight_layout()\n",
    "plt.show()\n"
   ]
  },
  {
   "cell_type": "code",
   "execution_count": 50,
   "metadata": {
    "execution": {
     "iopub.execute_input": "2025-03-14T18:03:25.800642Z",
     "iopub.status.busy": "2025-03-14T18:03:25.800287Z",
     "iopub.status.idle": "2025-03-14T18:03:25.805161Z",
     "shell.execute_reply": "2025-03-14T18:03:25.804246Z",
     "shell.execute_reply.started": "2025-03-14T18:03:25.800616Z"
    },
    "trusted": true
   },
   "outputs": [
    {
     "name": "stdout",
     "output_type": "stream",
     "text": [
      "[1.1015753746032715, 1.0996208190917969, 1.0996086597442627, 1.099609375, 1.0995709896087646, 1.0996086597442627]\n"
     ]
    }
   ],
   "source": [
    "print(eval_loss)\n"
   ]
  },
  {
   "cell_type": "markdown",
   "metadata": {},
   "source": [
    "# Spanbert-crf****"
   ]
  },
  {
   "cell_type": "code",
   "execution_count": null,
   "metadata": {
    "execution": {
     "iopub.execute_input": "2025-03-15T07:02:29.837709Z",
     "iopub.status.busy": "2025-03-15T07:02:29.837368Z",
     "iopub.status.idle": "2025-03-15T08:07:24.604622Z",
     "shell.execute_reply": "2025-03-15T08:07:24.602650Z",
     "shell.execute_reply.started": "2025-03-15T07:02:29.837678Z"
    },
    "trusted": true
   },
   "outputs": [
    {
     "name": "stdout",
     "output_type": "stream",
     "text": [
      "Using device: cuda\n",
      "Loading SQuAD v2 dataset...\n",
      "Train samples: 15000, Validation samples: 2000\n"
     ]
    },
    {
     "data": {
      "application/vnd.jupyter.widget-view+json": {
       "model_id": "7036fe1510404dd3a8bd25d5089a64f3",
       "version_major": 2,
       "version_minor": 0
      },
      "text/plain": [
       "Map:   0%|          | 0/15000 [00:00<?, ? examples/s]"
      ]
     },
     "metadata": {},
     "output_type": "display_data"
    },
    {
     "data": {
      "application/vnd.jupyter.widget-view+json": {
       "model_id": "8a31c3bc65a2463aa5237f3d7e946490",
       "version_major": 2,
       "version_minor": 0
      },
      "text/plain": [
       "Map:   0%|          | 0/2000 [00:00<?, ? examples/s]"
      ]
     },
     "metadata": {},
     "output_type": "display_data"
    },
    {
     "name": "stdout",
     "output_type": "stream",
     "text": [
      "\n",
      "Dataset columns:\n",
      "Train: ['input_ids', 'token_type_ids', 'attention_mask', 'start_positions', 'end_positions']\n",
      "Validation: ['input_ids', 'token_type_ids', 'attention_mask', 'start_positions', 'end_positions']\n"
     ]
    },
    {
     "name": "stderr",
     "output_type": "stream",
     "text": [
      "Some weights of BertForQuestionAnswering were not initialized from the model checkpoint at SpanBERT/spanbert-base-cased and are newly initialized: ['qa_outputs.bias', 'qa_outputs.weight']\n",
      "You should probably TRAIN this model on a down-stream task to be able to use it for predictions and inference.\n",
      "/usr/local/lib/python3.10/dist-packages/transformers/training_args.py:1575: FutureWarning: `evaluation_strategy` is deprecated and will be removed in version 4.46 of 🤗 Transformers. Use `eval_strategy` instead\n",
      "  warnings.warn(\n"
     ]
    },
    {
     "name": "stdout",
     "output_type": "stream",
     "text": [
      "\n",
      "Training SpanBERT-CRF model...\n"
     ]
    },
    {
     "data": {
      "text/html": [
       "\n",
       "    <div>\n",
       "      \n",
       "      <progress value='11472' max='11472' style='width:300px; height:20px; vertical-align: middle;'></progress>\n",
       "      [11472/11472 1:04:11, Epoch 6/6]\n",
       "    </div>\n",
       "    <table border=\"1\" class=\"dataframe\">\n",
       "  <thead>\n",
       " <tr style=\"text-align: left;\">\n",
       "      <th>Epoch</th>\n",
       "      <th>Training Loss</th>\n",
       "      <th>Validation Loss</th>\n",
       "    </tr>\n",
       "  </thead>\n",
       "  <tbody>\n",
       "    <tr>\n",
       "      <td>1</td>\n",
       "      <td>5.951900</td>\n",
       "      <td>No log</td>\n",
       "    </tr>\n",
       "    <tr>\n",
       "      <td>2</td>\n",
       "      <td>5.952600</td>\n",
       "      <td>No log</td>\n",
       "    </tr>\n",
       "    <tr>\n",
       "      <td>3</td>\n",
       "      <td>5.951800</td>\n",
       "      <td>No log</td>\n",
       "    </tr>\n",
       "    <tr>\n",
       "      <td>4</td>\n",
       "      <td>5.951100</td>\n",
       "      <td>No log</td>\n",
       "    </tr>\n",
       "    <tr>\n",
       "      <td>5</td>\n",
       "      <td>5.951000</td>\n",
       "      <td>No log</td>\n",
       "    </tr>\n",
       "    <tr>\n",
       "      <td>6</td>\n",
       "      <td>5.951100</td>\n",
       "      <td>No log</td>\n",
       "    </tr>\n",
       "  </tbody>\n",
       "</table><p>"
      ],
      "text/plain": [
       "<IPython.core.display.HTML object>"
      ]
     },
     "metadata": {},
     "output_type": "display_data"
    },
    {
     "name": "stdout",
     "output_type": "stream",
     "text": [
      "\n",
      "Evaluating SpanBERT-CRF with exact match...\n"
     ]
    },
    {
     "data": {
      "text/html": [],
      "text/plain": [
       "<IPython.core.display.HTML object>"
      ]
     },
     "metadata": {},
     "output_type": "display_data"
    },
    {
     "ename": "ValueError",
     "evalue": "too many values to unpack (expected 2)",
     "output_type": "error",
     "traceback": [
      "\u001b[0;31m---------------------------------------------------------------------------\u001b[0m",
      "\u001b[0;31mValueError\u001b[0m                                Traceback (most recent call last)",
      "\u001b[0;32m<ipython-input-36-35d59f7496ff>\u001b[0m in \u001b[0;36m<cell line: 228>\u001b[0;34m()\u001b[0m\n\u001b[1;32m    226\u001b[0m \u001b[0;34m\u001b[0m\u001b[0m\n\u001b[1;32m    227\u001b[0m \u001b[0;31m# Run evaluation\u001b[0m\u001b[0;34m\u001b[0m\u001b[0;34m\u001b[0m\u001b[0m\n\u001b[0;32m--> 228\u001b[0;31m \u001b[0mcrf_em_score\u001b[0m \u001b[0;34m=\u001b[0m \u001b[0mevaluate_spanbert_crf\u001b[0m\u001b[0;34m(\u001b[0m\u001b[0mcrf_trainer\u001b[0m\u001b[0;34m,\u001b[0m \u001b[0mval_dataset\u001b[0m\u001b[0;34m,\u001b[0m \u001b[0meval_subset\u001b[0m\u001b[0;34m,\u001b[0m \u001b[0mtokenizer\u001b[0m\u001b[0;34m)\u001b[0m\u001b[0;34m\u001b[0m\u001b[0;34m\u001b[0m\u001b[0m\n\u001b[0m\u001b[1;32m    229\u001b[0m \u001b[0;34m\u001b[0m\u001b[0m\n\u001b[1;32m    230\u001b[0m \u001b[0;31m# Plot losses\u001b[0m\u001b[0;34m\u001b[0m\u001b[0;34m\u001b[0m\u001b[0m\n",
      "\u001b[0;32m<ipython-input-36-35d59f7496ff>\u001b[0m in \u001b[0;36mevaluate_spanbert_crf\u001b[0;34m(trainer, eval_ds, raw_eval_ds, tokenizer)\u001b[0m\n\u001b[1;32m    185\u001b[0m     \u001b[0mprint\u001b[0m\u001b[0;34m(\u001b[0m\u001b[0;34m\"\\nEvaluating SpanBERT-CRF with exact match...\"\u001b[0m\u001b[0;34m)\u001b[0m\u001b[0;34m\u001b[0m\u001b[0;34m\u001b[0m\u001b[0m\n\u001b[1;32m    186\u001b[0m     \u001b[0mpredictions\u001b[0m \u001b[0;34m=\u001b[0m \u001b[0mtrainer\u001b[0m\u001b[0;34m.\u001b[0m\u001b[0mpredict\u001b[0m\u001b[0;34m(\u001b[0m\u001b[0meval_ds\u001b[0m\u001b[0;34m)\u001b[0m\u001b[0;34m\u001b[0m\u001b[0;34m\u001b[0m\u001b[0m\n\u001b[0;32m--> 187\u001b[0;31m     \u001b[0mstart_logits\u001b[0m\u001b[0;34m,\u001b[0m \u001b[0mend_logits\u001b[0m \u001b[0;34m=\u001b[0m \u001b[0mpredictions\u001b[0m\u001b[0;34m.\u001b[0m\u001b[0mpredictions\u001b[0m\u001b[0;34m\u001b[0m\u001b[0;34m\u001b[0m\u001b[0m\n\u001b[0m\u001b[1;32m    188\u001b[0m \u001b[0;34m\u001b[0m\u001b[0m\n\u001b[1;32m    189\u001b[0m     \u001b[0mpredictions_list\u001b[0m \u001b[0;34m=\u001b[0m \u001b[0;34m[\u001b[0m\u001b[0;34m]\u001b[0m\u001b[0;34m\u001b[0m\u001b[0;34m\u001b[0m\u001b[0m\n",
      "\u001b[0;31mValueError\u001b[0m: too many values to unpack (expected 2)"
     ]
    }
   ],
   "source": [
    "import numpy as np\n",
    "import random\n",
    "import torch\n",
    "import torch.nn as nn\n",
    "import matplotlib.pyplot as plt\n",
    "from datasets import load_dataset\n",
    "from transformers import (\n",
    "    AutoTokenizer, \n",
    "    AutoModelForQuestionAnswering,\n",
    "    Trainer, \n",
    "    TrainingArguments,\n",
    "    default_data_collator\n",
    ")\n",
    "\n",
    "# Set seed for reproducibility\n",
    "def set_seed(seed=42):\n",
    "    random.seed(seed)\n",
    "    np.random.seed(seed)\n",
    "    torch.manual_seed(seed)\n",
    "    if torch.cuda.is_available():\n",
    "        torch.cuda.manual_seed_all(seed)\n",
    "\n",
    "set_seed()\n",
    "device = torch.device(\"cuda\" if torch.cuda.is_available() else \"cpu\")\n",
    "print(f\"Using device: {device}\")\n",
    "\n",
    "# Load dataset\n",
    "print(\"Loading SQuAD v2 dataset...\")\n",
    "dataset = load_dataset(\"squad_v2\")\n",
    "train_subset = dataset[\"train\"].select(range(15000))\n",
    "eval_subset = dataset[\"validation\"].select(range(2000))\n",
    "print(f\"Train samples: {len(train_subset)}, Validation samples: {len(eval_subset)}\")\n",
    "\n",
    "# Tokenizer\n",
    "model_checkpoint = \"SpanBERT/spanbert-base-cased\"\n",
    "tokenizer = AutoTokenizer.from_pretrained(model_checkpoint)\n",
    "\n",
    "# Preprocessing function\n",
    "def preprocess_function_crf(examples):\n",
    "    questions = [q.strip() for q in examples[\"question\"]]\n",
    "    contexts = examples[\"context\"]\n",
    "    \n",
    "    tokenized_examples = tokenizer(\n",
    "        questions,\n",
    "        contexts,\n",
    "        truncation=\"only_second\",\n",
    "        max_length=384,\n",
    "        stride=128,\n",
    "        return_overflowing_tokens=True,\n",
    "        return_offsets_mapping=True,\n",
    "        padding=\"max_length\",\n",
    "    )\n",
    "    \n",
    "    sample_mapping = tokenized_examples.pop(\"overflow_to_sample_mapping\")\n",
    "    offset_mapping = tokenized_examples.pop(\"offset_mapping\")\n",
    "    \n",
    "    start_positions = []\n",
    "    end_positions = []\n",
    "    \n",
    "    for i, offsets in enumerate(offset_mapping):\n",
    "        cls_index = tokenized_examples[\"input_ids\"][i].index(tokenizer.cls_token_id)\n",
    "        sample_idx = sample_mapping[i]\n",
    "        answers = examples[\"answers\"][sample_idx]\n",
    "        \n",
    "        if len(answers[\"answer_start\"]) == 0:\n",
    "            start_positions.append(cls_index)\n",
    "            end_positions.append(cls_index)\n",
    "        else:\n",
    "            start_char = answers[\"answer_start\"][0]\n",
    "            end_char = start_char + len(answers[\"text\"][0])\n",
    "            \n",
    "            token_start_idx = 0\n",
    "            while token_start_idx < len(offsets) and offsets[token_start_idx][0] <= start_char:\n",
    "                token_start_idx += 1\n",
    "            token_start_idx -= 1\n",
    "            \n",
    "            token_end_idx = len(offsets) - 1\n",
    "            while token_end_idx >= 0 and offsets[token_end_idx][1] >= end_char:\n",
    "                token_end_idx -= 1\n",
    "            token_end_idx += 1\n",
    "            \n",
    "            if token_start_idx < 0 or token_end_idx >= len(offsets):\n",
    "                start_positions.append(cls_index)\n",
    "                end_positions.append(cls_index)\n",
    "            else:\n",
    "                start_positions.append(token_start_idx)\n",
    "                end_positions.append(token_end_idx)\n",
    "    \n",
    "    tokenized_examples[\"start_positions\"] = start_positions\n",
    "    tokenized_examples[\"end_positions\"] = end_positions\n",
    "    return tokenized_examples\n",
    "\n",
    "# Process datasets\n",
    "train_dataset = train_subset.map(\n",
    "    preprocess_function_crf,\n",
    "    batched=True,\n",
    "    remove_columns=train_subset.column_names\n",
    ")\n",
    "val_dataset = eval_subset.map(\n",
    "    preprocess_function_crf,\n",
    "    batched=True,\n",
    "    remove_columns=eval_subset.column_names\n",
    ")\n",
    "\n",
    "print(\"\\nDataset columns:\")\n",
    "print(f\"Train: {train_dataset.column_names}\")\n",
    "print(f\"Validation: {val_dataset.column_names}\")\n",
    "\n",
    "# SpanBERT-CRF model\n",
    "class SpanBERTCRF(nn.Module):\n",
    "    def __init__(self, checkpoint):\n",
    "        super().__init__()\n",
    "        self.base_model = AutoModelForQuestionAnswering.from_pretrained(checkpoint)\n",
    "    \n",
    "    def forward(self, input_ids=None, attention_mask=None, token_type_ids=None,\n",
    "               start_positions=None, end_positions=None, **kwargs):\n",
    "        outputs = self.base_model(\n",
    "            input_ids=input_ids,\n",
    "            attention_mask=attention_mask,\n",
    "            token_type_ids=token_type_ids,\n",
    "            start_positions=start_positions,\n",
    "            end_positions=end_positions,\n",
    "            return_dict=True,\n",
    "            **kwargs\n",
    "        )\n",
    "        \n",
    "        # Get logits\n",
    "        start_logits = outputs.start_logits\n",
    "        end_logits = outputs.end_logits\n",
    "        \n",
    "        # Apply CRF-like constraint (end >= start)\n",
    "        # Simplified to avoid nested loops\n",
    "        batch_size, seq_len = start_logits.shape\n",
    "        for e_idx in range(seq_len):\n",
    "            # All positions where end < start get large negative score\n",
    "            end_logits[:, :e_idx] -= 1000.0\n",
    "            \n",
    "        outputs.start_logits = start_logits\n",
    "        outputs.end_logits = end_logits\n",
    "        return outputs\n",
    "\n",
    "# Create model\n",
    "crf_model = SpanBERTCRF(model_checkpoint).to(device)\n",
    "\n",
    "# Custom compute metrics that ensures eval_loss is returned\n",
    "def compute_metrics(eval_pred):\n",
    "    # Return an empty dict to avoid errors\n",
    "    # The Trainer will still compute eval_loss internally\n",
    "    return {}\n",
    "\n",
    "# CRITICAL FIX: Use NO_METRIC instead of eval_loss for best model selection\n",
    "training_args = TrainingArguments(\n",
    "    output_dir=\"./results_spanbert_crf\",\n",
    "    evaluation_strategy=\"epoch\",  # Changed to epoch for simplicity\n",
    "    save_strategy=\"epoch\",        # Changed to epoch for simplicity\n",
    "    num_train_epochs=6,\n",
    "    learning_rate=3e-5,\n",
    "    per_device_train_batch_size=8,\n",
    "    per_device_eval_batch_size=8,\n",
    "    weight_decay=0.01,\n",
    "    logging_dir=\"./logs_spanbert_crf\",\n",
    "    logging_steps=100,\n",
    "    fp16=torch.cuda.is_available(),\n",
    "    save_total_limit=2,\n",
    "    load_best_model_at_end=False,  # Temporarily disabled \n",
    "    report_to=\"none\"\n",
    ")\n",
    "\n",
    "# Create trainer\n",
    "crf_trainer = Trainer(\n",
    "    model=crf_model,\n",
    "    args=training_args,\n",
    "    train_dataset=train_dataset,\n",
    "    eval_dataset=val_dataset,\n",
    "    data_collator=default_data_collator,\n",
    "    compute_metrics=compute_metrics,  # Use our custom metrics function\n",
    ")\n",
    "\n",
    "print(\"\\nTraining SpanBERT-CRF model...\")\n",
    "crf_train_result = crf_trainer.train()\n",
    "crf_trainer.save_model(\"./spanbert_crf_finetuned\")\n",
    "\n",
    "# Evaluate with exact match\n",
    "def evaluate_spanbert_crf(trainer, eval_ds, raw_eval_ds, tokenizer):\n",
    "    print(\"\\nEvaluating SpanBERT-CRF with exact match...\")\n",
    "    predictions = trainer.predict(eval_ds)\n",
    "    start_logits, end_logits = predictions.predictions\n",
    "    \n",
    "    predictions_list = []\n",
    "    references_list = []\n",
    "    \n",
    "    for i in range(len(eval_ds)):\n",
    "        if i >= len(raw_eval_ds):\n",
    "            break\n",
    "            \n",
    "        best_start = int(torch.argmax(torch.tensor(start_logits[i])))\n",
    "        best_end = int(torch.argmax(torch.tensor(end_logits[i])))\n",
    "        \n",
    "        if best_end < best_start or best_start == 0:\n",
    "            predictions_list.append(\"\")\n",
    "        else:\n",
    "            input_ids = eval_ds[i][\"input_ids\"]\n",
    "            pred_tokens = input_ids[best_start:best_end+1]\n",
    "            pred_text = tokenizer.decode(pred_tokens, skip_special_tokens=True)\n",
    "            predictions_list.append(pred_text.strip())\n",
    "            \n",
    "        # Reference answer\n",
    "        ref_answers = raw_eval_ds[i][\"answers\"][\"text\"]\n",
    "        ref_text = ref_answers[0] if len(ref_answers) > 0 else \"\"\n",
    "        references_list.append(ref_text.strip())\n",
    "    \n",
    "    # Exact match metric\n",
    "    def exact_match_score(predictions, references):\n",
    "        assert len(predictions) == len(references), \"Lists must have same length\"\n",
    "        matches = sum(p == r for p, r in zip(predictions, references))\n",
    "        return matches / len(references) * 100\n",
    "    \n",
    "    # Ensure lists have same length\n",
    "    min_len = min(len(predictions_list), len(references_list))\n",
    "    predictions_list = predictions_list[:min_len]\n",
    "    references_list = references_list[:min_len]\n",
    "    \n",
    "    em_score = exact_match_score(predictions_list, references_list)\n",
    "    print(f\"Exact Match (EM) Score: {em_score:.2f}%\")\n",
    "    return em_score\n",
    "\n",
    "# Run evaluation\n",
    "crf_em_score = evaluate_spanbert_crf(crf_trainer, val_dataset, eval_subset, tokenizer)\n",
    "\n",
    "# Plot losses\n",
    "history = crf_trainer.state.log_history\n",
    "train_loss_values = [h[\"loss\"] for h in history if \"loss\" in h and \"eval\" not in h]\n",
    "eval_loss_values = [h[\"eval_loss\"] for h in history if \"eval_loss\" in h]\n",
    "\n",
    "plt.figure(figsize=(8,5))\n",
    "plt.plot(range(1, len(train_loss_values) + 1), train_loss_values, label=\"Training Loss\")\n",
    "if eval_loss_values:  # Only plot if values exist\n",
    "    plt.plot(range(1, len(eval_loss_values) + 1), eval_loss_values, label=\"Validation Loss\")\n",
    "plt.title(\"SpanBERT-CRF Training and Validation Loss\")\n",
    "plt.xlabel(\"Logging Steps\")\n",
    "plt.ylabel(\"Loss\")\n",
    "plt.legend()\n",
    "plt.grid(True)\n",
    "plt.show()\n",
    "\n",
    "print(\"\\nSpanBERT-CRF fine-tuning completed.\")\n",
    "print(f\"Final Exact Match Score on Validation: {crf_em_score:.2f}%\")"
   ]
  },
  {
   "cell_type": "code",
   "execution_count": 41,
   "metadata": {
    "execution": {
     "iopub.execute_input": "2025-03-15T08:35:52.319988Z",
     "iopub.status.busy": "2025-03-15T08:35:52.319692Z",
     "iopub.status.idle": "2025-03-15T08:35:52.330162Z",
     "shell.execute_reply": "2025-03-15T08:35:52.329197Z",
     "shell.execute_reply.started": "2025-03-15T08:35:52.319965Z"
    },
    "trusted": true
   },
   "outputs": [],
   "source": [
    "def evaluate_spanbert_crf(trainer, eval_ds, raw_eval_ds, tokenizer):\n",
    "    print(\"\\nEvaluating SpanBERT-CRF with exact match...\")\n",
    "    prediction_output = trainer.predict(eval_ds)\n",
    "    \n",
    "    # Print prediction shape to debug\n",
    "    print(f\"Prediction output type: {type(prediction_output.predictions)}\")\n",
    "    \n",
    "    # Handle prediction output correctly based on shape\n",
    "    if isinstance(prediction_output.predictions, tuple):\n",
    "        # It's a tuple, but may have more than 2 elements\n",
    "        print(f\"Tuple length: {len(prediction_output.predictions)}\")\n",
    "        # For QA models, typically first two elements are start/end logits\n",
    "        start_logits = prediction_output.predictions[0]\n",
    "        end_logits = prediction_output.predictions[1]\n",
    "    else:\n",
    "        # Handle array case\n",
    "        predictions = prediction_output.predictions\n",
    "        print(f\"Predictions shape: {predictions.shape}\")\n",
    "        \n",
    "        if len(predictions.shape) == 2:\n",
    "            # Only one set of predictions\n",
    "            start_logits = predictions\n",
    "            end_logits = predictions\n",
    "        else:\n",
    "            # Split first dimension if combined\n",
    "            start_logits = predictions[0]\n",
    "            end_logits = predictions[1] if len(predictions) > 1 else predictions[0]\n",
    "    \n",
    "    # Print key dimension information\n",
    "    print(f\"Start logits shape: {start_logits.shape}\")\n",
    "    print(f\"End logits shape: {end_logits.shape}\")\n",
    "    print(f\"Eval dataset length: {len(eval_ds)}\")\n",
    "    print(f\"Raw eval dataset length: {len(raw_eval_ds)}\")\n",
    "    \n",
    "    predictions_list = []\n",
    "    references_list = []\n",
    "    \n",
    "    # Iterate based on the length of the start_logits, not the dataset\n",
    "    num_predictions = len(start_logits)\n",
    "    for i in range(num_predictions):\n",
    "        # Make sure we don't go out of bounds\n",
    "        if i >= len(raw_eval_ds):\n",
    "            print(f\"Warning: Prediction index {i} exceeds raw dataset length {len(raw_eval_ds)}\")\n",
    "            break\n",
    "            \n",
    "        best_start = int(torch.argmax(torch.tensor(start_logits[i])))\n",
    "        best_end = int(torch.argmax(torch.tensor(end_logits[i])))\n",
    "        \n",
    "        if best_end < best_start or best_start == 0:\n",
    "            predictions_list.append(\"\")\n",
    "        else:\n",
    "            # Also check we don't go out of bounds in the eval_ds\n",
    "            if i < len(eval_ds):\n",
    "                input_ids = eval_ds[i][\"input_ids\"]\n",
    "                pred_tokens = input_ids[best_start:best_end+1]\n",
    "                pred_text = tokenizer.decode(pred_tokens, skip_special_tokens=True)\n",
    "                predictions_list.append(pred_text.strip())\n",
    "            else:\n",
    "                print(f\"Warning: Index {i} exceeds tokenized dataset length {len(eval_ds)}\")\n",
    "                predictions_list.append(\"\")\n",
    "            \n",
    "        # Reference answer\n",
    "        ref_answers = raw_eval_ds[i][\"answers\"][\"text\"]\n",
    "        ref_text = ref_answers[0] if len(ref_answers) > 0 else \"\"\n",
    "        references_list.append(ref_text.strip())\n",
    "    \n",
    "    # Exact match metric\n",
    "    def exact_match_score(predictions, references):\n",
    "        assert len(predictions) == len(references), \"Lists must have same length\"\n",
    "        matches = sum(p == r for p, r in zip(predictions, references))\n",
    "        return matches / len(references) * 100\n",
    "    \n",
    "    # Ensure lists have same length\n",
    "    min_len = min(len(predictions_list), len(references_list))\n",
    "    predictions_list = predictions_list[:min_len]\n",
    "    references_list = references_list[:min_len]\n",
    "    \n",
    "    print(f\"Number of predictions: {len(predictions_list)}\")\n",
    "    print(f\"Number of references: {len(references_list)}\")\n",
    "    \n",
    "    em_score = exact_match_score(predictions_list, references_list)\n",
    "    print(f\"Exact Match (EM) Score: {em_score:.2f}%\")\n",
    "    return em_score"
   ]
  },
  {
   "cell_type": "code",
   "execution_count": 42,
   "metadata": {
    "execution": {
     "iopub.execute_input": "2025-03-15T08:35:54.762534Z",
     "iopub.status.busy": "2025-03-15T08:35:54.762244Z",
     "iopub.status.idle": "2025-03-15T08:36:20.891501Z",
     "shell.execute_reply": "2025-03-15T08:36:20.890550Z",
     "shell.execute_reply.started": "2025-03-15T08:35:54.762510Z"
    },
    "trusted": true
   },
   "outputs": [
    {
     "name": "stdout",
     "output_type": "stream",
     "text": [
      "\n",
      "Evaluating SpanBERT-CRF with exact match...\n"
     ]
    },
    {
     "data": {
      "text/html": [],
      "text/plain": [
       "<IPython.core.display.HTML object>"
      ]
     },
     "metadata": {},
     "output_type": "display_data"
    },
    {
     "name": "stdout",
     "output_type": "stream",
     "text": [
      "Prediction output type: <class 'tuple'>\n",
      "Tuple length: 3\n",
      "Start logits shape: (251,)\n",
      "End logits shape: (2007, 384)\n",
      "Eval dataset length: 2007\n",
      "Raw eval dataset length: 2000\n",
      "Number of predictions: 251\n",
      "Number of references: 251\n",
      "Exact Match (EM) Score: 53.78%\n"
     ]
    }
   ],
   "source": [
    "# Run evaluation with the fixed function\n",
    "crf_em_score = evaluate_spanbert_crf(crf_trainer, val_dataset, eval_subset, tokenizer)"
   ]
  },
  {
   "cell_type": "code",
   "execution_count": 43,
   "metadata": {
    "execution": {
     "iopub.execute_input": "2025-03-15T08:36:47.183054Z",
     "iopub.status.busy": "2025-03-15T08:36:47.182762Z",
     "iopub.status.idle": "2025-03-15T08:36:47.597193Z",
     "shell.execute_reply": "2025-03-15T08:36:47.596447Z",
     "shell.execute_reply.started": "2025-03-15T08:36:47.183031Z"
    },
    "trusted": true
   },
   "outputs": [
    {
     "data": {
      "image/png": "[encoded data removed]",
      "text/plain": [
       "<Figure size 1000x600 with 1 Axes>"
      ]
     },
     "metadata": {},
     "output_type": "display_data"
    },
    {
     "name": "stdout",
     "output_type": "stream",
     "text": [
      "\n",
      "Training Loss Summary:\n",
      "Initial: 3.3360\n",
      "Final: 5.9511\n",
      "Minimum: 1.1169\n",
      "\n",
      "Validation Loss Summary:\n"
     ]
    }
   ],
   "source": [
    "import matplotlib.pyplot as plt\n",
    "\n",
    "# Extract losses from training history\n",
    "history = crf_trainer.state.log_history\n",
    "\n",
    "# Separate training and evaluation losses\n",
    "train_losses = []\n",
    "train_steps = []\n",
    "eval_losses = []\n",
    "eval_steps = []\n",
    "\n",
    "for entry in history:\n",
    "    # Training loss entries\n",
    "    if 'loss' in entry and 'eval_loss' not in entry:\n",
    "        train_losses.append(entry['loss'])\n",
    "        if 'step' in entry:\n",
    "            train_steps.append(entry['step'])\n",
    "        else:\n",
    "            train_steps.append(len(train_steps) + 1)\n",
    "    \n",
    "    # Evaluation loss entries\n",
    "    if 'eval_loss' in entry:\n",
    "        eval_losses.append(entry['eval_loss'])\n",
    "        if 'step' in entry:\n",
    "            eval_steps.append(entry['step'])\n",
    "        else:\n",
    "            eval_steps.append(len(eval_steps) + 1)\n",
    "\n",
    "# Create the plot\n",
    "plt.figure(figsize=(10, 6))\n",
    "\n",
    "# Plot training loss\n",
    "if train_losses:\n",
    "    plt.plot(train_steps, train_losses, 'b-', label='Training Loss')\n",
    "\n",
    "# Plot evaluation loss\n",
    "if eval_losses:\n",
    "    plt.plot(eval_steps, eval_losses, 'r-', label='Validation Loss')\n",
    "\n",
    "# Add labels and legend\n",
    "plt.title('SpanBERT-CRF Training and Validation Loss')\n",
    "plt.xlabel('Training Steps')\n",
    "plt.ylabel('Loss')\n",
    "plt.legend()\n",
    "plt.grid(True)\n",
    "\n",
    "# Add markers to evaluation points to make them more visible\n",
    "if eval_losses:\n",
    "    plt.plot(eval_steps, eval_losses, 'ro', markersize=4)\n",
    "\n",
    "plt.tight_layout()\n",
    "plt.savefig('spanbert_crf_loss_plot.png')\n",
    "plt.show()\n",
    "\n",
    "# Print summary statistics\n",
    "print(\"\\nTraining Loss Summary:\")\n",
    "if train_losses:\n",
    "    print(f\"Initial: {train_losses[0]:.4f}\")\n",
    "    print(f\"Final: {train_losses[-1]:.4f}\")\n",
    "    print(f\"Minimum: {min(train_losses):.4f}\")\n",
    "\n",
    "print(\"\\nValidation Loss Summary:\")\n",
    "if eval_losses:\n",
    "    print(f\"Initial: {eval_losses[0]:.4f}\")\n",
    "    print(f\"Final: {eval_losses[-1]:.4f}\")\n",
    "    print(f\"Minimum: {min(eval_losses):.4f}\")"
   ]
  },
  {
   "cell_type": "code",
   "execution_count": null,
   "metadata": {
    "trusted": true
   },
   "outputs": [],
   "source": []
  }
 ],
 "metadata": {
  "kaggle": {
   "accelerator": "gpu",
   "dataSources": [],
   "dockerImageVersionId": 30918,
   "isGpuEnabled": true,
   "isInternetEnabled": true,
   "language": "python",
   "sourceType": "notebook"
  },
  "kernelspec": {
   "display_name": "Python 3",
   "language": "python",
   "name": "python3"
  },
  "language_info": {
   "codemirror_mode": {
    "name": "ipython",
    "version": 3
   },
   "file_extension": ".py",
   "mimetype": "text/x-python",
   "name": "python",
   "nbconvert_exporter": "python",
   "pygments_lexer": "ipython3",
   "version": "3.10.12"
  }
 },
 "nbformat": 4,
 "nbformat_minor": 4
}
